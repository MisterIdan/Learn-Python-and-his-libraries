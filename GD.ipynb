{
 "cells": [
  {
   "cell_type": "code",
   "execution_count": 3,
   "metadata": {},
   "outputs": [],
   "source": [
    "from __future__ import print_function\n",
    "\n",
    "from ipywidgets import interact, interactive, fixed, interact_manual\n",
    "import ipywidgets as widgets\n",
    "\n",
    "import matplotlib.pyplot as plt\n",
    "import numpy as np\n",
    "from tqdm import tqdm"
   ]
  },
  {
   "cell_type": "code",
   "execution_count": 2,
   "metadata": {},
   "outputs": [
    {
     "data": {
      "application/vnd.jupyter.widget-view+json": {
       "model_id": "7a6c8463271c446f847b1e9d0551b6df",
       "version_major": 2,
       "version_minor": 0
      },
      "text/plain": [
       "interactive(children=(FloatSlider(value=1.0, description='lg_z', max=4.0, min=-0.5), Output()), _dom_classes=(…"
      ]
     },
     "metadata": {},
     "output_type": "display_data"
    }
   ],
   "source": [
    "@interact(lg_z=(-0.5,4.0,0.1))\n",
    "def f(lg_z=1.0):\n",
    "    z = 10 ** lg_z\n",
    "    x_min = 1.5 - 6/z\n",
    "    x_max = 1.5 + 6/z\n",
    "    l_min = 1.5 - 4/z\n",
    "    l_max = 1.5 + 4/z\n",
    "    xstep = (x_max - x_min)/100\n",
    "    lstep = (l_max - l_min)/100\n",
    "    \n",
    "    x = np.arange(x_min, x_max, xstep)\n",
    "    \n",
    "    plt.plot(x, np.sin(x), '-b')     \n",
    "    \n",
    "    plt.plot((l_min,l_max), (np.sin(l_min), np.sin(l_max)), '-r')\n",
    "    plt.plot((l_min,l_max), (np.sin(l_min), np.sin(l_min)), '-r')\n",
    "    plt.plot((l_max,l_max), (np.sin(l_min), np.sin(l_max)), '-r')\n",
    "    \n",
    "    yax = plt.ylim()    \n",
    "    \n",
    "    plt.text(l_max + 0.1/z, (np.sin(l_min) + np.sin(l_max)) / 2, \"$\\Delta y$\")\n",
    "    plt.text((l_min + l_max)/2, np.sin(l_min) - (yax[1]-yax[0]) / 20, \"$\\Delta x$\")\n",
    "    \n",
    "    plt.show()\n",
    "    \n",
    "    print('slope =', (np.sin(l_max) - np.sin(l_min)) / (l_max - l_min))"
   ]
  },
  {
   "cell_type": "code",
   "execution_count": 59,
   "metadata": {},
   "outputs": [],
   "source": [
    "def f(x):\n",
    "    return 10 * x**2\n",
    "\n",
    "def gradient_descent(alpha=0.0001, eps=0.01):\n",
    "    x_pred = 100  # начальная инициализация\n",
    "    x = 50  # начальная инициализация\n",
    "    for _ in tqdm(range(100000)):\n",
    "        print(\"Step:\", _, \"\\tX =\", round(x,5), \"\\tf(X) =\", round(f(x), 5)) \n",
    "        if np.sum((x - x_pred)**2) < eps**2:  # условие остановки\n",
    "            break\n",
    "        x_pred = x\n",
    "        x = x_pred - 20 * alpha * x_pred  # по формуле выше\n",
    "    return x"
   ]
  },
  {
   "cell_type": "code",
   "execution_count": 60,
   "metadata": {},
   "outputs": [
    {
     "name": "stderr",
     "output_type": "stream",
     "text": [
      "\n",
      "  0%|                                                                                       | 0/100000 [00:00<?, ?it/s]"
     ]
    },
    {
     "name": "stdout",
     "output_type": "stream",
     "text": [
      "Step: 0 \tX = 50 \tf(X) = 25000\n",
      "Step: 1 \tX = 49.9 \tf(X) = 24900.1\n",
      "Step: 2 \tX = 49.8002 \tf(X) = 24800.5992\n",
      "Step: 3 \tX = 49.7006 \tf(X) = 24701.49601\n",
      "Step: 4 \tX = 49.6012 \tf(X) = 24602.78883\n",
      "Step: 5 \tX = 49.502 \tf(X) = 24504.47608\n",
      "Step: 6 \tX = 49.40299 \tf(X) = 24406.5562\n",
      "Step: 7 \tX = 49.30419 \tf(X) = 24309.0276\n",
      "Step: 8 \tX = 49.20558 \tf(X) = 24211.88872\n",
      "Step: 9 \tX = 49.10717 \tf(X) = 24115.13802\n",
      "Step: 10 \tX = 49.00895 \tf(X) = 24018.77393\n"
     ]
    },
    {
     "name": "stderr",
     "output_type": "stream",
     "text": [
      "\n",
      "  0%|                                                                             | 11/100000 [00:00<15:45, 105.77it/s]"
     ]
    },
    {
     "name": "stdout",
     "output_type": "stream",
     "text": [
      "Step: 11 \tX = 48.91093 \tf(X) = 23922.79491\n",
      "Step: 12 \tX = 48.81311 \tf(X) = 23827.19942\n",
      "Step: 13 \tX = 48.71549 \tf(X) = 23731.98593\n",
      "Step: 14 \tX = 48.61806 \tf(X) = 23637.15291\n",
      "Step: 15 \tX = 48.52082 \tf(X) = 23542.69885\n",
      "Step: 16 \tX = 48.42378 \tf(X) = 23448.62222\n",
      "Step: 17 \tX = 48.32693 \tf(X) = 23354.92153\n",
      "Step: 18 \tX = 48.23028 \tf(X) = 23261.59526\n",
      "Step: 19 \tX = 48.13382 \tf(X) = 23168.64193\n",
      "Step: 20 \tX = 48.03755 \tf(X) = 23076.06004\n"
     ]
    },
    {
     "name": "stderr",
     "output_type": "stream",
     "text": [
      "\n",
      "  0%|                                                                             | 21/100000 [00:00<16:13, 102.69it/s]"
     ]
    },
    {
     "name": "stdout",
     "output_type": "stream",
     "text": [
      "Step: 21 \tX = 47.94147 \tf(X) = 22983.8481\n",
      "Step: 22 \tX = 47.84559 \tf(X) = 22892.00464\n",
      "Step: 23 \tX = 47.7499 \tf(X) = 22800.52819\n",
      "Step: 24 \tX = 47.6544 \tf(X) = 22709.41728\n",
      "Step: 25 \tX = 47.55909 \tf(X) = 22618.67045\n",
      "Step: 26 \tX = 47.46397 \tf(X) = 22528.28624\n",
      "Step: 27 \tX = 47.36904 \tf(X) = 22438.26321\n",
      "Step: 28 \tX = 47.27431 \tf(X) = 22348.59991\n",
      "Step: 29 \tX = 47.17976 \tf(X) = 22259.29491\n",
      "Step: 30 \tX = 47.0854 \tf(X) = 22170.34676\n"
     ]
    },
    {
     "name": "stderr",
     "output_type": "stream",
     "text": [
      "\n",
      "  0%|                                                                             | 31/100000 [00:00<16:33, 100.64it/s]"
     ]
    },
    {
     "name": "stdout",
     "output_type": "stream",
     "text": [
      "Step: 31 \tX = 46.99123 \tf(X) = 22081.75406\n",
      "Step: 32 \tX = 46.89724 \tf(X) = 21993.51537\n",
      "Step: 33 \tX = 46.80345 \tf(X) = 21905.62928\n",
      "Step: 34 \tX = 46.70984 \tf(X) = 21818.09439\n",
      "Step: 35 \tX = 46.61642 \tf(X) = 21730.90928\n",
      "Step: 36 \tX = 46.52319 \tf(X) = 21644.07257\n",
      "Step: 37 \tX = 46.43014 \tf(X) = 21557.58285\n",
      "Step: 38 \tX = 46.33728 \tf(X) = 21471.43875\n",
      "Step: 39 \tX = 46.24461 \tf(X) = 21385.63888\n"
     ]
    },
    {
     "name": "stderr",
     "output_type": "stream",
     "text": [
      "\n",
      "  0%|                                                                              | 40/100000 [00:00<17:45, 93.85it/s]"
     ]
    },
    {
     "name": "stdout",
     "output_type": "stream",
     "text": [
      "Step: 40 \tX = 46.15212 \tf(X) = 21300.18187\n",
      "Step: 41 \tX = 46.05982 \tf(X) = 21215.06634\n",
      "Step: 42 \tX = 45.9677 \tf(X) = 21130.29094\n",
      "Step: 43 \tX = 45.87576 \tf(X) = 21045.8543\n",
      "Step: 44 \tX = 45.78401 \tf(X) = 20961.75506\n",
      "Step: 45 \tX = 45.69244 \tf(X) = 20877.99189\n",
      "Step: 46 \tX = 45.60106 \tf(X) = 20794.56343\n",
      "Step: 47 \tX = 45.50985 \tf(X) = 20711.46836\n",
      "Step: 48 \tX = 45.41883 \tf(X) = 20628.70533\n",
      "Step: 49 \tX = 45.328 \tf(X) = 20546.27302\n",
      "Step: 50 \tX = 45.23734 \tf(X) = 20464.17012\n"
     ]
    },
    {
     "name": "stderr",
     "output_type": "stream",
     "text": [
      "\n",
      "  0%|                                                                              | 51/100000 [00:00<17:09, 97.13it/s]"
     ]
    },
    {
     "name": "stdout",
     "output_type": "stream",
     "text": [
      "Step: 51 \tX = 45.14687 \tf(X) = 20382.39529\n",
      "Step: 52 \tX = 45.05657 \tf(X) = 20300.94724\n",
      "Step: 53 \tX = 44.96646 \tf(X) = 20219.82466\n",
      "Step: 54 \tX = 44.87653 \tf(X) = 20139.02624\n",
      "Step: 55 \tX = 44.78677 \tf(X) = 20058.55069\n",
      "Step: 56 \tX = 44.6972 \tf(X) = 19978.39672\n",
      "Step: 57 \tX = 44.60781 \tf(X) = 19898.56305\n",
      "Step: 58 \tX = 44.51859 \tf(X) = 19819.04839\n",
      "Step: 59 \tX = 44.42955 \tf(X) = 19739.85147\n"
     ]
    },
    {
     "name": "stderr",
     "output_type": "stream",
     "text": [
      "\n",
      "  0%|                                                                              | 60/100000 [00:00<20:49, 79.96it/s]"
     ]
    },
    {
     "name": "stdout",
     "output_type": "stream",
     "text": [
      "Step: 60 \tX = 44.34069 \tf(X) = 19660.97102\n",
      "Step: 61 \tX = 44.25201 \tf(X) = 19582.40578\n",
      "Step: 62 \tX = 44.16351 \tf(X) = 19504.15449\n",
      "Step: 63 \tX = 44.07518 \tf(X) = 19426.21589\n",
      "Step: 64 \tX = 43.98703 \tf(X) = 19348.58873\n",
      "Step: 65 \tX = 43.89906 \tf(X) = 19271.27177\n",
      "Step: 66 \tX = 43.81126 \tf(X) = 19194.26377\n",
      "Step: 67 \tX = 43.72364 \tf(X) = 19117.56349\n",
      "Step: 68 \tX = 43.63619 \tf(X) = 19041.16971\n",
      "Step: 69 \tX = 43.54892 \tf(X) = 18965.08119\n",
      "Step: 70 \tX = 43.46182 \tf(X) = 18889.29673\n",
      "Step: 71 \tX = 43.37489 \tf(X) = 18813.8151\n"
     ]
    },
    {
     "name": "stderr",
     "output_type": "stream",
     "text": [
      "\n",
      "  0%|                                                                              | 72/100000 [00:00<19:02, 87.49it/s]"
     ]
    },
    {
     "name": "stdout",
     "output_type": "stream",
     "text": [
      "Step: 72 \tX = 43.28815 \tf(X) = 18738.63509\n",
      "Step: 73 \tX = 43.20157 \tf(X) = 18663.75551\n",
      "Step: 74 \tX = 43.11517 \tf(X) = 18589.17514\n",
      "Step: 75 \tX = 43.02894 \tf(X) = 18514.8928\n",
      "Step: 76 \tX = 42.94288 \tf(X) = 18440.90729\n",
      "Step: 77 \tX = 42.85699 \tf(X) = 18367.21742\n",
      "Step: 78 \tX = 42.77128 \tf(X) = 18293.82202\n",
      "Step: 79 \tX = 42.68574 \tf(X) = 18220.71991\n",
      "Step: 80 \tX = 42.60036 \tf(X) = 18147.90991\n"
     ]
    },
    {
     "name": "stderr",
     "output_type": "stream",
     "text": [
      "\n",
      "  0%|                                                                              | 81/100000 [00:00<22:12, 75.00it/s]"
     ]
    },
    {
     "name": "stdout",
     "output_type": "stream",
     "text": [
      "Step: 81 \tX = 42.51516 \tf(X) = 18075.39086\n",
      "Step: 82 \tX = 42.43013 \tf(X) = 18003.1616\n",
      "Step: 83 \tX = 42.34527 \tf(X) = 17931.22097\n",
      "Step: 84 \tX = 42.26058 \tf(X) = 17859.56781\n",
      "Step: 85 \tX = 42.17606 \tf(X) = 17788.20097\n",
      "Step: 86 \tX = 42.09171 \tf(X) = 17717.11932\n",
      "Step: 87 \tX = 42.00753 \tf(X) = 17646.32171\n",
      "Step: 88 \tX = 41.92351 \tf(X) = 17575.80701\n",
      "Step: 89 \tX = 41.83966 \tf(X) = 17505.57409\n",
      "Step: 90 \tX = 41.75598 \tf(X) = 17435.62181\n",
      "Step: 91 \tX = 41.67247 \tf(X) = 17365.94907\n",
      "Step: 92 \tX = 41.58913 \tf(X) = 17296.55474\n"
     ]
    },
    {
     "name": "stderr",
     "output_type": "stream",
     "text": [
      "\n",
      "  0%|                                                                              | 93/100000 [00:01<19:54, 83.62it/s]"
     ]
    },
    {
     "name": "stdout",
     "output_type": "stream",
     "text": [
      "Step: 93 \tX = 41.50595 \tf(X) = 17227.4377\n",
      "Step: 94 \tX = 41.42294 \tf(X) = 17158.59686\n",
      "Step: 95 \tX = 41.34009 \tf(X) = 17090.03111\n",
      "Step: 96 \tX = 41.25741 \tf(X) = 17021.73934\n",
      "Step: 97 \tX = 41.1749 \tf(X) = 16953.72047\n",
      "Step: 98 \tX = 41.09255 \tf(X) = 16885.97341\n",
      "Step: 99 \tX = 41.01036 \tf(X) = 16818.49706\n",
      "Step: 100 \tX = 40.92834 \tf(X) = 16751.29034\n",
      "Step: 101 \tX = 40.84648 \tf(X) = 16684.35219\n"
     ]
    },
    {
     "name": "stderr",
     "output_type": "stream",
     "text": [
      "\n",
      "  0%|                                                                             | 102/100000 [00:01<22:32, 73.87it/s]"
     ]
    },
    {
     "name": "stdout",
     "output_type": "stream",
     "text": [
      "Step: 102 \tX = 40.76479 \tf(X) = 16617.68152\n",
      "Step: 103 \tX = 40.68326 \tf(X) = 16551.27726\n",
      "Step: 104 \tX = 40.60189 \tf(X) = 16485.13836\n",
      "Step: 105 \tX = 40.52069 \tf(X) = 16419.26374\n",
      "Step: 106 \tX = 40.43965 \tf(X) = 16353.65237\n",
      "Step: 107 \tX = 40.35877 \tf(X) = 16288.30317\n",
      "Step: 108 \tX = 40.27805 \tf(X) = 16223.21511\n",
      "Step: 109 \tX = 40.1975 \tf(X) = 16158.38714\n",
      "Step: 110 \tX = 40.1171 \tf(X) = 16093.81823\n",
      "Step: 111 \tX = 40.03687 \tf(X) = 16029.50733\n",
      "Step: 112 \tX = 39.95679 \tf(X) = 15965.45342\n"
     ]
    },
    {
     "name": "stderr",
     "output_type": "stream",
     "text": [
      "\n",
      "  0%|                                                                             | 113/100000 [00:01<20:32, 81.04it/s]"
     ]
    },
    {
     "name": "stdout",
     "output_type": "stream",
     "text": [
      "Step: 113 \tX = 39.87688 \tf(X) = 15901.65547\n",
      "Step: 114 \tX = 39.79713 \tf(X) = 15838.11245\n",
      "Step: 115 \tX = 39.71753 \tf(X) = 15774.82336\n",
      "Step: 116 \tX = 39.6381 \tf(X) = 15711.78716\n",
      "Step: 117 \tX = 39.55882 \tf(X) = 15649.00286\n",
      "Step: 118 \tX = 39.4797 \tf(X) = 15586.46944\n",
      "Step: 119 \tX = 39.40074 \tf(X) = 15524.18591\n",
      "Step: 120 \tX = 39.32194 \tf(X) = 15462.15127\n",
      "Step: 121 \tX = 39.2433 \tf(X) = 15400.36451\n"
     ]
    },
    {
     "name": "stderr",
     "output_type": "stream",
     "text": [
      "\n",
      "  0%|                                                                             | 122/100000 [00:01<25:05, 66.35it/s]"
     ]
    },
    {
     "name": "stdout",
     "output_type": "stream",
     "text": [
      "Step: 122 \tX = 39.16481 \tf(X) = 15338.82465\n",
      "Step: 123 \tX = 39.08648 \tf(X) = 15277.53071\n",
      "Step: 124 \tX = 39.00831 \tf(X) = 15216.4817\n",
      "Step: 125 \tX = 38.93029 \tf(X) = 15155.67664\n",
      "Step: 126 \tX = 38.85243 \tf(X) = 15095.11455\n",
      "Step: 127 \tX = 38.77473 \tf(X) = 15034.79447\n",
      "Step: 128 \tX = 38.69718 \tf(X) = 14974.71544\n",
      "Step: 129 \tX = 38.61978 \tf(X) = 14914.87647\n",
      "Step: 130 \tX = 38.54254 \tf(X) = 14855.27663\n"
     ]
    },
    {
     "name": "stderr",
     "output_type": "stream",
     "text": [
      "\n",
      "  0%|                                                                             | 131/100000 [00:01<23:06, 72.03it/s]"
     ]
    },
    {
     "name": "stdout",
     "output_type": "stream",
     "text": [
      "Step: 131 \tX = 38.46546 \tf(X) = 14795.91494\n",
      "Step: 132 \tX = 38.38853 \tf(X) = 14736.79046\n",
      "Step: 133 \tX = 38.31175 \tf(X) = 14677.90225\n",
      "Step: 134 \tX = 38.23513 \tf(X) = 14619.24935\n",
      "Step: 135 \tX = 38.15866 \tf(X) = 14560.83083\n",
      "Step: 136 \tX = 38.08234 \tf(X) = 14502.64575\n",
      "Step: 137 \tX = 38.00617 \tf(X) = 14444.69318\n",
      "Step: 138 \tX = 37.93016 \tf(X) = 14386.97219\n"
     ]
    },
    {
     "name": "stderr",
     "output_type": "stream",
     "text": [
      "\n",
      "  0%|                                                                             | 139/100000 [00:01<26:05, 63.77it/s]"
     ]
    },
    {
     "name": "stdout",
     "output_type": "stream",
     "text": [
      "Step: 139 \tX = 37.8543 \tf(X) = 14329.48184\n",
      "Step: 140 \tX = 37.77859 \tf(X) = 14272.22124\n",
      "Step: 141 \tX = 37.70304 \tf(X) = 14215.18944\n",
      "Step: 142 \tX = 37.62763 \tf(X) = 14158.38554\n",
      "Step: 143 \tX = 37.55237 \tf(X) = 14101.80863\n",
      "Step: 144 \tX = 37.47727 \tf(X) = 14045.45781\n",
      "Step: 145 \tX = 37.40232 \tf(X) = 13989.33216\n",
      "Step: 146 \tX = 37.32751 \tf(X) = 13933.43079\n",
      "Step: 147 \tX = 37.25286 \tf(X) = 13877.7528\n",
      "Step: 148 \tX = 37.17835 \tf(X) = 13822.2973\n",
      "Step: 149 \tX = 37.10399 \tf(X) = 13767.0634\n",
      "Step: 150 \tX = 37.02979 \tf(X) = 13712.05021\n"
     ]
    },
    {
     "name": "stderr",
     "output_type": "stream",
     "text": [
      "\n",
      "  0%|                                                                             | 151/100000 [00:01<22:45, 73.12it/s]"
     ]
    },
    {
     "name": "stdout",
     "output_type": "stream",
     "text": [
      "Step: 151 \tX = 36.95573 \tf(X) = 13657.25686\n",
      "Step: 152 \tX = 36.88181 \tf(X) = 13602.68246\n",
      "Step: 153 \tX = 36.80805 \tf(X) = 13548.32614\n",
      "Step: 154 \tX = 36.73443 \tf(X) = 13494.18703\n",
      "Step: 155 \tX = 36.66097 \tf(X) = 13440.26426\n",
      "Step: 156 \tX = 36.58764 \tf(X) = 13386.55696\n",
      "Step: 157 \tX = 36.51447 \tf(X) = 13333.06428\n",
      "Step: 158 \tX = 36.44144 \tf(X) = 13279.78536\n",
      "Step: 159 \tX = 36.36856 \tf(X) = 13226.71933\n"
     ]
    },
    {
     "name": "stderr",
     "output_type": "stream",
     "text": [
      "\n",
      "  0%|                                                                             | 160/100000 [00:02<25:18, 65.76it/s]"
     ]
    },
    {
     "name": "stdout",
     "output_type": "stream",
     "text": [
      "Step: 160 \tX = 36.29582 \tf(X) = 13173.86536\n",
      "Step: 161 \tX = 36.22323 \tf(X) = 13121.2226\n",
      "Step: 162 \tX = 36.15078 \tf(X) = 13068.79019\n",
      "Step: 163 \tX = 36.07848 \tf(X) = 13016.56731\n",
      "Step: 164 \tX = 36.00632 \tf(X) = 12964.5531\n",
      "Step: 165 \tX = 35.93431 \tf(X) = 12912.74675\n",
      "Step: 166 \tX = 35.86244 \tf(X) = 12861.14741\n",
      "Step: 167 \tX = 35.79072 \tf(X) = 12809.75427\n",
      "Step: 168 \tX = 35.71914 \tf(X) = 12758.56649\n",
      "Step: 169 \tX = 35.6477 \tf(X) = 12707.58326\n",
      "Step: 170 \tX = 35.5764 \tf(X) = 12656.80376\n",
      "Step: 171 \tX = 35.50525 \tf(X) = 12606.22717\n"
     ]
    },
    {
     "name": "stderr",
     "output_type": "stream",
     "text": [
      "\n",
      "  0%|▏                                                                            | 172/100000 [00:02<22:02, 75.50it/s]"
     ]
    },
    {
     "name": "stdout",
     "output_type": "stream",
     "text": [
      "Step: 172 \tX = 35.43424 \tf(X) = 12555.85268\n",
      "Step: 173 \tX = 35.36337 \tf(X) = 12505.6795\n",
      "Step: 174 \tX = 35.29264 \tf(X) = 12455.7068\n",
      "Step: 175 \tX = 35.22206 \tf(X) = 12405.9338\n",
      "Step: 176 \tX = 35.15161 \tf(X) = 12356.35969\n",
      "Step: 177 \tX = 35.08131 \tf(X) = 12306.98367\n",
      "Step: 178 \tX = 35.01115 \tf(X) = 12257.80497\n",
      "Step: 179 \tX = 34.94113 \tf(X) = 12208.82278\n",
      "Step: 180 \tX = 34.87124 \tf(X) = 12160.03632\n"
     ]
    },
    {
     "name": "stderr",
     "output_type": "stream",
     "text": [
      "\n",
      "  0%|▏                                                                            | 181/100000 [00:02<24:01, 69.26it/s]"
     ]
    },
    {
     "name": "stdout",
     "output_type": "stream",
     "text": [
      "Step: 181 \tX = 34.8015 \tf(X) = 12111.44482\n",
      "Step: 182 \tX = 34.7319 \tf(X) = 12063.04748\n",
      "Step: 183 \tX = 34.66243 \tf(X) = 12014.84354\n",
      "Step: 184 \tX = 34.59311 \tf(X) = 11966.83223\n",
      "Step: 185 \tX = 34.52392 \tf(X) = 11919.01277\n",
      "Step: 186 \tX = 34.45488 \tf(X) = 11871.38439\n",
      "Step: 187 \tX = 34.38597 \tf(X) = 11823.94634\n",
      "Step: 188 \tX = 34.31719 \tf(X) = 11776.69785\n",
      "Step: 189 \tX = 34.24856 \tf(X) = 11729.63817\n"
     ]
    },
    {
     "name": "stderr",
     "output_type": "stream",
     "text": [
      "\n",
      "  0%|▏                                                                            | 190/100000 [00:02<22:31, 73.86it/s]"
     ]
    },
    {
     "name": "stdout",
     "output_type": "stream",
     "text": [
      "Step: 190 \tX = 34.18006 \tf(X) = 11682.76653\n",
      "Step: 191 \tX = 34.1117 \tf(X) = 11636.0822\n",
      "Step: 192 \tX = 34.04348 \tf(X) = 11589.58441\n",
      "Step: 193 \tX = 33.97539 \tf(X) = 11543.27243\n",
      "Step: 194 \tX = 33.90744 \tf(X) = 11497.14552\n",
      "Step: 195 \tX = 33.83963 \tf(X) = 11451.20292\n",
      "Step: 196 \tX = 33.77195 \tf(X) = 11405.44392\n",
      "Step: 197 \tX = 33.7044 \tf(X) = 11359.86776\n",
      "Step: 198 \tX = 33.63699 \tf(X) = 11314.47373\n"
     ]
    },
    {
     "name": "stderr",
     "output_type": "stream",
     "text": [
      "\n",
      "  0%|▏                                                                            | 199/100000 [00:02<35:53, 46.34it/s]"
     ]
    },
    {
     "name": "stdout",
     "output_type": "stream",
     "text": [
      "Step: 199 \tX = 33.56972 \tf(X) = 11269.26109\n",
      "Step: 200 \tX = 33.50258 \tf(X) = 11224.22913\n",
      "Step: 201 \tX = 33.43558 \tf(X) = 11179.37711\n",
      "Step: 202 \tX = 33.3687 \tf(X) = 11134.70432\n",
      "Step: 203 \tX = 33.30197 \tf(X) = 11090.21004\n",
      "Step: 204 \tX = 33.23536 \tf(X) = 11045.89356\n",
      "Step: 205 \tX = 33.16889 \tf(X) = 11001.75417\n",
      "Step: 206 \tX = 33.10255 \tf(X) = 10957.79116\n",
      "Step: 207 \tX = 33.03635 \tf(X) = 10914.00382\n"
     ]
    },
    {
     "name": "stderr",
     "output_type": "stream",
     "text": [
      "\n",
      "  0%|▏                                                                            | 208/100000 [00:02<30:53, 53.85it/s]"
     ]
    },
    {
     "name": "stdout",
     "output_type": "stream",
     "text": [
      "Step: 208 \tX = 32.97028 \tf(X) = 10870.39147\n",
      "Step: 209 \tX = 32.90434 \tf(X) = 10826.95338\n",
      "Step: 210 \tX = 32.83853 \tf(X) = 10783.68888\n",
      "Step: 211 \tX = 32.77285 \tf(X) = 10740.59725\n",
      "Step: 212 \tX = 32.7073 \tf(X) = 10697.67783\n",
      "Step: 213 \tX = 32.64189 \tf(X) = 10654.92991\n",
      "Step: 214 \tX = 32.57661 \tf(X) = 10612.35281\n",
      "Step: 215 \tX = 32.51145 \tf(X) = 10569.94585\n"
     ]
    },
    {
     "name": "stderr",
     "output_type": "stream",
     "text": [
      "\n",
      "  0%|▏                                                                            | 216/100000 [00:03<29:17, 56.78it/s]"
     ]
    },
    {
     "name": "stdout",
     "output_type": "stream",
     "text": [
      "Step: 216 \tX = 32.44643 \tf(X) = 10527.70834\n",
      "Step: 217 \tX = 32.38154 \tf(X) = 10485.63962\n",
      "Step: 218 \tX = 32.31677 \tf(X) = 10443.739\n",
      "Step: 219 \tX = 32.25214 \tf(X) = 10402.00582\n",
      "Step: 220 \tX = 32.18764 \tf(X) = 10360.43941\n",
      "Step: 221 \tX = 32.12326 \tf(X) = 10319.03909\n",
      "Step: 222 \tX = 32.05901 \tf(X) = 10277.80421\n"
     ]
    },
    {
     "name": "stderr",
     "output_type": "stream",
     "text": [
      "\n",
      "  0%|▏                                                                            | 223/100000 [00:03<30:58, 53.68it/s]"
     ]
    },
    {
     "name": "stdout",
     "output_type": "stream",
     "text": [
      "Step: 223 \tX = 31.9949 \tf(X) = 10236.73411\n",
      "Step: 224 \tX = 31.93091 \tf(X) = 10195.82812\n",
      "Step: 225 \tX = 31.86705 \tf(X) = 10155.08559\n",
      "Step: 226 \tX = 31.80331 \tf(X) = 10114.50587\n",
      "Step: 227 \tX = 31.7397 \tf(X) = 10074.0883\n",
      "Step: 228 \tX = 31.67622 \tf(X) = 10033.83224\n",
      "Step: 229 \tX = 31.61287 \tf(X) = 9993.73705\n",
      "Step: 230 \tX = 31.54965 \tf(X) = 9953.80208\n",
      "Step: 231 \tX = 31.48655 \tf(X) = 9914.02668\n"
     ]
    },
    {
     "name": "stderr",
     "output_type": "stream",
     "text": [
      "\n",
      "  0%|▏                                                                            | 232/100000 [00:03<27:40, 60.10it/s]"
     ]
    },
    {
     "name": "stdout",
     "output_type": "stream",
     "text": [
      "Step: 232 \tX = 31.42357 \tf(X) = 9874.41023\n",
      "Step: 233 \tX = 31.36073 \tf(X) = 9834.95209\n",
      "Step: 234 \tX = 31.29801 \tf(X) = 9795.65162\n",
      "Step: 235 \tX = 31.23541 \tf(X) = 9756.5082\n",
      "Step: 236 \tX = 31.17294 \tf(X) = 9717.52119\n",
      "Step: 237 \tX = 31.11059 \tf(X) = 9678.68998\n",
      "Step: 238 \tX = 31.04837 \tf(X) = 9640.01393\n"
     ]
    },
    {
     "name": "stderr",
     "output_type": "stream",
     "text": [
      "\n",
      "  0%|▏                                                                            | 239/100000 [00:03<31:24, 52.94it/s]"
     ]
    },
    {
     "name": "stdout",
     "output_type": "stream",
     "text": [
      "Step: 239 \tX = 30.98628 \tf(X) = 9601.49243\n",
      "Step: 240 \tX = 30.9243 \tf(X) = 9563.12487\n",
      "Step: 241 \tX = 30.86245 \tf(X) = 9524.91062\n",
      "Step: 242 \tX = 30.80073 \tf(X) = 9486.84908\n",
      "Step: 243 \tX = 30.73913 \tf(X) = 9448.93963\n",
      "Step: 244 \tX = 30.67765 \tf(X) = 9411.18167\n",
      "Step: 245 \tX = 30.61629 \tf(X) = 9373.57459\n",
      "Step: 246 \tX = 30.55506 \tf(X) = 9336.11778\n",
      "Step: 247 \tX = 30.49395 \tf(X) = 9298.81066\n"
     ]
    },
    {
     "name": "stderr",
     "output_type": "stream",
     "text": [
      "\n",
      "  0%|▏                                                                            | 248/100000 [00:03<27:41, 60.04it/s]"
     ]
    },
    {
     "name": "stdout",
     "output_type": "stream",
     "text": [
      "Step: 248 \tX = 30.43296 \tf(X) = 9261.65261\n",
      "Step: 249 \tX = 30.3721 \tf(X) = 9224.64305\n",
      "Step: 250 \tX = 30.31135 \tf(X) = 9187.78137\n",
      "Step: 251 \tX = 30.25073 \tf(X) = 9151.067\n",
      "Step: 252 \tX = 30.19023 \tf(X) = 9114.49933\n",
      "Step: 253 \tX = 30.12985 \tf(X) = 9078.07779\n",
      "Step: 254 \tX = 30.06959 \tf(X) = 9041.8018\n"
     ]
    },
    {
     "name": "stderr",
     "output_type": "stream",
     "text": [
      "\n",
      "  0%|▏                                                                            | 255/100000 [00:03<26:43, 62.21it/s]"
     ]
    },
    {
     "name": "stdout",
     "output_type": "stream",
     "text": [
      "Step: 255 \tX = 30.00945 \tf(X) = 9005.67076\n",
      "Step: 256 \tX = 29.94943 \tf(X) = 8969.68409\n",
      "Step: 257 \tX = 29.88953 \tf(X) = 8933.84124\n",
      "Step: 258 \tX = 29.82975 \tf(X) = 8898.14161\n",
      "Step: 259 \tX = 29.77009 \tf(X) = 8862.58463\n",
      "Step: 260 \tX = 29.71055 \tf(X) = 8827.16975\n",
      "Step: 261 \tX = 29.65113 \tf(X) = 8791.89638\n"
     ]
    },
    {
     "name": "stderr",
     "output_type": "stream",
     "text": [
      "\n",
      "  0%|▏                                                                            | 262/100000 [00:03<32:27, 51.22it/s]"
     ]
    },
    {
     "name": "stdout",
     "output_type": "stream",
     "text": [
      "Step: 262 \tX = 29.59183 \tf(X) = 8756.76396\n",
      "Step: 263 \tX = 29.53265 \tf(X) = 8721.77193\n",
      "Step: 264 \tX = 29.47358 \tf(X) = 8686.91973\n",
      "Step: 265 \tX = 29.41463 \tf(X) = 8652.2068\n",
      "Step: 266 \tX = 29.3558 \tf(X) = 8617.63258\n",
      "Step: 267 \tX = 29.29709 \tf(X) = 8583.19652\n"
     ]
    },
    {
     "name": "stderr",
     "output_type": "stream",
     "text": [
      "\n",
      "  0%|▏                                                                            | 268/100000 [00:03<32:26, 51.24it/s]"
     ]
    },
    {
     "name": "stdout",
     "output_type": "stream",
     "text": [
      "Step: 268 \tX = 29.2385 \tf(X) = 8548.89807\n",
      "Step: 269 \tX = 29.18002 \tf(X) = 8514.73667\n",
      "Step: 270 \tX = 29.12166 \tf(X) = 8480.71178\n",
      "Step: 271 \tX = 29.06342 \tf(X) = 8446.82286\n",
      "Step: 272 \tX = 29.00529 \tf(X) = 8413.06935\n",
      "Step: 273 \tX = 28.94728 \tf(X) = 8379.45073\n",
      "Step: 274 \tX = 28.88939 \tf(X) = 8345.96644\n",
      "Step: 275 \tX = 28.83161 \tf(X) = 8312.61596\n"
     ]
    },
    {
     "name": "stderr",
     "output_type": "stream",
     "text": [
      "\n",
      "  0%|▏                                                                            | 276/100000 [00:04<29:11, 56.94it/s]"
     ]
    },
    {
     "name": "stdout",
     "output_type": "stream",
     "text": [
      "Step: 276 \tX = 28.77394 \tf(X) = 8279.39875\n",
      "Step: 277 \tX = 28.7164 \tf(X) = 8246.31427\n",
      "Step: 278 \tX = 28.65896 \tf(X) = 8213.362\n",
      "Step: 279 \tX = 28.60165 \tf(X) = 8180.5414\n",
      "Step: 280 \tX = 28.54444 \tf(X) = 8147.85196\n",
      "Step: 281 \tX = 28.48735 \tf(X) = 8115.29314\n",
      "Step: 282 \tX = 28.43038 \tf(X) = 8082.86443\n",
      "Step: 283 \tX = 28.37352 \tf(X) = 8050.56531\n",
      "Step: 284 \tX = 28.31677 \tf(X) = 8018.39525\n"
     ]
    },
    {
     "name": "stderr",
     "output_type": "stream",
     "text": [
      "\n",
      "  0%|▏                                                                            | 285/100000 [00:04<26:24, 62.92it/s]"
     ]
    },
    {
     "name": "stdout",
     "output_type": "stream",
     "text": [
      "Step: 285 \tX = 28.26014 \tf(X) = 7986.35374\n",
      "Step: 286 \tX = 28.20362 \tf(X) = 7954.44027\n",
      "Step: 287 \tX = 28.14721 \tf(X) = 7922.65433\n",
      "Step: 288 \tX = 28.09092 \tf(X) = 7890.9954\n",
      "Step: 289 \tX = 28.03473 \tf(X) = 7859.46298\n",
      "Step: 290 \tX = 27.97866 \tf(X) = 7828.05657\n",
      "Step: 291 \tX = 27.92271 \tf(X) = 7796.77565\n",
      "Step: 292 \tX = 27.86686 \tf(X) = 7765.61974\n",
      "Step: 293 \tX = 27.81113 \tf(X) = 7734.58832\n",
      "Step: 294 \tX = 27.75551 \tf(X) = 7703.68091\n"
     ]
    },
    {
     "name": "stderr",
     "output_type": "stream",
     "text": [
      "\n",
      "  0%|▏                                                                            | 295/100000 [00:04<23:52, 69.61it/s]"
     ]
    },
    {
     "name": "stdout",
     "output_type": "stream",
     "text": [
      "Step: 295 \tX = 27.69999 \tf(X) = 7672.897\n",
      "Step: 296 \tX = 27.64459 \tf(X) = 7642.2361\n",
      "Step: 297 \tX = 27.58931 \tf(X) = 7611.69773\n",
      "Step: 298 \tX = 27.53413 \tf(X) = 7581.28138\n",
      "Step: 299 \tX = 27.47906 \tf(X) = 7550.98658\n",
      "Step: 300 \tX = 27.4241 \tf(X) = 7520.81284\n",
      "Step: 301 \tX = 27.36925 \tf(X) = 7490.75967\n",
      "Step: 302 \tX = 27.31451 \tf(X) = 7460.8266\n",
      "Step: 303 \tX = 27.25988 \tf(X) = 7431.01313\n"
     ]
    },
    {
     "name": "stderr",
     "output_type": "stream",
     "text": [
      "\n",
      "  0%|▏                                                                            | 304/100000 [00:04<22:18, 74.50it/s]"
     ]
    },
    {
     "name": "stdout",
     "output_type": "stream",
     "text": [
      "Step: 304 \tX = 27.20536 \tf(X) = 7401.3188\n",
      "Step: 305 \tX = 27.15095 \tf(X) = 7371.74313\n",
      "Step: 306 \tX = 27.09665 \tf(X) = 7342.28565\n",
      "Step: 307 \tX = 27.04246 \tf(X) = 7312.94588\n",
      "Step: 308 \tX = 26.98837 \tf(X) = 7283.72334\n",
      "Step: 309 \tX = 26.9344 \tf(X) = 7254.61758\n",
      "Step: 310 \tX = 26.88053 \tf(X) = 7225.62813\n",
      "Step: 311 \tX = 26.82677 \tf(X) = 7196.75452\n",
      "Step: 312 \tX = 26.77311 \tf(X) = 7167.99629\n",
      "Step: 313 \tX = 26.71957 \tf(X) = 7139.35298\n",
      "Step: 314 \tX = 26.66613 \tf(X) = 7110.82412\n",
      "Step: 315 \tX = 26.6128 \tf(X) = 7082.40927\n"
     ]
    },
    {
     "name": "stderr",
     "output_type": "stream",
     "text": [
      "\n",
      "  0%|▏                                                                            | 316/100000 [00:04<20:00, 83.02it/s]"
     ]
    },
    {
     "name": "stdout",
     "output_type": "stream",
     "text": [
      "Step: 316 \tX = 26.55957 \tf(X) = 7054.10796\n",
      "Step: 317 \tX = 26.50645 \tf(X) = 7025.91975\n",
      "Step: 318 \tX = 26.45344 \tf(X) = 6997.84417\n",
      "Step: 319 \tX = 26.40053 \tf(X) = 6969.88079\n",
      "Step: 320 \tX = 26.34773 \tf(X) = 6942.02914\n",
      "Step: 321 \tX = 26.29504 \tf(X) = 6914.2888\n",
      "Step: 322 \tX = 26.24245 \tf(X) = 6886.6593\n",
      "Step: 323 \tX = 26.18996 \tf(X) = 6859.14021\n",
      "Step: 324 \tX = 26.13758 \tf(X) = 6831.73108\n",
      "Step: 325 \tX = 26.08531 \tf(X) = 6804.43149\n",
      "Step: 326 \tX = 26.03313 \tf(X) = 6777.24098\n"
     ]
    },
    {
     "name": "stderr",
     "output_type": "stream",
     "text": [
      "\n",
      "  0%|▎                                                                            | 327/100000 [00:04<18:56, 87.68it/s]"
     ]
    },
    {
     "name": "stdout",
     "output_type": "stream",
     "text": [
      "Step: 327 \tX = 25.98107 \tf(X) = 6750.15912\n",
      "Step: 328 \tX = 25.92911 \tf(X) = 6723.18549\n",
      "Step: 329 \tX = 25.87725 \tf(X) = 6696.31964\n",
      "Step: 330 \tX = 25.82549 \tf(X) = 6669.56114\n",
      "Step: 331 \tX = 25.77384 \tf(X) = 6642.90958\n",
      "Step: 332 \tX = 25.72229 \tf(X) = 6616.36451\n",
      "Step: 333 \tX = 25.67085 \tf(X) = 6589.92552\n",
      "Step: 334 \tX = 25.61951 \tf(X) = 6563.59218\n",
      "Step: 335 \tX = 25.56827 \tf(X) = 6537.36406\n",
      "Step: 336 \tX = 25.51713 \tf(X) = 6511.24075\n",
      "Step: 337 \tX = 25.4661 \tf(X) = 6485.22184\n"
     ]
    },
    {
     "name": "stderr",
     "output_type": "stream",
     "text": [
      "\n",
      "  0%|▎                                                                            | 338/100000 [00:04<18:09, 91.50it/s]"
     ]
    },
    {
     "name": "stdout",
     "output_type": "stream",
     "text": [
      "Step: 338 \tX = 25.41517 \tf(X) = 6459.30689\n",
      "Step: 339 \tX = 25.36434 \tf(X) = 6433.4955\n",
      "Step: 340 \tX = 25.31361 \tf(X) = 6407.78725\n",
      "Step: 341 \tX = 25.26298 \tf(X) = 6382.18173\n",
      "Step: 342 \tX = 25.21245 \tf(X) = 6356.67854\n",
      "Step: 343 \tX = 25.16203 \tf(X) = 6331.27725\n",
      "Step: 344 \tX = 25.11171 \tf(X) = 6305.97746\n",
      "Step: 345 \tX = 25.06148 \tf(X) = 6280.77878\n",
      "Step: 346 \tX = 25.01136 \tf(X) = 6255.68079\n",
      "Step: 347 \tX = 24.96134 \tf(X) = 6230.68309\n",
      "Step: 348 \tX = 24.91141 \tf(X) = 6205.78528\n"
     ]
    },
    {
     "name": "stderr",
     "output_type": "stream",
     "text": [
      "\n",
      "  0%|▎                                                                            | 349/100000 [00:04<17:38, 94.14it/s]"
     ]
    },
    {
     "name": "stdout",
     "output_type": "stream",
     "text": [
      "Step: 349 \tX = 24.86159 \tf(X) = 6180.98696\n",
      "Step: 350 \tX = 24.81187 \tf(X) = 6156.28773\n",
      "Step: 351 \tX = 24.76224 \tf(X) = 6131.68721\n",
      "Step: 352 \tX = 24.71272 \tf(X) = 6107.18499\n",
      "Step: 353 \tX = 24.66329 \tf(X) = 6082.78068\n",
      "Step: 354 \tX = 24.61397 \tf(X) = 6058.47388\n",
      "Step: 355 \tX = 24.56474 \tf(X) = 6034.26422\n",
      "Step: 356 \tX = 24.51561 \tf(X) = 6010.1513\n",
      "Step: 357 \tX = 24.46658 \tf(X) = 5986.13474\n",
      "Step: 358 \tX = 24.41765 \tf(X) = 5962.21414\n"
     ]
    },
    {
     "name": "stderr",
     "output_type": "stream",
     "text": [
      "\n",
      "  0%|▎                                                                            | 359/100000 [00:04<19:52, 83.57it/s]"
     ]
    },
    {
     "name": "stdout",
     "output_type": "stream",
     "text": [
      "Step: 359 \tX = 24.36881 \tf(X) = 5938.38914\n",
      "Step: 360 \tX = 24.32007 \tf(X) = 5914.65933\n",
      "Step: 361 \tX = 24.27143 \tf(X) = 5891.02435\n",
      "Step: 362 \tX = 24.22289 \tf(X) = 5867.48382\n",
      "Step: 363 \tX = 24.17444 \tf(X) = 5844.03736\n",
      "Step: 364 \tX = 24.12609 \tf(X) = 5820.68458\n",
      "Step: 365 \tX = 24.07784 \tf(X) = 5797.42513\n",
      "Step: 366 \tX = 24.02969 \tf(X) = 5774.25862\n",
      "Step: 367 \tX = 23.98163 \tf(X) = 5751.18468\n"
     ]
    },
    {
     "name": "stderr",
     "output_type": "stream",
     "text": [
      "\n",
      "  0%|▎                                                                            | 368/100000 [00:05<20:16, 81.90it/s]"
     ]
    },
    {
     "name": "stdout",
     "output_type": "stream",
     "text": [
      "Step: 368 \tX = 23.93366 \tf(X) = 5728.20294\n",
      "Step: 369 \tX = 23.8858 \tf(X) = 5705.31305\n",
      "Step: 370 \tX = 23.83803 \tf(X) = 5682.51461\n",
      "Step: 371 \tX = 23.79035 \tf(X) = 5659.80729\n",
      "Step: 372 \tX = 23.74277 \tf(X) = 5637.1907\n",
      "Step: 373 \tX = 23.69528 \tf(X) = 5614.66448\n",
      "Step: 374 \tX = 23.64789 \tf(X) = 5592.22828\n",
      "Step: 375 \tX = 23.6006 \tf(X) = 5569.88174\n",
      "Step: 376 \tX = 23.5534 \tf(X) = 5547.62449\n"
     ]
    },
    {
     "name": "stderr",
     "output_type": "stream",
     "text": [
      "\n",
      "  0%|▎                                                                            | 377/100000 [00:05<20:13, 82.10it/s]"
     ]
    },
    {
     "name": "stdout",
     "output_type": "stream",
     "text": [
      "Step: 377 \tX = 23.50629 \tf(X) = 5525.45618\n",
      "Step: 378 \tX = 23.45928 \tf(X) = 5503.37646\n",
      "Step: 379 \tX = 23.41236 \tf(X) = 5481.38497\n",
      "Step: 380 \tX = 23.36553 \tf(X) = 5459.48135\n",
      "Step: 381 \tX = 23.3188 \tf(X) = 5437.66527\n",
      "Step: 382 \tX = 23.27216 \tf(X) = 5415.93636\n",
      "Step: 383 \tX = 23.22562 \tf(X) = 5394.29427\n",
      "Step: 384 \tX = 23.17917 \tf(X) = 5372.73867\n",
      "Step: 385 \tX = 23.13281 \tf(X) = 5351.26921\n",
      "Step: 386 \tX = 23.08654 \tf(X) = 5329.88554\n",
      "Step: 387 \tX = 23.04037 \tf(X) = 5308.58732\n"
     ]
    },
    {
     "name": "stderr",
     "output_type": "stream",
     "text": [
      "\n",
      "  0%|▎                                                                            | 388/100000 [00:05<18:49, 88.22it/s]"
     ]
    },
    {
     "name": "stdout",
     "output_type": "stream",
     "text": [
      "Step: 388 \tX = 22.99429 \tf(X) = 5287.3742\n",
      "Step: 389 \tX = 22.9483 \tf(X) = 5266.24585\n",
      "Step: 390 \tX = 22.90241 \tf(X) = 5245.20194\n",
      "Step: 391 \tX = 22.8566 \tf(X) = 5224.24211\n",
      "Step: 392 \tX = 22.81089 \tf(X) = 5203.36604\n",
      "Step: 393 \tX = 22.76527 \tf(X) = 5182.57339\n",
      "Step: 394 \tX = 22.71974 \tf(X) = 5161.86382\n",
      "Step: 395 \tX = 22.6743 \tf(X) = 5141.23702\n",
      "Step: 396 \tX = 22.62895 \tf(X) = 5120.69263\n",
      "Step: 397 \tX = 22.58369 \tf(X) = 5100.23034\n",
      "Step: 398 \tX = 22.53852 \tf(X) = 5079.84982\n"
     ]
    },
    {
     "name": "stderr",
     "output_type": "stream",
     "text": [
      "\n",
      "  0%|▎                                                                            | 399/100000 [00:05<17:41, 93.79it/s]"
     ]
    },
    {
     "name": "stdout",
     "output_type": "stream",
     "text": [
      "Step: 399 \tX = 22.49345 \tf(X) = 5059.55074\n",
      "Step: 400 \tX = 22.44846 \tf(X) = 5039.33278\n",
      "Step: 401 \tX = 22.40356 \tf(X) = 5019.19561\n",
      "Step: 402 \tX = 22.35875 \tf(X) = 4999.1389\n",
      "Step: 403 \tX = 22.31404 \tf(X) = 4979.16234\n",
      "Step: 404 \tX = 22.26941 \tf(X) = 4959.26561\n",
      "Step: 405 \tX = 22.22487 \tf(X) = 4939.44838\n",
      "Step: 406 \tX = 22.18042 \tf(X) = 4919.71035\n",
      "Step: 407 \tX = 22.13606 \tf(X) = 4900.05118\n",
      "Step: 408 \tX = 22.09179 \tf(X) = 4880.47058\n",
      "Step: 409 \tX = 22.0476 \tf(X) = 4860.96822\n",
      "Step: 410 \tX = 22.00351 \tf(X) = 4841.54379\n"
     ]
    },
    {
     "name": "stderr",
     "output_type": "stream",
     "text": [
      "\n",
      "  0%|▎                                                                           | 411/100000 [00:05<16:34, 100.12it/s]"
     ]
    },
    {
     "name": "stdout",
     "output_type": "stream",
     "text": [
      "Step: 411 \tX = 21.9595 \tf(X) = 4822.19698\n",
      "Step: 412 \tX = 21.91558 \tf(X) = 4802.92748\n",
      "Step: 413 \tX = 21.87175 \tf(X) = 4783.73498\n",
      "Step: 414 \tX = 21.82801 \tf(X) = 4764.61918\n",
      "Step: 415 \tX = 21.78435 \tf(X) = 4745.57976\n",
      "Step: 416 \tX = 21.74078 \tf(X) = 4726.61642\n",
      "Step: 417 \tX = 21.6973 \tf(X) = 4707.72887\n",
      "Step: 418 \tX = 21.65391 \tf(X) = 4688.91678\n",
      "Step: 419 \tX = 21.6106 \tf(X) = 4670.17987\n",
      "Step: 420 \tX = 21.56738 \tf(X) = 4651.51783\n",
      "Step: 421 \tX = 21.52424 \tf(X) = 4632.93037\n"
     ]
    },
    {
     "name": "stderr",
     "output_type": "stream",
     "text": [
      "\n",
      "  0%|▎                                                                            | 422/100000 [00:05<20:25, 81.23it/s]"
     ]
    },
    {
     "name": "stdout",
     "output_type": "stream",
     "text": [
      "Step: 422 \tX = 21.48119 \tf(X) = 4614.41718\n",
      "Step: 423 \tX = 21.43823 \tf(X) = 4595.97796\n",
      "Step: 424 \tX = 21.39536 \tf(X) = 4577.61244\n",
      "Step: 425 \tX = 21.35256 \tf(X) = 4559.3203\n",
      "Step: 426 \tX = 21.30986 \tf(X) = 4541.10125\n",
      "Step: 427 \tX = 21.26724 \tf(X) = 4522.95501\n",
      "Step: 428 \tX = 21.22471 \tf(X) = 4504.88128\n",
      "Step: 429 \tX = 21.18226 \tf(X) = 4486.87978\n",
      "Step: 430 \tX = 21.13989 \tf(X) = 4468.95021\n",
      "Step: 431 \tX = 21.09761 \tf(X) = 4451.09228\n"
     ]
    },
    {
     "name": "stderr",
     "output_type": "stream",
     "text": [
      "\n",
      "  0%|▎                                                                            | 432/100000 [00:05<19:31, 84.98it/s]"
     ]
    },
    {
     "name": "stdout",
     "output_type": "stream",
     "text": [
      "Step: 432 \tX = 21.05542 \tf(X) = 4433.30572\n",
      "Step: 433 \tX = 21.01331 \tf(X) = 4415.59023\n",
      "Step: 434 \tX = 20.97128 \tf(X) = 4397.94553\n",
      "Step: 435 \tX = 20.92934 \tf(X) = 4380.37134\n",
      "Step: 436 \tX = 20.88748 \tf(X) = 4362.86738\n",
      "Step: 437 \tX = 20.8457 \tf(X) = 4345.43336\n",
      "Step: 438 \tX = 20.80401 \tf(X) = 4328.06901\n",
      "Step: 439 \tX = 20.7624 \tf(X) = 4310.77404\n",
      "Step: 440 \tX = 20.72088 \tf(X) = 4293.54819\n",
      "Step: 441 \tX = 20.67944 \tf(X) = 4276.39117\n"
     ]
    },
    {
     "name": "stderr",
     "output_type": "stream",
     "text": [
      "\n",
      "  0%|▎                                                                            | 442/100000 [00:05<22:31, 73.65it/s]"
     ]
    },
    {
     "name": "stdout",
     "output_type": "stream",
     "text": [
      "Step: 442 \tX = 20.63808 \tf(X) = 4259.30271\n",
      "Step: 443 \tX = 20.5968 \tf(X) = 4242.28254\n",
      "Step: 444 \tX = 20.55561 \tf(X) = 4225.33038\n",
      "Step: 445 \tX = 20.5145 \tf(X) = 4208.44596\n",
      "Step: 446 \tX = 20.47347 \tf(X) = 4191.62901\n",
      "Step: 447 \tX = 20.43252 \tf(X) = 4174.87926\n",
      "Step: 448 \tX = 20.39166 \tf(X) = 4158.19644\n",
      "Step: 449 \tX = 20.35087 \tf(X) = 4141.58029\n",
      "Step: 450 \tX = 20.31017 \tf(X) = 4125.03053\n",
      "Step: 451 \tX = 20.26955 \tf(X) = 4108.54691\n",
      "Step: 452 \tX = 20.22901 \tf(X) = 4092.12916\n",
      "Step: 453 \tX = 20.18855 \tf(X) = 4075.77701\n"
     ]
    },
    {
     "name": "stderr",
     "output_type": "stream",
     "text": [
      "\n",
      "  0%|▎                                                                            | 454/100000 [00:06<19:57, 83.13it/s]"
     ]
    },
    {
     "name": "stdout",
     "output_type": "stream",
     "text": [
      "Step: 454 \tX = 20.14818 \tf(X) = 4059.4902\n",
      "Step: 455 \tX = 20.10788 \tf(X) = 4043.26848\n",
      "Step: 456 \tX = 20.06766 \tf(X) = 4027.11158\n",
      "Step: 457 \tX = 20.02753 \tf(X) = 4011.01924\n",
      "Step: 458 \tX = 19.98747 \tf(X) = 3994.99121\n",
      "Step: 459 \tX = 19.9475 \tf(X) = 3979.02722\n",
      "Step: 460 \tX = 19.9076 \tf(X) = 3963.12703\n",
      "Step: 461 \tX = 19.86779 \tf(X) = 3947.29037\n",
      "Step: 462 \tX = 19.82805 \tf(X) = 3931.517\n",
      "Step: 463 \tX = 19.7884 \tf(X) = 3915.80666\n"
     ]
    },
    {
     "name": "stderr",
     "output_type": "stream",
     "text": [
      "\n",
      "  0%|▎                                                                            | 464/100000 [00:06<21:31, 77.04it/s]"
     ]
    },
    {
     "name": "stdout",
     "output_type": "stream",
     "text": [
      "Step: 464 \tX = 19.74882 \tf(X) = 3900.1591\n",
      "Step: 465 \tX = 19.70932 \tf(X) = 3884.57406\n",
      "Step: 466 \tX = 19.6699 \tf(X) = 3869.0513\n",
      "Step: 467 \tX = 19.63056 \tf(X) = 3853.59057\n",
      "Step: 468 \tX = 19.5913 \tf(X) = 3838.19163\n",
      "Step: 469 \tX = 19.55212 \tf(X) = 3822.85421\n",
      "Step: 470 \tX = 19.51302 \tf(X) = 3807.57809\n",
      "Step: 471 \tX = 19.47399 \tf(X) = 3792.36301\n",
      "Step: 472 \tX = 19.43504 \tf(X) = 3777.20872\n",
      "Step: 473 \tX = 19.39617 \tf(X) = 3762.115\n",
      "Step: 474 \tX = 19.35738 \tf(X) = 3747.08159\n",
      "Step: 475 \tX = 19.31867 \tf(X) = 3732.10825\n",
      "Step: 476 \tX = 19.28003 \tf(X) = 3717.19474\n"
     ]
    },
    {
     "name": "stderr",
     "output_type": "stream",
     "text": [
      "\n",
      "  0%|▎                                                                            | 477/100000 [00:06<18:58, 87.41it/s]"
     ]
    },
    {
     "name": "stdout",
     "output_type": "stream",
     "text": [
      "Step: 477 \tX = 19.24147 \tf(X) = 3702.34083\n",
      "Step: 478 \tX = 19.20298 \tf(X) = 3687.54628\n",
      "Step: 479 \tX = 19.16458 \tf(X) = 3672.81084\n",
      "Step: 480 \tX = 19.12625 \tf(X) = 3658.13429\n",
      "Step: 481 \tX = 19.088 \tf(X) = 3643.51639\n",
      "Step: 482 \tX = 19.04982 \tf(X) = 3628.9569\n",
      "Step: 483 \tX = 19.01172 \tf(X) = 3614.45558\n",
      "Step: 484 \tX = 18.9737 \tf(X) = 3600.01222\n",
      "Step: 485 \tX = 18.93575 \tf(X) = 3585.62657\n",
      "Step: 486 \tX = 18.89788 \tf(X) = 3571.29841\n"
     ]
    },
    {
     "name": "stderr",
     "output_type": "stream",
     "text": [
      "\n",
      "  0%|▎                                                                            | 487/100000 [00:06<20:59, 79.00it/s]"
     ]
    },
    {
     "name": "stdout",
     "output_type": "stream",
     "text": [
      "Step: 487 \tX = 18.86008 \tf(X) = 3557.0275\n",
      "Step: 488 \tX = 18.82236 \tf(X) = 3542.81362\n",
      "Step: 489 \tX = 18.78472 \tf(X) = 3528.65653\n",
      "Step: 490 \tX = 18.74715 \tf(X) = 3514.55602\n",
      "Step: 491 \tX = 18.70965 \tf(X) = 3500.51186\n",
      "Step: 492 \tX = 18.67224 \tf(X) = 3486.52381\n",
      "Step: 493 \tX = 18.63489 \tf(X) = 3472.59166\n",
      "Step: 494 \tX = 18.59762 \tf(X) = 3458.71518\n",
      "Step: 495 \tX = 18.56043 \tf(X) = 3444.89416\n",
      "Step: 496 \tX = 18.52331 \tf(X) = 3431.12836\n",
      "Step: 497 \tX = 18.48626 \tf(X) = 3417.41757\n",
      "Step: 498 \tX = 18.44929 \tf(X) = 3403.76157\n"
     ]
    },
    {
     "name": "stderr",
     "output_type": "stream",
     "text": [
      "\n",
      "  0%|▍                                                                            | 499/100000 [00:06<18:57, 87.45it/s]"
     ]
    },
    {
     "name": "stdout",
     "output_type": "stream",
     "text": [
      "Step: 499 \tX = 18.41239 \tf(X) = 3390.16014\n",
      "Step: 500 \tX = 18.37556 \tf(X) = 3376.61306\n",
      "Step: 501 \tX = 18.33881 \tf(X) = 3363.12012\n",
      "Step: 502 \tX = 18.30213 \tf(X) = 3349.68109\n",
      "Step: 503 \tX = 18.26553 \tf(X) = 3336.29576\n",
      "Step: 504 \tX = 18.229 \tf(X) = 3322.96392\n",
      "Step: 505 \tX = 18.19254 \tf(X) = 3309.68536\n",
      "Step: 506 \tX = 18.15616 \tf(X) = 3296.45986\n",
      "Step: 507 \tX = 18.11984 \tf(X) = 3283.2872\n",
      "Step: 508 \tX = 18.0836 \tf(X) = 3270.16719\n"
     ]
    },
    {
     "name": "stderr",
     "output_type": "stream",
     "text": [
      "\n",
      "  1%|▍                                                                            | 509/100000 [00:06<22:01, 75.27it/s]"
     ]
    },
    {
     "name": "stdout",
     "output_type": "stream",
     "text": [
      "Step: 509 \tX = 18.04744 \tf(X) = 3257.0996\n",
      "Step: 510 \tX = 18.01134 \tf(X) = 3244.08423\n",
      "Step: 511 \tX = 17.97532 \tf(X) = 3231.12087\n",
      "Step: 512 \tX = 17.93937 \tf(X) = 3218.20931\n",
      "Step: 513 \tX = 17.90349 \tf(X) = 3205.34935\n",
      "Step: 514 \tX = 17.86768 \tf(X) = 3192.54077\n",
      "Step: 515 \tX = 17.83195 \tf(X) = 3179.78338\n",
      "Step: 516 \tX = 17.79628 \tf(X) = 3167.07696\n",
      "Step: 517 \tX = 17.76069 \tf(X) = 3154.42132\n",
      "Step: 518 \tX = 17.72517 \tf(X) = 3141.81626\n",
      "Step: 519 \tX = 17.68972 \tf(X) = 3129.26156\n"
     ]
    },
    {
     "name": "stderr",
     "output_type": "stream",
     "text": [
      "\n",
      "  1%|▍                                                                            | 520/100000 [00:06<20:23, 81.31it/s]"
     ]
    },
    {
     "name": "stdout",
     "output_type": "stream",
     "text": [
      "Step: 520 \tX = 17.65434 \tf(X) = 3116.75703\n",
      "Step: 521 \tX = 17.61903 \tf(X) = 3104.30247\n",
      "Step: 522 \tX = 17.58379 \tf(X) = 3091.89767\n",
      "Step: 523 \tX = 17.54863 \tf(X) = 3079.54245\n",
      "Step: 524 \tX = 17.51353 \tf(X) = 3067.2366\n",
      "Step: 525 \tX = 17.4785 \tf(X) = 3054.97992\n",
      "Step: 526 \tX = 17.44354 \tf(X) = 3042.77222\n",
      "Step: 527 \tX = 17.40866 \tf(X) = 3030.61331\n",
      "Step: 528 \tX = 17.37384 \tf(X) = 3018.50297\n"
     ]
    },
    {
     "name": "stderr",
     "output_type": "stream",
     "text": [
      "\n",
      "  1%|▍                                                                            | 529/100000 [00:07<24:59, 66.33it/s]"
     ]
    },
    {
     "name": "stdout",
     "output_type": "stream",
     "text": [
      "Step: 529 \tX = 17.33909 \tf(X) = 3006.44104\n",
      "Step: 530 \tX = 17.30441 \tf(X) = 2994.4273\n",
      "Step: 531 \tX = 17.2698 \tf(X) = 2982.46157\n",
      "Step: 532 \tX = 17.23527 \tf(X) = 2970.54365\n",
      "Step: 533 \tX = 17.20079 \tf(X) = 2958.67336\n",
      "Step: 534 \tX = 17.16639 \tf(X) = 2946.8505\n",
      "Step: 535 \tX = 17.13206 \tf(X) = 2935.07488\n",
      "Step: 536 \tX = 17.0978 \tf(X) = 2923.34633\n"
     ]
    },
    {
     "name": "stderr",
     "output_type": "stream",
     "text": [
      "\n",
      "  1%|▍                                                                            | 537/100000 [00:07<23:53, 69.37it/s]"
     ]
    },
    {
     "name": "stdout",
     "output_type": "stream",
     "text": [
      "Step: 537 \tX = 17.0636 \tf(X) = 2911.66463\n",
      "Step: 538 \tX = 17.02947 \tf(X) = 2900.02962\n",
      "Step: 539 \tX = 16.99541 \tf(X) = 2888.4411\n",
      "Step: 540 \tX = 16.96142 \tf(X) = 2876.89889\n",
      "Step: 541 \tX = 16.9275 \tf(X) = 2865.4028\n",
      "Step: 542 \tX = 16.89365 \tf(X) = 2853.95265\n",
      "Step: 543 \tX = 16.85986 \tf(X) = 2842.54826\n",
      "Step: 544 \tX = 16.82614 \tf(X) = 2831.18944\n"
     ]
    },
    {
     "name": "stderr",
     "output_type": "stream",
     "text": [
      "\n",
      "  1%|▍                                                                            | 545/100000 [00:07<27:06, 61.15it/s]"
     ]
    },
    {
     "name": "stdout",
     "output_type": "stream",
     "text": [
      "Step: 545 \tX = 16.79249 \tf(X) = 2819.876\n",
      "Step: 546 \tX = 16.7589 \tf(X) = 2808.60778\n",
      "Step: 547 \tX = 16.72538 \tf(X) = 2797.38458\n",
      "Step: 548 \tX = 16.69193 \tf(X) = 2786.20623\n",
      "Step: 549 \tX = 16.65855 \tf(X) = 2775.07255\n",
      "Step: 550 \tX = 16.62523 \tf(X) = 2763.98336\n",
      "Step: 551 \tX = 16.59198 \tf(X) = 2752.93849\n",
      "Step: 552 \tX = 16.5588 \tf(X) = 2741.93774\n",
      "Step: 553 \tX = 16.52568 \tf(X) = 2730.98096\n",
      "Step: 554 \tX = 16.49263 \tf(X) = 2720.06796\n",
      "Step: 555 \tX = 16.45964 \tf(X) = 2709.19857\n",
      "Step: 556 \tX = 16.42672 \tf(X) = 2698.37261\n"
     ]
    },
    {
     "name": "stderr",
     "output_type": "stream",
     "text": [
      "\n",
      "  1%|▍                                                                            | 557/100000 [00:07<23:09, 71.57it/s]"
     ]
    },
    {
     "name": "stdout",
     "output_type": "stream",
     "text": [
      "Step: 557 \tX = 16.39387 \tf(X) = 2687.58992\n",
      "Step: 558 \tX = 16.36108 \tf(X) = 2676.85031\n",
      "Step: 559 \tX = 16.32836 \tf(X) = 2666.15361\n",
      "Step: 560 \tX = 16.2957 \tf(X) = 2655.49966\n",
      "Step: 561 \tX = 16.26311 \tf(X) = 2644.88829\n",
      "Step: 562 \tX = 16.23059 \tf(X) = 2634.31931\n",
      "Step: 563 \tX = 16.19813 \tf(X) = 2623.79257\n",
      "Step: 564 \tX = 16.16573 \tf(X) = 2613.3079\n",
      "Step: 565 \tX = 16.1334 \tf(X) = 2602.86512\n"
     ]
    },
    {
     "name": "stderr",
     "output_type": "stream",
     "text": [
      "\n",
      "  1%|▍                                                                            | 566/100000 [00:07<24:26, 67.81it/s]"
     ]
    },
    {
     "name": "stdout",
     "output_type": "stream",
     "text": [
      "Step: 566 \tX = 16.10113 \tf(X) = 2592.46407\n",
      "Step: 567 \tX = 16.06893 \tf(X) = 2582.10458\n",
      "Step: 568 \tX = 16.03679 \tf(X) = 2571.78649\n",
      "Step: 569 \tX = 16.00472 \tf(X) = 2561.50963\n",
      "Step: 570 \tX = 15.97271 \tf(X) = 2551.27384\n",
      "Step: 571 \tX = 15.94076 \tf(X) = 2541.07895\n",
      "Step: 572 \tX = 15.90888 \tf(X) = 2530.9248\n",
      "Step: 573 \tX = 15.87706 \tf(X) = 2520.81122\n",
      "Step: 574 \tX = 15.84531 \tf(X) = 2510.73806\n",
      "Step: 575 \tX = 15.81362 \tf(X) = 2500.70515\n",
      "Step: 576 \tX = 15.78199 \tf(X) = 2490.71234\n"
     ]
    },
    {
     "name": "stderr",
     "output_type": "stream",
     "text": [
      "\n",
      "  1%|▍                                                                            | 577/100000 [00:07<21:48, 75.99it/s]"
     ]
    },
    {
     "name": "stdout",
     "output_type": "stream",
     "text": [
      "Step: 577 \tX = 15.75043 \tf(X) = 2480.75945\n",
      "Step: 578 \tX = 15.71893 \tf(X) = 2470.84633\n",
      "Step: 579 \tX = 15.68749 \tf(X) = 2460.97283\n",
      "Step: 580 \tX = 15.65611 \tf(X) = 2451.13879\n",
      "Step: 581 \tX = 15.6248 \tf(X) = 2441.34403\n",
      "Step: 582 \tX = 15.59355 \tf(X) = 2431.58842\n",
      "Step: 583 \tX = 15.56236 \tf(X) = 2421.8718\n",
      "Step: 584 \tX = 15.53124 \tf(X) = 2412.194\n",
      "Step: 585 \tX = 15.50018 \tf(X) = 2402.55487\n"
     ]
    },
    {
     "name": "stderr",
     "output_type": "stream",
     "text": [
      "\n",
      "  1%|▍                                                                            | 586/100000 [00:07<23:39, 70.04it/s]"
     ]
    },
    {
     "name": "stdout",
     "output_type": "stream",
     "text": [
      "Step: 586 \tX = 15.46918 \tf(X) = 2392.95426\n",
      "Step: 587 \tX = 15.43824 \tf(X) = 2383.39202\n",
      "Step: 588 \tX = 15.40736 \tf(X) = 2373.86798\n",
      "Step: 589 \tX = 15.37655 \tf(X) = 2364.382\n",
      "Step: 590 \tX = 15.34579 \tf(X) = 2354.93393\n",
      "Step: 591 \tX = 15.3151 \tf(X) = 2345.52362\n",
      "Step: 592 \tX = 15.28447 \tf(X) = 2336.15091\n",
      "Step: 593 \tX = 15.2539 \tf(X) = 2326.81565\n",
      "Step: 594 \tX = 15.2234 \tf(X) = 2317.51769\n",
      "Step: 595 \tX = 15.19295 \tf(X) = 2308.25689\n",
      "Step: 596 \tX = 15.16256 \tf(X) = 2299.0331\n",
      "Step: 597 \tX = 15.13224 \tf(X) = 2289.84616\n"
     ]
    },
    {
     "name": "stderr",
     "output_type": "stream",
     "text": [
      "\n",
      "  1%|▍                                                                            | 598/100000 [00:07<21:06, 78.46it/s]"
     ]
    },
    {
     "name": "stdout",
     "output_type": "stream",
     "text": [
      "Step: 598 \tX = 15.10197 \tf(X) = 2280.69593\n",
      "Step: 599 \tX = 15.07177 \tf(X) = 2271.58227\n",
      "Step: 600 \tX = 15.04163 \tf(X) = 2262.50503\n",
      "Step: 601 \tX = 15.01154 \tf(X) = 2253.46406\n",
      "Step: 602 \tX = 14.98152 \tf(X) = 2244.45922\n",
      "Step: 603 \tX = 14.95156 \tf(X) = 2235.49036\n",
      "Step: 604 \tX = 14.92165 \tf(X) = 2226.55734\n",
      "Step: 605 \tX = 14.89181 \tf(X) = 2217.66002\n",
      "Step: 606 \tX = 14.86203 \tf(X) = 2208.79825\n"
     ]
    },
    {
     "name": "stderr",
     "output_type": "stream",
     "text": [
      "\n",
      "  1%|▍                                                                            | 607/100000 [00:08<23:10, 71.49it/s]"
     ]
    },
    {
     "name": "stdout",
     "output_type": "stream",
     "text": [
      "Step: 607 \tX = 14.8323 \tf(X) = 2199.97189\n",
      "Step: 608 \tX = 14.80264 \tf(X) = 2191.1808\n",
      "Step: 609 \tX = 14.77303 \tf(X) = 2182.42484\n",
      "Step: 610 \tX = 14.74349 \tf(X) = 2173.70387\n",
      "Step: 611 \tX = 14.714 \tf(X) = 2165.01775\n",
      "Step: 612 \tX = 14.68457 \tf(X) = 2156.36634\n",
      "Step: 613 \tX = 14.6552 \tf(X) = 2147.7495\n",
      "Step: 614 \tX = 14.62589 \tf(X) = 2139.16709\n",
      "Step: 615 \tX = 14.59664 \tf(X) = 2130.61898\n",
      "Step: 616 \tX = 14.56745 \tf(X) = 2122.10503\n",
      "Step: 617 \tX = 14.53831 \tf(X) = 2113.6251\n",
      "Step: 618 \tX = 14.50924 \tf(X) = 2105.17905\n",
      "Step: 619 \tX = 14.48022 \tf(X) = 2096.76676\n"
     ]
    },
    {
     "name": "stderr",
     "output_type": "stream",
     "text": [
      "\n",
      "  1%|▍                                                                            | 620/100000 [00:08<20:04, 82.49it/s]"
     ]
    },
    {
     "name": "stdout",
     "output_type": "stream",
     "text": [
      "Step: 620 \tX = 14.45126 \tf(X) = 2088.38808\n",
      "Step: 621 \tX = 14.42235 \tf(X) = 2080.04288\n",
      "Step: 622 \tX = 14.39351 \tf(X) = 2071.73103\n",
      "Step: 623 \tX = 14.36472 \tf(X) = 2063.45239\n",
      "Step: 624 \tX = 14.33599 \tf(X) = 2055.20683\n",
      "Step: 625 \tX = 14.30732 \tf(X) = 2046.99423\n",
      "Step: 626 \tX = 14.27871 \tf(X) = 2038.81444\n",
      "Step: 627 \tX = 14.25015 \tf(X) = 2030.66734\n",
      "Step: 628 \tX = 14.22165 \tf(X) = 2022.55279\n",
      "Step: 629 \tX = 14.1932 \tf(X) = 2014.47067\n"
     ]
    },
    {
     "name": "stderr",
     "output_type": "stream",
     "text": [
      "\n",
      "  1%|▍                                                                            | 630/100000 [00:08<21:33, 76.83it/s]"
     ]
    },
    {
     "name": "stdout",
     "output_type": "stream",
     "text": [
      "Step: 630 \tX = 14.16482 \tf(X) = 2006.42084\n",
      "Step: 631 \tX = 14.13649 \tf(X) = 1998.40319\n",
      "Step: 632 \tX = 14.10822 \tf(X) = 1990.41757\n",
      "Step: 633 \tX = 14.08 \tf(X) = 1982.46386\n",
      "Step: 634 \tX = 14.05184 \tf(X) = 1974.54193\n",
      "Step: 635 \tX = 14.02374 \tf(X) = 1966.65166\n",
      "Step: 636 \tX = 13.99569 \tf(X) = 1958.79292\n",
      "Step: 637 \tX = 13.9677 \tf(X) = 1950.96559\n",
      "Step: 638 \tX = 13.93976 \tf(X) = 1943.16953\n",
      "Step: 639 \tX = 13.91188 \tf(X) = 1935.40462\n",
      "Step: 640 \tX = 13.88406 \tf(X) = 1927.67075\n",
      "Step: 641 \tX = 13.85629 \tf(X) = 1919.96777\n",
      "Step: 642 \tX = 13.82858 \tf(X) = 1912.29558\n"
     ]
    },
    {
     "name": "stderr",
     "output_type": "stream",
     "text": [
      "\n",
      "  1%|▍                                                                            | 643/100000 [00:08<21:28, 77.13it/s]"
     ]
    },
    {
     "name": "stdout",
     "output_type": "stream",
     "text": [
      "Step: 643 \tX = 13.80092 \tf(X) = 1904.65405\n",
      "Step: 644 \tX = 13.77332 \tf(X) = 1897.04305\n",
      "Step: 645 \tX = 13.74577 \tf(X) = 1889.46247\n",
      "Step: 646 \tX = 13.71828 \tf(X) = 1881.91218\n",
      "Step: 647 \tX = 13.69084 \tf(X) = 1874.39205\n",
      "Step: 648 \tX = 13.66346 \tf(X) = 1866.90198\n",
      "Step: 649 \tX = 13.63614 \tf(X) = 1859.44184\n",
      "Step: 650 \tX = 13.60886 \tf(X) = 1852.01151\n",
      "Step: 651 \tX = 13.58165 \tf(X) = 1844.61088\n",
      "Step: 652 \tX = 13.55448 \tf(X) = 1837.23981\n",
      "Step: 653 \tX = 13.52737 \tf(X) = 1829.8982\n"
     ]
    },
    {
     "name": "stderr",
     "output_type": "stream",
     "text": [
      "\n",
      "  1%|▌                                                                            | 654/100000 [00:08<19:32, 84.73it/s]"
     ]
    },
    {
     "name": "stdout",
     "output_type": "stream",
     "text": [
      "Step: 654 \tX = 13.50032 \tf(X) = 1822.58593\n",
      "Step: 655 \tX = 13.47332 \tf(X) = 1815.30287\n",
      "Step: 656 \tX = 13.44637 \tf(X) = 1808.04892\n",
      "Step: 657 \tX = 13.41948 \tf(X) = 1800.82396\n",
      "Step: 658 \tX = 13.39264 \tf(X) = 1793.62787\n",
      "Step: 659 \tX = 13.36585 \tf(X) = 1786.46053\n",
      "Step: 660 \tX = 13.33912 \tf(X) = 1779.32183\n",
      "Step: 661 \tX = 13.31244 \tf(X) = 1772.21166\n",
      "Step: 662 \tX = 13.28582 \tf(X) = 1765.12991\n",
      "Step: 663 \tX = 13.25925 \tf(X) = 1758.07645\n"
     ]
    },
    {
     "name": "stderr",
     "output_type": "stream",
     "text": [
      "\n",
      "  1%|▌                                                                            | 664/100000 [00:08<21:37, 76.56it/s]"
     ]
    },
    {
     "name": "stdout",
     "output_type": "stream",
     "text": [
      "Step: 664 \tX = 13.23273 \tf(X) = 1751.05117\n",
      "Step: 665 \tX = 13.20626 \tf(X) = 1744.05397\n",
      "Step: 666 \tX = 13.17985 \tf(X) = 1737.08473\n",
      "Step: 667 \tX = 13.15349 \tf(X) = 1730.14334\n",
      "Step: 668 \tX = 13.12718 \tf(X) = 1723.22969\n",
      "Step: 669 \tX = 13.10093 \tf(X) = 1716.34366\n",
      "Step: 670 \tX = 13.07473 \tf(X) = 1709.48515\n",
      "Step: 671 \tX = 13.04858 \tf(X) = 1702.65405\n",
      "Step: 672 \tX = 13.02248 \tf(X) = 1695.85025\n",
      "Step: 673 \tX = 12.99644 \tf(X) = 1689.07363\n",
      "Step: 674 \tX = 12.97044 \tf(X) = 1682.32409\n"
     ]
    },
    {
     "name": "stderr",
     "output_type": "stream",
     "text": [
      "\n",
      "  1%|▌                                                                            | 675/100000 [00:08<19:55, 83.10it/s]"
     ]
    },
    {
     "name": "stdout",
     "output_type": "stream",
     "text": [
      "Step: 675 \tX = 12.9445 \tf(X) = 1675.60152\n",
      "Step: 676 \tX = 12.91861 \tf(X) = 1668.90582\n",
      "Step: 677 \tX = 12.89278 \tf(X) = 1662.23687\n",
      "Step: 678 \tX = 12.86699 \tf(X) = 1655.59457\n",
      "Step: 679 \tX = 12.84126 \tf(X) = 1648.97882\n",
      "Step: 680 \tX = 12.81557 \tf(X) = 1642.3895\n",
      "Step: 681 \tX = 12.78994 \tf(X) = 1635.82651\n",
      "Step: 682 \tX = 12.76436 \tf(X) = 1629.28975\n",
      "Step: 683 \tX = 12.73883 \tf(X) = 1622.77911\n"
     ]
    },
    {
     "name": "stderr",
     "output_type": "stream",
     "text": [
      "\n",
      "  1%|▌                                                                            | 684/100000 [00:08<20:30, 80.71it/s]"
     ]
    },
    {
     "name": "stdout",
     "output_type": "stream",
     "text": [
      "Step: 684 \tX = 12.71336 \tf(X) = 1616.29448\n",
      "Step: 685 \tX = 12.68793 \tf(X) = 1609.83577\n",
      "Step: 686 \tX = 12.66255 \tf(X) = 1603.40286\n",
      "Step: 687 \tX = 12.63723 \tf(X) = 1596.99567\n",
      "Step: 688 \tX = 12.61195 \tf(X) = 1590.61407\n",
      "Step: 689 \tX = 12.58673 \tf(X) = 1584.25798\n",
      "Step: 690 \tX = 12.56156 \tf(X) = 1577.92728\n",
      "Step: 691 \tX = 12.53643 \tf(X) = 1571.62189\n",
      "Step: 692 \tX = 12.51136 \tf(X) = 1565.34168\n",
      "Step: 693 \tX = 12.48634 \tf(X) = 1559.08658\n"
     ]
    },
    {
     "name": "stderr",
     "output_type": "stream",
     "text": [
      "\n",
      "  1%|▌                                                                            | 694/100000 [00:09<19:25, 85.23it/s]"
     ]
    },
    {
     "name": "stdout",
     "output_type": "stream",
     "text": [
      "Step: 694 \tX = 12.46137 \tf(X) = 1552.85647\n",
      "Step: 695 \tX = 12.43644 \tf(X) = 1546.65125\n",
      "Step: 696 \tX = 12.41157 \tf(X) = 1540.47084\n",
      "Step: 697 \tX = 12.38675 \tf(X) = 1534.31511\n",
      "Step: 698 \tX = 12.36197 \tf(X) = 1528.18399\n",
      "Step: 699 \tX = 12.33725 \tf(X) = 1522.07737\n",
      "Step: 700 \tX = 12.31258 \tf(X) = 1515.99515\n",
      "Step: 701 \tX = 12.28795 \tf(X) = 1509.93723\n",
      "Step: 702 \tX = 12.26337 \tf(X) = 1503.90352\n"
     ]
    },
    {
     "name": "stderr",
     "output_type": "stream",
     "text": [
      "\n",
      "  1%|▌                                                                            | 703/100000 [00:09<22:15, 74.37it/s]"
     ]
    },
    {
     "name": "stdout",
     "output_type": "stream",
     "text": [
      "Step: 703 \tX = 12.23885 \tf(X) = 1497.89392\n",
      "Step: 704 \tX = 12.21437 \tf(X) = 1491.90834\n",
      "Step: 705 \tX = 12.18994 \tf(X) = 1485.94667\n",
      "Step: 706 \tX = 12.16556 \tf(X) = 1480.00883\n",
      "Step: 707 \tX = 12.14123 \tf(X) = 1474.09471\n",
      "Step: 708 \tX = 12.11695 \tf(X) = 1468.20423\n",
      "Step: 709 \tX = 12.09271 \tf(X) = 1462.33729\n",
      "Step: 710 \tX = 12.06853 \tf(X) = 1456.49379\n"
     ]
    },
    {
     "name": "stderr",
     "output_type": "stream",
     "text": [
      "\n",
      "  1%|▌                                                                            | 711/100000 [00:09<26:00, 63.64it/s]"
     ]
    },
    {
     "name": "stdout",
     "output_type": "stream",
     "text": [
      "Step: 711 \tX = 12.04439 \tf(X) = 1450.67364\n",
      "Step: 712 \tX = 12.0203 \tf(X) = 1444.87675\n",
      "Step: 713 \tX = 11.99626 \tf(X) = 1439.10302\n",
      "Step: 714 \tX = 11.97227 \tf(X) = 1433.35236\n",
      "Step: 715 \tX = 11.94832 \tf(X) = 1427.62469\n",
      "Step: 716 \tX = 11.92443 \tf(X) = 1421.9199\n",
      "Step: 717 \tX = 11.90058 \tf(X) = 1416.23791\n"
     ]
    },
    {
     "name": "stderr",
     "output_type": "stream",
     "text": [
      "\n",
      "  1%|▌                                                                            | 718/100000 [00:09<33:05, 50.00it/s]"
     ]
    },
    {
     "name": "stdout",
     "output_type": "stream",
     "text": [
      "Step: 718 \tX = 11.87678 \tf(X) = 1410.57862\n",
      "Step: 719 \tX = 11.85302 \tf(X) = 1404.94195\n",
      "Step: 720 \tX = 11.82932 \tf(X) = 1399.3278\n",
      "Step: 721 \tX = 11.80566 \tf(X) = 1393.73609\n",
      "Step: 722 \tX = 11.78205 \tf(X) = 1388.16672\n",
      "Step: 723 \tX = 11.75848 \tf(X) = 1382.6196\n"
     ]
    },
    {
     "name": "stderr",
     "output_type": "stream",
     "text": [
      "\n",
      "  1%|▌                                                                            | 724/100000 [00:09<36:33, 45.25it/s]"
     ]
    },
    {
     "name": "stdout",
     "output_type": "stream",
     "text": [
      "Step: 724 \tX = 11.73497 \tf(X) = 1377.09466\n",
      "Step: 725 \tX = 11.7115 \tf(X) = 1371.59179\n",
      "Step: 726 \tX = 11.68807 \tf(X) = 1366.1109\n",
      "Step: 727 \tX = 11.6647 \tf(X) = 1360.65193\n",
      "Step: 728 \tX = 11.64137 \tf(X) = 1355.21476\n",
      "Step: 729 \tX = 11.61809 \tf(X) = 1349.79932\n"
     ]
    },
    {
     "name": "stderr",
     "output_type": "stream",
     "text": [
      "\n",
      "  1%|▌                                                                            | 730/100000 [00:09<33:56, 48.74it/s]"
     ]
    },
    {
     "name": "stdout",
     "output_type": "stream",
     "text": [
      "Step: 730 \tX = 11.59485 \tf(X) = 1344.40552\n",
      "Step: 731 \tX = 11.57166 \tf(X) = 1339.03328\n",
      "Step: 732 \tX = 11.54852 \tf(X) = 1333.6825\n",
      "Step: 733 \tX = 11.52542 \tf(X) = 1328.35311\n",
      "Step: 734 \tX = 11.50237 \tf(X) = 1323.04501\n",
      "Step: 735 \tX = 11.47936 \tf(X) = 1317.75812\n"
     ]
    },
    {
     "name": "stderr",
     "output_type": "stream",
     "text": [
      "\n",
      "  1%|▌                                                                            | 736/100000 [00:09<32:26, 50.99it/s]"
     ]
    },
    {
     "name": "stdout",
     "output_type": "stream",
     "text": [
      "Step: 736 \tX = 11.45641 \tf(X) = 1312.49236\n",
      "Step: 737 \tX = 11.43349 \tf(X) = 1307.24764\n",
      "Step: 738 \tX = 11.41063 \tf(X) = 1302.02388\n",
      "Step: 739 \tX = 11.3878 \tf(X) = 1296.82099\n",
      "Step: 740 \tX = 11.36503 \tf(X) = 1291.63889\n",
      "Step: 741 \tX = 11.3423 \tf(X) = 1286.4775\n"
     ]
    },
    {
     "name": "stderr",
     "output_type": "stream",
     "text": [
      "\n",
      "  1%|▌                                                                            | 742/100000 [00:10<35:02, 47.22it/s]"
     ]
    },
    {
     "name": "stdout",
     "output_type": "stream",
     "text": [
      "Step: 742 \tX = 11.31961 \tf(X) = 1281.33674\n",
      "Step: 743 \tX = 11.29698 \tf(X) = 1276.21652\n",
      "Step: 744 \tX = 11.27438 \tf(X) = 1271.11676\n",
      "Step: 745 \tX = 11.25183 \tf(X) = 1266.03738\n",
      "Step: 746 \tX = 11.22933 \tf(X) = 1260.97829\n",
      "Step: 747 \tX = 11.20687 \tf(X) = 1255.93942\n"
     ]
    },
    {
     "name": "stderr",
     "output_type": "stream",
     "text": [
      "\n",
      "  1%|▌                                                                            | 748/100000 [00:10<33:12, 49.81it/s]"
     ]
    },
    {
     "name": "stdout",
     "output_type": "stream",
     "text": [
      "Step: 748 \tX = 11.18446 \tf(X) = 1250.92069\n",
      "Step: 749 \tX = 11.16209 \tf(X) = 1245.92201\n",
      "Step: 750 \tX = 11.13976 \tf(X) = 1240.9433\n",
      "Step: 751 \tX = 11.11748 \tf(X) = 1235.98449\n",
      "Step: 752 \tX = 11.09525 \tf(X) = 1231.0455\n",
      "Step: 753 \tX = 11.07306 \tf(X) = 1226.12624\n"
     ]
    },
    {
     "name": "stderr",
     "output_type": "stream",
     "text": [
      "\n",
      "  1%|▌                                                                            | 754/100000 [00:10<33:15, 49.74it/s]"
     ]
    },
    {
     "name": "stdout",
     "output_type": "stream",
     "text": [
      "Step: 754 \tX = 11.05091 \tf(X) = 1221.22664\n",
      "Step: 755 \tX = 11.02881 \tf(X) = 1216.34662\n",
      "Step: 756 \tX = 11.00675 \tf(X) = 1211.4861\n",
      "Step: 757 \tX = 10.98474 \tf(X) = 1206.645\n",
      "Step: 758 \tX = 10.96277 \tf(X) = 1201.82325\n",
      "Step: 759 \tX = 10.94084 \tf(X) = 1197.02076\n",
      "Step: 760 \tX = 10.91896 \tf(X) = 1192.23747\n"
     ]
    },
    {
     "name": "stderr",
     "output_type": "stream",
     "text": [
      "\n",
      "  1%|▌                                                                            | 761/100000 [00:10<30:43, 53.84it/s]"
     ]
    },
    {
     "name": "stdout",
     "output_type": "stream",
     "text": [
      "Step: 761 \tX = 10.89712 \tf(X) = 1187.47329\n",
      "Step: 762 \tX = 10.87533 \tf(X) = 1182.72814\n",
      "Step: 763 \tX = 10.85358 \tf(X) = 1178.00196\n",
      "Step: 764 \tX = 10.83187 \tf(X) = 1173.29466\n",
      "Step: 765 \tX = 10.81021 \tf(X) = 1168.60618\n",
      "Step: 766 \tX = 10.78859 \tf(X) = 1163.93643\n",
      "Step: 767 \tX = 10.76701 \tf(X) = 1159.28534\n"
     ]
    },
    {
     "name": "stderr",
     "output_type": "stream",
     "text": [
      "\n",
      "  1%|▌                                                                            | 768/100000 [00:10<29:00, 57.00it/s]"
     ]
    },
    {
     "name": "stdout",
     "output_type": "stream",
     "text": [
      "Step: 768 \tX = 10.74548 \tf(X) = 1154.65283\n",
      "Step: 769 \tX = 10.72399 \tf(X) = 1150.03884\n",
      "Step: 770 \tX = 10.70254 \tf(X) = 1145.44329\n",
      "Step: 771 \tX = 10.68113 \tf(X) = 1140.8661\n",
      "Step: 772 \tX = 10.65977 \tf(X) = 1136.30719\n",
      "Step: 773 \tX = 10.63845 \tf(X) = 1131.76651\n",
      "Step: 774 \tX = 10.61717 \tf(X) = 1127.24397\n",
      "Step: 775 \tX = 10.59594 \tf(X) = 1122.7395\n"
     ]
    },
    {
     "name": "stderr",
     "output_type": "stream",
     "text": [
      "\n",
      "  1%|▌                                                                            | 776/100000 [00:10<27:26, 60.27it/s]"
     ]
    },
    {
     "name": "stdout",
     "output_type": "stream",
     "text": [
      "Step: 776 \tX = 10.57475 \tf(X) = 1118.25304\n",
      "Step: 777 \tX = 10.5536 \tf(X) = 1113.7845\n",
      "Step: 778 \tX = 10.53249 \tf(X) = 1109.33382\n",
      "Step: 779 \tX = 10.51143 \tf(X) = 1104.90092\n",
      "Step: 780 \tX = 10.4904 \tf(X) = 1100.48573\n",
      "Step: 781 \tX = 10.46942 \tf(X) = 1096.08819\n",
      "Step: 782 \tX = 10.44848 \tf(X) = 1091.70822\n"
     ]
    },
    {
     "name": "stderr",
     "output_type": "stream",
     "text": [
      "\n",
      "  1%|▌                                                                            | 783/100000 [00:10<27:38, 59.83it/s]"
     ]
    },
    {
     "name": "stdout",
     "output_type": "stream",
     "text": [
      "Step: 783 \tX = 10.42759 \tf(X) = 1087.34576\n",
      "Step: 784 \tX = 10.40673 \tf(X) = 1083.00072\n",
      "Step: 785 \tX = 10.38592 \tf(X) = 1078.67305\n",
      "Step: 786 \tX = 10.36515 \tf(X) = 1074.36268\n",
      "Step: 787 \tX = 10.34442 \tf(X) = 1070.06952\n",
      "Step: 788 \tX = 10.32373 \tf(X) = 1065.79353\n",
      "Step: 789 \tX = 10.30308 \tf(X) = 1061.53461\n",
      "Step: 790 \tX = 10.28247 \tf(X) = 1057.29272\n"
     ]
    },
    {
     "name": "stderr",
     "output_type": "stream",
     "text": [
      "\n",
      "  1%|▌                                                                            | 791/100000 [00:10<26:13, 63.04it/s]"
     ]
    },
    {
     "name": "stdout",
     "output_type": "stream",
     "text": [
      "Step: 791 \tX = 10.26191 \tf(X) = 1053.06778\n",
      "Step: 792 \tX = 10.24139 \tf(X) = 1048.85972\n",
      "Step: 793 \tX = 10.2209 \tf(X) = 1044.66848\n",
      "Step: 794 \tX = 10.20046 \tf(X) = 1040.49398\n",
      "Step: 795 \tX = 10.18006 \tf(X) = 1036.33617\n",
      "Step: 796 \tX = 10.1597 \tf(X) = 1032.19497\n",
      "Step: 797 \tX = 10.13938 \tf(X) = 1028.07032\n"
     ]
    },
    {
     "name": "stderr",
     "output_type": "stream",
     "text": [
      "\n",
      "  1%|▌                                                                            | 798/100000 [00:11<27:00, 61.23it/s]"
     ]
    },
    {
     "name": "stdout",
     "output_type": "stream",
     "text": [
      "Step: 798 \tX = 10.1191 \tf(X) = 1023.96215\n",
      "Step: 799 \tX = 10.09886 \tf(X) = 1019.8704\n",
      "Step: 800 \tX = 10.07867 \tf(X) = 1015.79499\n",
      "Step: 801 \tX = 10.05851 \tf(X) = 1011.73588\n",
      "Step: 802 \tX = 10.03839 \tf(X) = 1007.69298\n",
      "Step: 803 \tX = 10.01831 \tf(X) = 1003.66624\n",
      "Step: 804 \tX = 9.99828 \tf(X) = 999.65559\n",
      "Step: 805 \tX = 9.97828 \tf(X) = 995.66097\n"
     ]
    },
    {
     "name": "stderr",
     "output_type": "stream",
     "text": [
      "\n",
      "  1%|▌                                                                            | 806/100000 [00:11<25:35, 64.59it/s]"
     ]
    },
    {
     "name": "stdout",
     "output_type": "stream",
     "text": [
      "Step: 806 \tX = 9.95832 \tf(X) = 991.6823\n",
      "Step: 807 \tX = 9.93841 \tf(X) = 987.71954\n",
      "Step: 808 \tX = 9.91853 \tf(X) = 983.77262\n",
      "Step: 809 \tX = 9.89869 \tf(X) = 979.84146\n",
      "Step: 810 \tX = 9.8789 \tf(X) = 975.92601\n",
      "Step: 811 \tX = 9.85914 \tf(X) = 972.02621\n",
      "Step: 812 \tX = 9.83942 \tf(X) = 968.142\n",
      "Step: 813 \tX = 9.81974 \tf(X) = 964.2733\n",
      "Step: 814 \tX = 9.8001 \tf(X) = 960.42006\n",
      "Step: 815 \tX = 9.7805 \tf(X) = 956.58223\n"
     ]
    },
    {
     "name": "stderr",
     "output_type": "stream",
     "text": [
      "\n",
      "  1%|▋                                                                            | 816/100000 [00:11<24:06, 68.55it/s]"
     ]
    },
    {
     "name": "stdout",
     "output_type": "stream",
     "text": [
      "Step: 816 \tX = 9.76094 \tf(X) = 952.75972\n",
      "Step: 817 \tX = 9.74142 \tf(X) = 948.9525\n",
      "Step: 818 \tX = 9.72194 \tf(X) = 945.16048\n",
      "Step: 819 \tX = 9.70249 \tf(X) = 941.38362\n",
      "Step: 820 \tX = 9.68309 \tf(X) = 937.62185\n",
      "Step: 821 \tX = 9.66372 \tf(X) = 933.87511\n",
      "Step: 822 \tX = 9.64439 \tf(X) = 930.14335\n",
      "Step: 823 \tX = 9.62511 \tf(X) = 926.4265\n"
     ]
    },
    {
     "name": "stderr",
     "output_type": "stream",
     "text": [
      "\n",
      "  1%|▋                                                                            | 824/100000 [00:11<23:56, 69.03it/s]"
     ]
    },
    {
     "name": "stdout",
     "output_type": "stream",
     "text": [
      "Step: 824 \tX = 9.60585 \tf(X) = 922.7245\n",
      "Step: 825 \tX = 9.58664 \tf(X) = 919.03729\n",
      "Step: 826 \tX = 9.56747 \tf(X) = 915.36482\n",
      "Step: 827 \tX = 9.54834 \tf(X) = 911.70702\n",
      "Step: 828 \tX = 9.52924 \tf(X) = 908.06384\n",
      "Step: 829 \tX = 9.51018 \tf(X) = 904.43521\n",
      "Step: 830 \tX = 9.49116 \tf(X) = 900.82109\n",
      "Step: 831 \tX = 9.47218 \tf(X) = 897.22141\n"
     ]
    },
    {
     "name": "stderr",
     "output_type": "stream",
     "text": [
      "\n",
      "  1%|▋                                                                            | 832/100000 [00:11<23:12, 71.22it/s]"
     ]
    },
    {
     "name": "stdout",
     "output_type": "stream",
     "text": [
      "Step: 832 \tX = 9.45323 \tf(X) = 893.63611\n",
      "Step: 833 \tX = 9.43433 \tf(X) = 890.06514\n",
      "Step: 834 \tX = 9.41546 \tf(X) = 886.50844\n",
      "Step: 835 \tX = 9.39663 \tf(X) = 882.96596\n",
      "Step: 836 \tX = 9.37783 \tf(X) = 879.43762\n",
      "Step: 837 \tX = 9.35908 \tf(X) = 875.92339\n",
      "Step: 838 \tX = 9.34036 \tf(X) = 872.4232\n",
      "Step: 839 \tX = 9.32168 \tf(X) = 868.937\n",
      "Step: 840 \tX = 9.30304 \tf(X) = 865.46473\n",
      "Step: 841 \tX = 9.28443 \tf(X) = 862.00633\n"
     ]
    },
    {
     "name": "stderr",
     "output_type": "stream",
     "text": [
      "\n",
      "  1%|▋                                                                            | 842/100000 [00:11<21:26, 77.05it/s]"
     ]
    },
    {
     "name": "stdout",
     "output_type": "stream",
     "text": [
      "Step: 842 \tX = 9.26586 \tf(X) = 858.56175\n",
      "Step: 843 \tX = 9.24733 \tf(X) = 855.13094\n",
      "Step: 844 \tX = 9.22883 \tf(X) = 851.71383\n",
      "Step: 845 \tX = 9.21038 \tf(X) = 848.31039\n",
      "Step: 846 \tX = 9.19196 \tf(X) = 844.92054\n",
      "Step: 847 \tX = 9.17357 \tf(X) = 841.54424\n",
      "Step: 848 \tX = 9.15522 \tf(X) = 838.18142\n",
      "Step: 849 \tX = 9.13691 \tf(X) = 834.83205\n",
      "Step: 850 \tX = 9.11864 \tf(X) = 831.49606\n",
      "Step: 851 \tX = 9.1004 \tf(X) = 828.1734\n"
     ]
    },
    {
     "name": "stderr",
     "output_type": "stream",
     "text": [
      "\n",
      "  1%|▋                                                                            | 852/100000 [00:11<20:01, 82.54it/s]"
     ]
    },
    {
     "name": "stdout",
     "output_type": "stream",
     "text": [
      "Step: 852 \tX = 9.0822 \tf(X) = 824.86402\n",
      "Step: 853 \tX = 9.06404 \tf(X) = 821.56787\n",
      "Step: 854 \tX = 9.04591 \tf(X) = 818.28488\n",
      "Step: 855 \tX = 9.02782 \tf(X) = 815.01502\n",
      "Step: 856 \tX = 9.00976 \tf(X) = 811.75822\n",
      "Step: 857 \tX = 8.99174 \tf(X) = 808.51443\n",
      "Step: 858 \tX = 8.97376 \tf(X) = 805.28361\n",
      "Step: 859 \tX = 8.95581 \tf(X) = 802.06569\n",
      "Step: 860 \tX = 8.9379 \tf(X) = 798.86064\n",
      "Step: 861 \tX = 8.92002 \tf(X) = 795.66839\n",
      "Step: 862 \tX = 8.90218 \tf(X) = 792.4889\n"
     ]
    },
    {
     "name": "stderr",
     "output_type": "stream",
     "text": [
      "\n",
      "  1%|▋                                                                            | 863/100000 [00:11<18:33, 89.01it/s]"
     ]
    },
    {
     "name": "stdout",
     "output_type": "stream",
     "text": [
      "Step: 863 \tX = 8.88438 \tf(X) = 789.32211\n",
      "Step: 864 \tX = 8.86661 \tf(X) = 786.16798\n",
      "Step: 865 \tX = 8.84888 \tf(X) = 783.02646\n",
      "Step: 866 \tX = 8.83118 \tf(X) = 779.89748\n",
      "Step: 867 \tX = 8.81352 \tf(X) = 776.78101\n",
      "Step: 868 \tX = 8.79589 \tf(X) = 773.677\n",
      "Step: 869 \tX = 8.7783 \tf(X) = 770.58538\n",
      "Step: 870 \tX = 8.76074 \tf(X) = 767.50612\n",
      "Step: 871 \tX = 8.74322 \tf(X) = 764.43917\n",
      "Step: 872 \tX = 8.72573 \tf(X) = 761.38447\n"
     ]
    },
    {
     "name": "stderr",
     "output_type": "stream",
     "text": [
      "\n",
      "  1%|▋                                                                            | 873/100000 [00:11<19:20, 85.44it/s]"
     ]
    },
    {
     "name": "stdout",
     "output_type": "stream",
     "text": [
      "Step: 873 \tX = 8.70828 \tf(X) = 758.34198\n",
      "Step: 874 \tX = 8.69087 \tf(X) = 755.31164\n",
      "Step: 875 \tX = 8.67348 \tf(X) = 752.29342\n",
      "Step: 876 \tX = 8.65614 \tf(X) = 749.28725\n",
      "Step: 877 \tX = 8.63883 \tf(X) = 746.2931\n",
      "Step: 878 \tX = 8.62155 \tf(X) = 743.31091\n",
      "Step: 879 \tX = 8.6043 \tf(X) = 740.34064\n",
      "Step: 880 \tX = 8.5871 \tf(X) = 737.38224\n",
      "Step: 881 \tX = 8.56992 \tf(X) = 734.43566\n",
      "Step: 882 \tX = 8.55278 \tf(X) = 731.50086\n",
      "Step: 883 \tX = 8.53568 \tf(X) = 728.57778\n"
     ]
    },
    {
     "name": "stderr",
     "output_type": "stream",
     "text": [
      "\n",
      "  1%|▋                                                                            | 884/100000 [00:12<19:47, 83.44it/s]"
     ]
    },
    {
     "name": "stdout",
     "output_type": "stream",
     "text": [
      "Step: 884 \tX = 8.51861 \tf(X) = 725.66638\n",
      "Step: 885 \tX = 8.50157 \tf(X) = 722.76662\n",
      "Step: 886 \tX = 8.48457 \tf(X) = 719.87845\n",
      "Step: 887 \tX = 8.4676 \tf(X) = 717.00181\n",
      "Step: 888 \tX = 8.45066 \tf(X) = 714.13667\n",
      "Step: 889 \tX = 8.43376 \tf(X) = 711.28298\n",
      "Step: 890 \tX = 8.41689 \tf(X) = 708.44069\n",
      "Step: 891 \tX = 8.40006 \tf(X) = 705.60977\n",
      "Step: 892 \tX = 8.38326 \tf(X) = 702.79015\n",
      "Step: 893 \tX = 8.36649 \tf(X) = 699.9818\n",
      "Step: 894 \tX = 8.34976 \tf(X) = 697.18467\n",
      "Step: 895 \tX = 8.33306 \tf(X) = 694.39872\n",
      "Step: 896 \tX = 8.31639 \tf(X) = 691.62391\n"
     ]
    },
    {
     "name": "stderr",
     "output_type": "stream",
     "text": [
      "\n",
      "  1%|▋                                                                            | 897/100000 [00:12<17:49, 92.69it/s]"
     ]
    },
    {
     "name": "stdout",
     "output_type": "stream",
     "text": [
      "Step: 897 \tX = 8.29976 \tf(X) = 688.86018\n",
      "Step: 898 \tX = 8.28316 \tf(X) = 686.10749\n",
      "Step: 899 \tX = 8.26659 \tf(X) = 683.36581\n",
      "Step: 900 \tX = 8.25006 \tf(X) = 680.63508\n",
      "Step: 901 \tX = 8.23356 \tf(X) = 677.91526\n",
      "Step: 902 \tX = 8.21709 \tf(X) = 675.20631\n",
      "Step: 903 \tX = 8.20066 \tf(X) = 672.50818\n",
      "Step: 904 \tX = 8.18426 \tf(X) = 669.82084\n",
      "Step: 905 \tX = 8.16789 \tf(X) = 667.14424\n",
      "Step: 906 \tX = 8.15155 \tf(X) = 664.47833\n"
     ]
    },
    {
     "name": "stderr",
     "output_type": "stream",
     "text": [
      "\n",
      "  1%|▋                                                                            | 907/100000 [00:12<19:57, 82.77it/s]"
     ]
    },
    {
     "name": "stdout",
     "output_type": "stream",
     "text": [
      "Step: 907 \tX = 8.13525 \tf(X) = 661.82307\n",
      "Step: 908 \tX = 8.11898 \tf(X) = 659.17843\n",
      "Step: 909 \tX = 8.10274 \tf(X) = 656.54435\n",
      "Step: 910 \tX = 8.08654 \tf(X) = 653.9208\n",
      "Step: 911 \tX = 8.07036 \tf(X) = 651.30773\n",
      "Step: 912 \tX = 8.05422 \tf(X) = 648.70511\n",
      "Step: 913 \tX = 8.03811 \tf(X) = 646.11288\n",
      "Step: 914 \tX = 8.02204 \tf(X) = 643.53101\n",
      "Step: 915 \tX = 8.00599 \tf(X) = 640.95946\n",
      "Step: 916 \tX = 7.98998 \tf(X) = 638.39819\n",
      "Step: 917 \tX = 7.974 \tf(X) = 635.84715\n",
      "Step: 918 \tX = 7.95805 \tf(X) = 633.30631\n"
     ]
    },
    {
     "name": "stderr",
     "output_type": "stream",
     "text": [
      "\n",
      "  1%|▋                                                                            | 919/100000 [00:12<18:10, 90.85it/s]"
     ]
    },
    {
     "name": "stdout",
     "output_type": "stream",
     "text": [
      "Step: 919 \tX = 7.94214 \tf(X) = 630.77561\n",
      "Step: 920 \tX = 7.92625 \tf(X) = 628.25503\n",
      "Step: 921 \tX = 7.9104 \tf(X) = 625.74453\n",
      "Step: 922 \tX = 7.89458 \tf(X) = 623.24405\n",
      "Step: 923 \tX = 7.87879 \tf(X) = 620.75357\n",
      "Step: 924 \tX = 7.86303 \tf(X) = 618.27304\n",
      "Step: 925 \tX = 7.84731 \tf(X) = 615.80242\n",
      "Step: 926 \tX = 7.83161 \tf(X) = 613.34167\n",
      "Step: 927 \tX = 7.81595 \tf(X) = 610.89076\n",
      "Step: 928 \tX = 7.80032 \tf(X) = 608.44964\n"
     ]
    },
    {
     "name": "stderr",
     "output_type": "stream",
     "text": [
      "\n",
      "  1%|▋                                                                            | 929/100000 [00:12<20:00, 82.54it/s]"
     ]
    },
    {
     "name": "stdout",
     "output_type": "stream",
     "text": [
      "Step: 929 \tX = 7.78472 \tf(X) = 606.01827\n",
      "Step: 930 \tX = 7.76915 \tf(X) = 603.59663\n",
      "Step: 931 \tX = 7.75361 \tf(X) = 601.18465\n",
      "Step: 932 \tX = 7.7381 \tf(X) = 598.78232\n",
      "Step: 933 \tX = 7.72263 \tf(X) = 596.38959\n",
      "Step: 934 \tX = 7.70718 \tf(X) = 594.00641\n",
      "Step: 935 \tX = 7.69177 \tf(X) = 591.63276\n",
      "Step: 936 \tX = 7.67638 \tf(X) = 589.2686\n",
      "Step: 937 \tX = 7.66103 \tf(X) = 586.91388\n",
      "Step: 938 \tX = 7.64571 \tf(X) = 584.56857\n",
      "Step: 939 \tX = 7.63042 \tf(X) = 582.23264\n"
     ]
    },
    {
     "name": "stderr",
     "output_type": "stream",
     "text": [
      "\n",
      "  1%|▋                                                                            | 940/100000 [00:12<18:46, 87.94it/s]"
     ]
    },
    {
     "name": "stdout",
     "output_type": "stream",
     "text": [
      "Step: 940 \tX = 7.61516 \tf(X) = 579.90604\n",
      "Step: 941 \tX = 7.59993 \tf(X) = 577.58873\n",
      "Step: 942 \tX = 7.58473 \tf(X) = 575.28069\n",
      "Step: 943 \tX = 7.56956 \tf(X) = 572.98186\n",
      "Step: 944 \tX = 7.55442 \tf(X) = 570.69223\n",
      "Step: 945 \tX = 7.53931 \tf(X) = 568.41174\n",
      "Step: 946 \tX = 7.52423 \tf(X) = 566.14037\n",
      "Step: 947 \tX = 7.50918 \tf(X) = 563.87807\n",
      "Step: 948 \tX = 7.49416 \tf(X) = 561.62482\n",
      "Step: 949 \tX = 7.47917 \tf(X) = 559.38056\n"
     ]
    },
    {
     "name": "stderr",
     "output_type": "stream",
     "text": [
      "\n",
      "  1%|▋                                                                            | 950/100000 [00:12<20:07, 82.03it/s]"
     ]
    },
    {
     "name": "stdout",
     "output_type": "stream",
     "text": [
      "Step: 950 \tX = 7.46422 \tf(X) = 557.14528\n",
      "Step: 951 \tX = 7.44929 \tf(X) = 554.91893\n",
      "Step: 952 \tX = 7.43439 \tf(X) = 552.70147\n",
      "Step: 953 \tX = 7.41952 \tf(X) = 550.49288\n",
      "Step: 954 \tX = 7.40468 \tf(X) = 548.29311\n",
      "Step: 955 \tX = 7.38987 \tf(X) = 546.10213\n",
      "Step: 956 \tX = 7.37509 \tf(X) = 543.9199\n",
      "Step: 957 \tX = 7.36034 \tf(X) = 541.7464\n",
      "Step: 958 \tX = 7.34562 \tf(X) = 539.58158\n",
      "Step: 959 \tX = 7.33093 \tf(X) = 537.42541\n",
      "Step: 960 \tX = 7.31627 \tf(X) = 535.27786\n",
      "Step: 961 \tX = 7.30164 \tf(X) = 533.13889\n"
     ]
    },
    {
     "name": "stderr",
     "output_type": "stream",
     "text": [
      "\n",
      "  1%|▋                                                                            | 962/100000 [00:12<18:27, 89.42it/s]"
     ]
    },
    {
     "name": "stdout",
     "output_type": "stream",
     "text": [
      "Step: 962 \tX = 7.28703 \tf(X) = 531.00847\n",
      "Step: 963 \tX = 7.27246 \tf(X) = 528.88656\n",
      "Step: 964 \tX = 7.25791 \tf(X) = 526.77313\n",
      "Step: 965 \tX = 7.2434 \tf(X) = 524.66814\n",
      "Step: 966 \tX = 7.22891 \tf(X) = 522.57157\n",
      "Step: 967 \tX = 7.21445 \tf(X) = 520.48337\n",
      "Step: 968 \tX = 7.20002 \tf(X) = 518.40352\n",
      "Step: 969 \tX = 7.18562 \tf(X) = 516.33198\n",
      "Step: 970 \tX = 7.17125 \tf(X) = 514.26872\n",
      "Step: 971 \tX = 7.15691 \tf(X) = 512.2137\n"
     ]
    },
    {
     "name": "stderr",
     "output_type": "stream",
     "text": [
      "\n",
      "  1%|▋                                                                            | 972/100000 [00:13<20:32, 80.33it/s]"
     ]
    },
    {
     "name": "stdout",
     "output_type": "stream",
     "text": [
      "Step: 972 \tX = 7.1426 \tf(X) = 510.16689\n",
      "Step: 973 \tX = 7.12831 \tf(X) = 508.12827\n",
      "Step: 974 \tX = 7.11405 \tf(X) = 506.09778\n",
      "Step: 975 \tX = 7.09983 \tf(X) = 504.07542\n",
      "Step: 976 \tX = 7.08563 \tf(X) = 502.06113\n",
      "Step: 977 \tX = 7.07146 \tf(X) = 500.0549\n",
      "Step: 978 \tX = 7.05731 \tf(X) = 498.05668\n",
      "Step: 979 \tX = 7.0432 \tf(X) = 496.06644\n",
      "Step: 980 \tX = 7.02911 \tf(X) = 494.08416\n",
      "Step: 981 \tX = 7.01505 \tf(X) = 492.1098\n",
      "Step: 982 \tX = 7.00102 \tf(X) = 490.14333\n",
      "Step: 983 \tX = 6.98702 \tf(X) = 488.18472\n"
     ]
    },
    {
     "name": "stderr",
     "output_type": "stream",
     "text": [
      "\n",
      "  1%|▊                                                                            | 984/100000 [00:13<18:42, 88.19it/s]"
     ]
    },
    {
     "name": "stdout",
     "output_type": "stream",
     "text": [
      "Step: 984 \tX = 6.97305 \tf(X) = 486.23393\n",
      "Step: 985 \tX = 6.9591 \tf(X) = 484.29094\n",
      "Step: 986 \tX = 6.94518 \tf(X) = 482.35571\n",
      "Step: 987 \tX = 6.93129 \tf(X) = 480.42822\n",
      "Step: 988 \tX = 6.91743 \tf(X) = 478.50843\n",
      "Step: 989 \tX = 6.9036 \tf(X) = 476.59631\n",
      "Step: 990 \tX = 6.88979 \tf(X) = 474.69183\n",
      "Step: 991 \tX = 6.87601 \tf(X) = 472.79496\n",
      "Step: 992 \tX = 6.86226 \tf(X) = 470.90567\n",
      "Step: 993 \tX = 6.84853 \tf(X) = 469.02393\n"
     ]
    },
    {
     "name": "stderr",
     "output_type": "stream",
     "text": [
      "\n",
      "  1%|▊                                                                            | 994/100000 [00:13<19:05, 86.45it/s]"
     ]
    },
    {
     "name": "stdout",
     "output_type": "stream",
     "text": [
      "Step: 994 \tX = 6.83484 \tf(X) = 467.14971\n",
      "Step: 995 \tX = 6.82117 \tf(X) = 465.28298\n",
      "Step: 996 \tX = 6.80752 \tf(X) = 463.42371\n",
      "Step: 997 \tX = 6.79391 \tf(X) = 461.57187\n",
      "Step: 998 \tX = 6.78032 \tf(X) = 459.72743\n",
      "Step: 999 \tX = 6.76676 \tf(X) = 457.89036\n",
      "Step: 1000 \tX = 6.75323 \tf(X) = 456.06063\n",
      "Step: 1001 \tX = 6.73972 \tf(X) = 454.23821\n",
      "Step: 1002 \tX = 6.72624 \tf(X) = 452.42308\n",
      "Step: 1003 \tX = 6.71279 \tf(X) = 450.61519\n",
      "Step: 1004 \tX = 6.69936 \tf(X) = 448.81454\n",
      "Step: 1005 \tX = 6.68596 \tf(X) = 447.02107\n"
     ]
    },
    {
     "name": "stderr",
     "output_type": "stream",
     "text": [
      "\n",
      "  1%|▊                                                                           | 1006/100000 [00:13<19:08, 86.23it/s]"
     ]
    },
    {
     "name": "stdout",
     "output_type": "stream",
     "text": [
      "Step: 1006 \tX = 6.67259 \tf(X) = 445.23478\n",
      "Step: 1007 \tX = 6.65925 \tf(X) = 443.45562\n",
      "Step: 1008 \tX = 6.64593 \tf(X) = 441.68357\n",
      "Step: 1009 \tX = 6.63264 \tf(X) = 439.9186\n",
      "Step: 1010 \tX = 6.61937 \tf(X) = 438.16069\n",
      "Step: 1011 \tX = 6.60613 \tf(X) = 436.4098\n",
      "Step: 1012 \tX = 6.59292 \tf(X) = 434.6659\n",
      "Step: 1013 \tX = 6.57973 \tf(X) = 432.92898\n",
      "Step: 1014 \tX = 6.56657 \tf(X) = 431.19899\n",
      "Step: 1015 \tX = 6.55344 \tf(X) = 429.47592\n"
     ]
    },
    {
     "name": "stderr",
     "output_type": "stream",
     "text": [
      "\n",
      "  1%|▊                                                                           | 1016/100000 [00:13<18:23, 89.70it/s]"
     ]
    },
    {
     "name": "stdout",
     "output_type": "stream",
     "text": [
      "Step: 1016 \tX = 6.54033 \tf(X) = 427.75974\n",
      "Step: 1017 \tX = 6.52725 \tf(X) = 426.05041\n",
      "Step: 1018 \tX = 6.5142 \tf(X) = 424.34791\n",
      "Step: 1019 \tX = 6.50117 \tf(X) = 422.65222\n",
      "Step: 1020 \tX = 6.48817 \tf(X) = 420.9633\n",
      "Step: 1021 \tX = 6.47519 \tf(X) = 419.28113\n",
      "Step: 1022 \tX = 6.46224 \tf(X) = 417.60568\n",
      "Step: 1023 \tX = 6.44932 \tf(X) = 415.93693\n",
      "Step: 1024 \tX = 6.43642 \tf(X) = 414.27485\n",
      "Step: 1025 \tX = 6.42355 \tf(X) = 412.6194\n"
     ]
    },
    {
     "name": "stderr",
     "output_type": "stream",
     "text": [
      "\n",
      "  1%|▊                                                                           | 1026/100000 [00:13<18:48, 87.69it/s]"
     ]
    },
    {
     "name": "stdout",
     "output_type": "stream",
     "text": [
      "Step: 1026 \tX = 6.4107 \tf(X) = 410.97058\n",
      "Step: 1027 \tX = 6.39788 \tf(X) = 409.32834\n",
      "Step: 1028 \tX = 6.38508 \tf(X) = 407.69266\n",
      "Step: 1029 \tX = 6.37231 \tf(X) = 406.06352\n",
      "Step: 1030 \tX = 6.35957 \tf(X) = 404.44089\n",
      "Step: 1031 \tX = 6.34685 \tf(X) = 402.82475\n",
      "Step: 1032 \tX = 6.33415 \tf(X) = 401.21506\n",
      "Step: 1033 \tX = 6.32149 \tf(X) = 399.6118\n",
      "Step: 1034 \tX = 6.30884 \tf(X) = 398.01496\n",
      "Step: 1035 \tX = 6.29622 \tf(X) = 396.42449\n",
      "Step: 1036 \tX = 6.28363 \tf(X) = 394.84038\n"
     ]
    },
    {
     "name": "stderr",
     "output_type": "stream",
     "text": [
      "\n",
      "  1%|▊                                                                           | 1037/100000 [00:13<18:12, 90.60it/s]"
     ]
    },
    {
     "name": "stdout",
     "output_type": "stream",
     "text": [
      "Step: 1037 \tX = 6.27107 \tf(X) = 393.26259\n",
      "Step: 1038 \tX = 6.25852 \tf(X) = 391.69112\n",
      "Step: 1039 \tX = 6.24601 \tf(X) = 390.12592\n",
      "Step: 1040 \tX = 6.23351 \tf(X) = 388.56698\n",
      "Step: 1041 \tX = 6.22105 \tf(X) = 387.01426\n",
      "Step: 1042 \tX = 6.2086 \tf(X) = 385.46775\n",
      "Step: 1043 \tX = 6.19619 \tf(X) = 383.92742\n",
      "Step: 1044 \tX = 6.1838 \tf(X) = 382.39325\n",
      "Step: 1045 \tX = 6.17143 \tf(X) = 380.86521\n",
      "Step: 1046 \tX = 6.15908 \tf(X) = 379.34327\n"
     ]
    },
    {
     "name": "stderr",
     "output_type": "stream",
     "text": [
      "\n",
      "  1%|▊                                                                           | 1047/100000 [00:13<20:30, 80.41it/s]"
     ]
    },
    {
     "name": "stdout",
     "output_type": "stream",
     "text": [
      "Step: 1047 \tX = 6.14677 \tf(X) = 377.82741\n",
      "Step: 1048 \tX = 6.13447 \tf(X) = 376.31761\n",
      "Step: 1049 \tX = 6.1222 \tf(X) = 374.81385\n",
      "Step: 1050 \tX = 6.10996 \tf(X) = 373.31609\n",
      "Step: 1051 \tX = 6.09774 \tf(X) = 371.82432\n",
      "Step: 1052 \tX = 6.08554 \tf(X) = 370.33851\n",
      "Step: 1053 \tX = 6.07337 \tf(X) = 368.85864\n",
      "Step: 1054 \tX = 6.06123 \tf(X) = 367.38468\n",
      "Step: 1055 \tX = 6.0491 \tf(X) = 365.91661\n",
      "Step: 1056 \tX = 6.03701 \tf(X) = 364.45441\n",
      "Step: 1057 \tX = 6.02493 \tf(X) = 362.99805\n",
      "Step: 1058 \tX = 6.01288 \tf(X) = 361.54751\n"
     ]
    },
    {
     "name": "stderr",
     "output_type": "stream",
     "text": [
      "\n",
      "  1%|▊                                                                           | 1059/100000 [00:14<18:48, 87.68it/s]"
     ]
    },
    {
     "name": "stdout",
     "output_type": "stream",
     "text": [
      "Step: 1059 \tX = 6.00086 \tf(X) = 360.10276\n",
      "Step: 1060 \tX = 5.98885 \tf(X) = 358.66379\n",
      "Step: 1061 \tX = 5.97688 \tf(X) = 357.23057\n",
      "Step: 1062 \tX = 5.96492 \tf(X) = 355.80308\n",
      "Step: 1063 \tX = 5.95299 \tf(X) = 354.38129\n",
      "Step: 1064 \tX = 5.94109 \tf(X) = 352.96518\n",
      "Step: 1065 \tX = 5.92921 \tf(X) = 351.55473\n",
      "Step: 1066 \tX = 5.91735 \tf(X) = 350.14992\n",
      "Step: 1067 \tX = 5.90551 \tf(X) = 348.75072\n",
      "Step: 1068 \tX = 5.8937 \tf(X) = 347.35711\n",
      "Step: 1069 \tX = 5.88191 \tf(X) = 345.96908\n",
      "Step: 1070 \tX = 5.87015 \tf(X) = 344.58658\n",
      "Step: 1071 \tX = 5.85841 \tf(X) = 343.20962\n"
     ]
    },
    {
     "name": "stderr",
     "output_type": "stream",
     "text": [
      "\n",
      "  1%|▊                                                                           | 1072/100000 [00:14<17:16, 95.46it/s]"
     ]
    },
    {
     "name": "stdout",
     "output_type": "stream",
     "text": [
      "Step: 1072 \tX = 5.84669 \tf(X) = 341.83815\n",
      "Step: 1073 \tX = 5.835 \tf(X) = 340.47216\n",
      "Step: 1074 \tX = 5.82333 \tf(X) = 339.11164\n",
      "Step: 1075 \tX = 5.81168 \tf(X) = 337.75655\n",
      "Step: 1076 \tX = 5.80006 \tf(X) = 336.40687\n",
      "Step: 1077 \tX = 5.78846 \tf(X) = 335.06259\n",
      "Step: 1078 \tX = 5.77688 \tf(X) = 333.72368\n",
      "Step: 1079 \tX = 5.76533 \tf(X) = 332.39012\n",
      "Step: 1080 \tX = 5.7538 \tf(X) = 331.06189\n",
      "Step: 1081 \tX = 5.74229 \tf(X) = 329.73897\n",
      "Step: 1082 \tX = 5.73081 \tf(X) = 328.42133\n"
     ]
    },
    {
     "name": "stderr",
     "output_type": "stream",
     "text": [
      "\n",
      "  1%|▊                                                                           | 1083/100000 [00:14<17:12, 95.76it/s]"
     ]
    },
    {
     "name": "stdout",
     "output_type": "stream",
     "text": [
      "Step: 1083 \tX = 5.71934 \tf(X) = 327.10896\n",
      "Step: 1084 \tX = 5.70791 \tf(X) = 325.80183\n",
      "Step: 1085 \tX = 5.69649 \tf(X) = 324.49993\n",
      "Step: 1086 \tX = 5.6851 \tf(X) = 323.20322\n",
      "Step: 1087 \tX = 5.67373 \tf(X) = 321.9117\n",
      "Step: 1088 \tX = 5.66238 \tf(X) = 320.62535\n",
      "Step: 1089 \tX = 5.65105 \tf(X) = 319.34413\n",
      "Step: 1090 \tX = 5.63975 \tf(X) = 318.06803\n",
      "Step: 1091 \tX = 5.62847 \tf(X) = 316.79703\n",
      "Step: 1092 \tX = 5.61722 \tf(X) = 315.53111\n"
     ]
    },
    {
     "name": "stderr",
     "output_type": "stream",
     "text": [
      "\n",
      "  1%|▊                                                                           | 1093/100000 [00:14<18:28, 89.21it/s]"
     ]
    },
    {
     "name": "stdout",
     "output_type": "stream",
     "text": [
      "Step: 1093 \tX = 5.60598 \tf(X) = 314.27024\n",
      "Step: 1094 \tX = 5.59477 \tf(X) = 313.01442\n",
      "Step: 1095 \tX = 5.58358 \tf(X) = 311.76361\n",
      "Step: 1096 \tX = 5.57241 \tf(X) = 310.51781\n",
      "Step: 1097 \tX = 5.56127 \tf(X) = 309.27698\n",
      "Step: 1098 \tX = 5.55015 \tf(X) = 308.04111\n",
      "Step: 1099 \tX = 5.53904 \tf(X) = 306.81017\n",
      "Step: 1100 \tX = 5.52797 \tf(X) = 305.58416\n",
      "Step: 1101 \tX = 5.51691 \tf(X) = 304.36305\n",
      "Step: 1102 \tX = 5.50588 \tf(X) = 303.14681\n",
      "Step: 1103 \tX = 5.49487 \tf(X) = 301.93544\n",
      "Step: 1104 \tX = 5.48388 \tf(X) = 300.7289\n"
     ]
    },
    {
     "name": "stderr",
     "output_type": "stream",
     "text": [
      "\n",
      "  1%|▊                                                                           | 1105/100000 [00:14<17:05, 96.42it/s]"
     ]
    },
    {
     "name": "stdout",
     "output_type": "stream",
     "text": [
      "Step: 1105 \tX = 5.47291 \tf(X) = 299.52719\n",
      "Step: 1106 \tX = 5.46196 \tf(X) = 298.33028\n",
      "Step: 1107 \tX = 5.45104 \tf(X) = 297.13815\n",
      "Step: 1108 \tX = 5.44014 \tf(X) = 295.95079\n",
      "Step: 1109 \tX = 5.42926 \tf(X) = 294.76817\n",
      "Step: 1110 \tX = 5.4184 \tf(X) = 293.59028\n",
      "Step: 1111 \tX = 5.40756 \tf(X) = 292.41709\n",
      "Step: 1112 \tX = 5.39675 \tf(X) = 291.24859\n",
      "Step: 1113 \tX = 5.38595 \tf(X) = 290.08476\n",
      "Step: 1114 \tX = 5.37518 \tf(X) = 288.92558\n",
      "Step: 1115 \tX = 5.36443 \tf(X) = 287.77104\n"
     ]
    },
    {
     "name": "stderr",
     "output_type": "stream",
     "text": [
      "\n",
      "  1%|▊                                                                           | 1116/100000 [00:14<18:15, 90.27it/s]"
     ]
    },
    {
     "name": "stdout",
     "output_type": "stream",
     "text": [
      "Step: 1116 \tX = 5.3537 \tf(X) = 286.6211\n",
      "Step: 1117 \tX = 5.34299 \tf(X) = 285.47576\n",
      "Step: 1118 \tX = 5.33231 \tf(X) = 284.335\n",
      "Step: 1119 \tX = 5.32164 \tf(X) = 283.1988\n",
      "Step: 1120 \tX = 5.311 \tf(X) = 282.06714\n",
      "Step: 1121 \tX = 5.30038 \tf(X) = 280.94\n",
      "Step: 1122 \tX = 5.28978 \tf(X) = 279.81736\n",
      "Step: 1123 \tX = 5.2792 \tf(X) = 278.69921\n",
      "Step: 1124 \tX = 5.26864 \tf(X) = 277.58553\n",
      "Step: 1125 \tX = 5.2581 \tf(X) = 276.4763\n",
      "Step: 1126 \tX = 5.24759 \tf(X) = 275.3715\n",
      "Step: 1127 \tX = 5.23709 \tf(X) = 274.27111\n"
     ]
    },
    {
     "name": "stderr",
     "output_type": "stream",
     "text": [
      "\n",
      "  1%|▊                                                                           | 1128/100000 [00:14<18:45, 87.87it/s]"
     ]
    },
    {
     "name": "stdout",
     "output_type": "stream",
     "text": [
      "Step: 1128 \tX = 5.22662 \tf(X) = 273.17513\n",
      "Step: 1129 \tX = 5.21616 \tf(X) = 272.08352\n",
      "Step: 1130 \tX = 5.20573 \tf(X) = 270.99627\n",
      "Step: 1131 \tX = 5.19532 \tf(X) = 269.91337\n",
      "Step: 1132 \tX = 5.18493 \tf(X) = 268.8348\n",
      "Step: 1133 \tX = 5.17456 \tf(X) = 267.76053\n",
      "Step: 1134 \tX = 5.16421 \tf(X) = 266.69056\n",
      "Step: 1135 \tX = 5.15388 \tf(X) = 265.62487\n",
      "Step: 1136 \tX = 5.14357 \tf(X) = 264.56343\n",
      "Step: 1137 \tX = 5.13329 \tf(X) = 263.50624\n",
      "Step: 1138 \tX = 5.12302 \tf(X) = 262.45326\n",
      "Step: 1139 \tX = 5.11277 \tf(X) = 261.4045\n",
      "Step: 1140 \tX = 5.10255 \tf(X) = 260.35993\n"
     ]
    },
    {
     "name": "stderr",
     "output_type": "stream",
     "text": [
      "\n",
      "  1%|▊                                                                           | 1141/100000 [00:14<17:13, 95.62it/s]"
     ]
    },
    {
     "name": "stdout",
     "output_type": "stream",
     "text": [
      "Step: 1141 \tX = 5.09234 \tf(X) = 259.31953\n",
      "Step: 1142 \tX = 5.08216 \tf(X) = 258.28329\n",
      "Step: 1143 \tX = 5.07199 \tf(X) = 257.25119\n",
      "Step: 1144 \tX = 5.06185 \tf(X) = 256.22321\n",
      "Step: 1145 \tX = 5.05173 \tf(X) = 255.19935\n",
      "Step: 1146 \tX = 5.04162 \tf(X) = 254.17957\n",
      "Step: 1147 \tX = 5.03154 \tf(X) = 253.16387\n",
      "Step: 1148 \tX = 5.02148 \tf(X) = 252.15222\n",
      "Step: 1149 \tX = 5.01143 \tf(X) = 251.14462\n",
      "Step: 1150 \tX = 5.00141 \tf(X) = 250.14105\n"
     ]
    },
    {
     "name": "stderr",
     "output_type": "stream",
     "text": [
      "\n",
      "  1%|▊                                                                           | 1151/100000 [00:15<18:11, 90.58it/s]"
     ]
    },
    {
     "name": "stdout",
     "output_type": "stream",
     "text": [
      "Step: 1151 \tX = 4.99141 \tf(X) = 249.14149\n",
      "Step: 1152 \tX = 4.98142 \tf(X) = 248.14592\n"
     ]
    },
    {
     "name": "stderr",
     "output_type": "stream",
     "text": [
      "\n",
      "  1%|▊                                                                           | 1151/100000 [00:33<18:11, 90.58it/s]"
     ]
    }
   ],
   "source": [
    "x_min = gradient_descent()"
   ]
  },
  {
   "cell_type": "code",
   "execution_count": 43,
   "metadata": {},
   "outputs": [
    {
     "data": {
      "text/plain": [
       "4.981424671870738"
      ]
     },
     "execution_count": 43,
     "metadata": {},
     "output_type": "execute_result"
    }
   ],
   "source": [
    "x_min"
   ]
  },
  {
   "cell_type": "code",
   "execution_count": 44,
   "metadata": {},
   "outputs": [
    {
     "data": {
      "text/plain": [
       "248.14591761522493"
      ]
     },
     "execution_count": 44,
     "metadata": {},
     "output_type": "execute_result"
    }
   ],
   "source": [
    "f(x_min)"
   ]
  },
  {
   "cell_type": "code",
   "execution_count": 63,
   "metadata": {},
   "outputs": [],
   "source": [
    "import numpy as np\n",
    "from tqdm import tqdm\n",
    "\n",
    "def f(x):\n",
    "    return 10 * x[0]**2 + x[1]**2\n",
    "\n",
    "def gradient_descent(alpha=0.001, eps=0.001):\n",
    "    x_prev = np.array([1000, 2000])  # начальная инициализация\n",
    "    x = np.array([980, 1980])  # начальная инициализация\n",
    "    for _ in tqdm(range(100000)):\n",
    "        print(\"Step:\", _, \"\\tX =\", np.round(x,3),  \"\\tf(X) =\", round(f(x), 5))\n",
    "        if np.sum((x - x_prev)**2) < eps**2:  # условие остановки\n",
    "            break\n",
    "        x_prev = x\n",
    "        x = x_prev - alpha * np.array(20 * x_prev[0], 2 * x_prev[1])  # по формуле выше\n",
    "    return x"
   ]
  },
  {
   "cell_type": "code",
   "execution_count": 64,
   "metadata": {},
   "outputs": [
    {
     "name": "stderr",
     "output_type": "stream",
     "text": [
      "\n",
      "\n",
      "  0%|                                                                                       | 0/100000 [00:00<?, ?it/s]"
     ]
    },
    {
     "name": "stdout",
     "output_type": "stream",
     "text": [
      "Step: 0 \tX = [ 980 1980] \tf(X) = 13524400\n",
      "Step: 1 \tX = [ 960.4 1960.4] \tf(X) = 13066849.76\n",
      "Step: 2 \tX = [ 941.192 1941.192] \tf(X) = 12626650.1895\n",
      "Step: 3 \tX = [ 922.368 1922.368] \tf(X) = 12203129.5684\n",
      "Step: 4 \tX = [ 903.921 1903.921] \tf(X) = 11795642.46936\n",
      "Step: 5 \tX = [ 885.842 1885.842] \tf(X) = 11403568.72281\n",
      "Step: 6 \tX = [ 868.126 1868.126] \tf(X) = 11026312.42272\n",
      "Step: 7 \tX = [ 850.763 1850.763] \tf(X) = 10663300.97168\n",
      "Step: 8 \tX = [ 833.748 1833.748] \tf(X) = 10313984.16369\n"
     ]
    },
    {
     "name": "stderr",
     "output_type": "stream",
     "text": [
      "\n",
      "\n",
      "  0%|                                                                               | 9/100000 [00:00<18:53, 88.24it/s]"
     ]
    },
    {
     "name": "stdout",
     "output_type": "stream",
     "text": [
      "Step: 9 \tX = [ 817.073 1817.073] \tf(X) = 9977833.30308\n",
      "Step: 10 \tX = [ 800.731 1800.731] \tf(X) = 9654340.35831\n",
      "Step: 11 \tX = [ 784.717 1784.717] \tf(X) = 9343017.14907\n",
      "Step: 12 \tX = [ 769.022 1769.022] \tf(X) = 9043394.56554\n",
      "Step: 13 \tX = [ 753.642 1753.642] \tf(X) = 8755021.8184\n",
      "Step: 14 \tX = [ 738.569 1738.569] \tf(X) = 8477465.7185\n",
      "Step: 15 \tX = [ 723.798 1723.798] \tf(X) = 8210309.98487\n",
      "Step: 16 \tX = [ 709.322 1709.322] \tf(X) = 7953154.58012\n"
     ]
    },
    {
     "name": "stderr",
     "output_type": "stream",
     "text": [
      "\n",
      "\n",
      "  0%|                                                                              | 17/100000 [00:00<19:46, 84.24it/s]"
     ]
    },
    {
     "name": "stdout",
     "output_type": "stream",
     "text": [
      "Step: 17 \tX = [ 695.135 1695.135] \tf(X) = 7705615.07198\n",
      "Step: 18 \tX = [ 681.233 1681.233] \tf(X) = 7467322.0201\n",
      "Step: 19 \tX = [ 667.608 1667.608] \tf(X) = 7237920.38697\n",
      "Step: 20 \tX = [ 654.256 1654.256] \tf(X) = 7017068.97214\n",
      "Step: 21 \tX = [ 641.171 1641.171] \tf(X) = 6804439.86869\n",
      "Step: 22 \tX = [ 628.347 1628.347] \tf(X) = 6599717.94117\n",
      "Step: 23 \tX = [ 615.78 1615.78] \tf(X) = 6402600.32416\n",
      "Step: 24 \tX = [ 603.465 1603.465] \tf(X) = 6212795.94052\n",
      "Step: 25 \tX = [ 591.395 1591.395] \tf(X) = 6030025.03868\n",
      "Step: 26 \tX = [ 579.568 1579.568] \tf(X) = 5854018.74821\n"
     ]
    },
    {
     "name": "stderr",
     "output_type": "stream",
     "text": [
      "\n",
      "\n",
      "  0%|                                                                              | 27/100000 [00:00<19:23, 85.91it/s]"
     ]
    },
    {
     "name": "stdout",
     "output_type": "stream",
     "text": [
      "Step: 27 \tX = [ 567.976 1567.976] \tf(X) = 5684518.65282\n",
      "Step: 28 \tX = [ 556.617 1556.617] \tf(X) = 5521276.38026\n",
      "Step: 29 \tX = [ 545.484 1545.484] \tf(X) = 5364053.20838\n",
      "Step: 30 \tX = [ 534.575 1534.575] \tf(X) = 5212619.68665\n",
      "Step: 31 \tX = [ 523.883 1523.883] \tf(X) = 5066755.27267\n",
      "Step: 32 \tX = [ 513.405 1513.405] \tf(X) = 4926247.98297\n",
      "Step: 33 \tX = [ 503.137 1503.137] \tf(X) = 4790894.05757\n"
     ]
    },
    {
     "name": "stderr",
     "output_type": "stream",
     "text": [
      "\n",
      "\n",
      "  0%|                                                                              | 34/100000 [00:00<21:04, 79.07it/s]"
     ]
    },
    {
     "name": "stdout",
     "output_type": "stream",
     "text": [
      "Step: 34 \tX = [ 493.075 1493.075] \tf(X) = 4660497.63771\n",
      "Step: 35 \tX = [ 483.213 1483.213] \tf(X) = 4534870.45639\n",
      "Step: 36 \tX = [ 473.549 1473.549] \tf(X) = 4413831.54094\n",
      "Step: 37 \tX = [ 464.078 1464.078] \tf(X) = 4297206.92745\n",
      "Step: 38 \tX = [ 454.796 1454.796] \tf(X) = 4184829.38635\n",
      "Step: 39 \tX = [ 445.7 1445.7] \tf(X) = 4076538.1588\n"
     ]
    },
    {
     "name": "stderr",
     "output_type": "stream",
     "text": [
      "\n",
      "\n",
      "  0%|                                                                              | 40/100000 [00:00<26:14, 63.48it/s]"
     ]
    },
    {
     "name": "stdout",
     "output_type": "stream",
     "text": [
      "Step: 40 \tX = [ 436.786 1436.786] \tf(X) = 3972178.70355\n",
      "Step: 41 \tX = [ 428.051 1428.051] \tf(X) = 3871602.45361\n",
      "Step: 42 \tX = [ 419.49 1419.49] \tf(X) = 3774666.58263\n",
      "Step: 43 \tX = [ 411.1 1411.1] \tf(X) = 3681233.78042\n",
      "Step: 44 \tX = [ 402.878 1402.878] \tf(X) = 3591172.03728\n",
      "Step: 45 \tX = [ 394.82 1394.82] \tf(X) = 3504354.43689\n"
     ]
    },
    {
     "name": "stderr",
     "output_type": "stream",
     "text": [
      "\n",
      "\n",
      "  0%|                                                                              | 46/100000 [00:00<27:51, 59.78it/s]"
     ]
    },
    {
     "name": "stdout",
     "output_type": "stream",
     "text": [
      "Step: 46 \tX = [ 386.924 1386.924] \tf(X) = 3420658.95722\n",
      "Step: 47 \tX = [ 379.185 1379.185] \tf(X) = 3339968.27943\n",
      "Step: 48 \tX = [ 371.602 1371.602] \tf(X) = 3262169.60414\n",
      "Step: 49 \tX = [ 364.17 1364.17] \tf(X) = 3187154.47502\n",
      "Step: 50 \tX = [ 356.886 1356.886] \tf(X) = 3114818.60927\n",
      "Step: 51 \tX = [ 349.749 1349.749] \tf(X) = 3045061.73477\n"
     ]
    },
    {
     "name": "stderr",
     "output_type": "stream",
     "text": [
      "\n",
      "\n",
      "  0%|                                                                              | 52/100000 [00:00<28:54, 57.61it/s]"
     ]
    },
    {
     "name": "stdout",
     "output_type": "stream",
     "text": [
      "Step: 52 \tX = [ 342.754 1342.754] \tf(X) = 2977787.43365\n",
      "Step: 53 \tX = [ 335.899 1335.899] \tf(X) = 2912902.99199\n",
      "Step: 54 \tX = [ 329.181 1329.181] \tf(X) = 2850319.2554\n",
      "Step: 55 \tX = [ 322.597 1322.597] \tf(X) = 2789950.49035\n",
      "Step: 56 \tX = [ 316.145 1316.145] \tf(X) = 2731714.25084\n",
      "Step: 57 \tX = [ 309.822 1309.822] \tf(X) = 2675531.25042\n",
      "Step: 58 \tX = [ 303.626 1303.626] \tf(X) = 2621325.23913\n",
      "Step: 59 \tX = [ 297.553 1297.553] \tf(X) = 2569022.88537\n"
     ]
    },
    {
     "name": "stderr",
     "output_type": "stream",
     "text": [
      "\n",
      "\n",
      "  0%|                                                                              | 60/100000 [00:00<27:59, 59.52it/s]"
     ]
    },
    {
     "name": "stdout",
     "output_type": "stream",
     "text": [
      "Step: 60 \tX = [ 291.602 1291.602] \tf(X) = 2518553.6623\n",
      "Step: 61 \tX = [ 285.77 1285.77] \tf(X) = 2469849.73881\n",
      "Step: 62 \tX = [ 280.055 1280.055] \tf(X) = 2422845.87465\n",
      "Step: 63 \tX = [ 274.454 1274.454] \tf(X) = 2377479.3198\n",
      "Step: 64 \tX = [ 268.964 1268.964] \tf(X) = 2333689.71769\n",
      "Step: 65 \tX = [ 263.585 1263.585] \tf(X) = 2291419.01224\n"
     ]
    },
    {
     "name": "stderr",
     "output_type": "stream",
     "text": [
      "\n",
      "\n",
      "  0%|                                                                              | 66/100000 [00:01<30:09, 55.21it/s]"
     ]
    },
    {
     "name": "stdout",
     "output_type": "stream",
     "text": [
      "Step: 66 \tX = [ 258.313 1258.313] \tf(X) = 2250611.35859\n",
      "Step: 67 \tX = [ 253.147 1253.147] \tf(X) = 2211213.03723\n",
      "Step: 68 \tX = [ 248.084 1248.084] \tf(X) = 2173172.37163\n",
      "Step: 69 \tX = [ 243.123 1243.123] \tf(X) = 2136439.64897\n",
      "Step: 70 \tX = [ 238.26 1238.26] \tf(X) = 2100967.04407\n",
      "Step: 71 \tX = [ 233.495 1233.495] \tf(X) = 2066708.54621\n"
     ]
    },
    {
     "name": "stderr",
     "output_type": "stream",
     "text": [
      "\n",
      "\n",
      "  0%|                                                                              | 72/100000 [00:01<29:46, 55.94it/s]"
     ]
    },
    {
     "name": "stdout",
     "output_type": "stream",
     "text": [
      "Step: 72 \tX = [ 228.825 1228.825] \tf(X) = 2033619.88893\n",
      "Step: 73 \tX = [ 224.249 1224.249] \tf(X) = 2001658.48245\n",
      "Step: 74 \tX = [ 219.764 1219.764] \tf(X) = 1970783.34885\n",
      "Step: 75 \tX = [ 215.368 1215.368] \tf(X) = 1940955.0597\n",
      "Step: 76 \tX = [ 211.061 1211.061] \tf(X) = 1912135.67616\n",
      "Step: 77 \tX = [ 206.84 1206.84] \tf(X) = 1884288.69148\n",
      "Step: 78 \tX = [ 202.703 1202.703] \tf(X) = 1857378.97562\n"
     ]
    },
    {
     "name": "stderr",
     "output_type": "stream",
     "text": [
      "\n",
      "\n",
      "  0%|                                                                              | 79/100000 [00:01<28:50, 57.76it/s]"
     ]
    },
    {
     "name": "stdout",
     "output_type": "stream",
     "text": [
      "Step: 79 \tX = [ 198.649 1198.649] \tf(X) = 1831372.72219\n",
      "Step: 80 \tX = [ 194.676 1194.676] \tf(X) = 1806237.39732\n",
      "Step: 81 \tX = [ 190.782 1190.782] \tf(X) = 1781941.69061\n",
      "Step: 82 \tX = [ 186.967 1186.967] \tf(X) = 1758455.468\n",
      "Step: 83 \tX = [ 183.227 1183.227] \tf(X) = 1735749.72644\n",
      "Step: 84 \tX = [ 179.563 1179.563] \tf(X) = 1713796.55035\n"
     ]
    },
    {
     "name": "stderr",
     "output_type": "stream",
     "text": [
      "\n",
      "\n",
      "  0%|                                                                              | 85/100000 [00:01<32:45, 50.84it/s]"
     ]
    },
    {
     "name": "stdout",
     "output_type": "stream",
     "text": [
      "Step: 85 \tX = [ 175.972 1175.972] \tf(X) = 1692569.06977\n",
      "Step: 86 \tX = [ 172.452 1172.452] \tf(X) = 1672041.42016\n",
      "Step: 87 \tX = [ 169.003 1169.003] \tf(X) = 1652188.70377\n",
      "Step: 88 \tX = [ 165.623 1165.623] \tf(X) = 1632986.95247\n",
      "Step: 89 \tX = [ 162.311 1162.311] \tf(X) = 1614413.09209\n",
      "Step: 90 \tX = [ 159.064 1159.064] \tf(X) = 1596444.90812\n"
     ]
    },
    {
     "name": "stderr",
     "output_type": "stream",
     "text": [
      "\n",
      "\n",
      "  0%|                                                                              | 91/100000 [00:01<31:25, 53.00it/s]"
     ]
    },
    {
     "name": "stdout",
     "output_type": "stream",
     "text": [
      "Step: 91 \tX = [ 155.883 1155.883] \tf(X) = 1579061.01275\n",
      "Step: 92 \tX = [ 152.765 1152.765] \tf(X) = 1562240.81318\n",
      "Step: 93 \tX = [ 149.71 1149.71] \tf(X) = 1545964.48118\n",
      "Step: 94 \tX = [ 146.716 1146.716] \tf(X) = 1530212.92385\n",
      "Step: 95 \tX = [ 143.782 1143.782] \tf(X) = 1514967.75546\n",
      "Step: 96 \tX = [ 140.906 1140.906] \tf(X) = 1500211.27047\n",
      "Step: 97 \tX = [ 138.088 1138.088] \tf(X) = 1485926.41752\n"
     ]
    },
    {
     "name": "stderr",
     "output_type": "stream",
     "text": [
      "\n",
      "\n",
      "  0%|                                                                              | 98/100000 [00:01<29:46, 55.93it/s]"
     ]
    },
    {
     "name": "stdout",
     "output_type": "stream",
     "text": [
      "Step: 98 \tX = [ 135.326 1135.326] \tf(X) = 1472096.77449\n",
      "Step: 99 \tX = [ 132.62 1132.62] \tf(X) = 1458706.52445\n",
      "Step: 100 \tX = [ 129.967 1129.967] \tf(X) = 1445740.43268\n",
      "Step: 101 \tX = [ 127.368 1127.368] \tf(X) = 1433183.8244\n",
      "Step: 102 \tX = [ 124.82 1124.82] \tf(X) = 1421022.56356\n",
      "Step: 103 \tX = [ 122.324 1122.324] \tf(X) = 1409243.03227\n",
      "Step: 104 \tX = [ 119.878 1119.878] \tf(X) = 1397832.11118\n",
      "Step: 105 \tX = [ 117.48 1117.48] \tf(X) = 1386777.1605\n"
     ]
    },
    {
     "name": "stderr",
     "output_type": "stream",
     "text": [
      "\n",
      "\n",
      "  0%|                                                                             | 106/100000 [00:01<27:12, 61.20it/s]"
     ]
    },
    {
     "name": "stdout",
     "output_type": "stream",
     "text": [
      "Step: 106 \tX = [ 115.13 1115.13] \tf(X) = 1376066.00185\n",
      "Step: 107 \tX = [ 112.828 1112.828] \tf(X) = 1365686.90075\n",
      "Step: 108 \tX = [ 110.571 1110.571] \tf(X) = 1355628.5498\n",
      "Step: 109 \tX = [ 108.36 1108.36] \tf(X) = 1345880.05253\n",
      "Step: 110 \tX = [ 106.193 1106.193] \tf(X) = 1336430.9079\n",
      "Step: 111 \tX = [ 104.069 1104.069] \tf(X) = 1327270.99528\n",
      "Step: 112 \tX = [ 101.987 1101.987] \tf(X) = 1318390.56018\n"
     ]
    },
    {
     "name": "stderr",
     "output_type": "stream",
     "text": [
      "\n",
      "\n",
      "  0%|                                                                             | 113/100000 [00:01<26:32, 62.74it/s]"
     ]
    },
    {
     "name": "stdout",
     "output_type": "stream",
     "text": [
      "Step: 113 \tX = [  99.948 1099.948] \tf(X) = 1309780.20038\n",
      "Step: 114 \tX = [  97.949 1097.949] \tf(X) = 1301430.8527\n",
      "Step: 115 \tX = [  95.99 1095.99] \tf(X) = 1293333.78022\n",
      "Step: 116 \tX = [  94.07 1094.07] \tf(X) = 1285480.56003\n",
      "Step: 117 \tX = [  92.189 1092.189] \tf(X) = 1277863.07141\n",
      "Step: 118 \tX = [  90.345 1090.345] \tf(X) = 1270473.4845\n",
      "Step: 119 \tX = [  88.538 1088.538] \tf(X) = 1263304.24943\n"
     ]
    },
    {
     "name": "stderr",
     "output_type": "stream",
     "text": [
      "\n",
      "\n",
      "  0%|                                                                             | 120/100000 [00:01<25:55, 64.22it/s]"
     ]
    },
    {
     "name": "stdout",
     "output_type": "stream",
     "text": [
      "Step: 120 \tX = [  86.767 1086.767] \tf(X) = 1256348.08576\n",
      "Step: 121 \tX = [  85.032 1085.032] \tf(X) = 1249597.97248\n",
      "Step: 122 \tX = [  83.331 1083.331] \tf(X) = 1243047.13827\n",
      "Step: 123 \tX = [  81.665 1081.665] \tf(X) = 1236689.05219\n",
      "Step: 124 \tX = [  80.031 1080.031] \tf(X) = 1230517.4147\n",
      "Step: 125 \tX = [  78.431 1078.431] \tf(X) = 1224526.14908\n",
      "Step: 126 \tX = [  76.862 1076.862] \tf(X) = 1218709.39309\n"
     ]
    },
    {
     "name": "stderr",
     "output_type": "stream",
     "text": [
      "\n",
      "\n",
      "  0%|                                                                             | 127/100000 [00:02<26:07, 63.70it/s]"
     ]
    },
    {
     "name": "stdout",
     "output_type": "stream",
     "text": [
      "Step: 127 \tX = [  75.325 1075.325] \tf(X) = 1213061.49105\n",
      "Step: 128 \tX = [  73.818 1073.818] \tf(X) = 1207576.98614\n",
      "Step: 129 \tX = [  72.342 1072.342] \tf(X) = 1202250.61301\n",
      "Step: 130 \tX = [  70.895 1070.895] \tf(X) = 1197077.29076\n",
      "Step: 131 \tX = [  69.477 1069.477] \tf(X) = 1192052.11602\n",
      "Step: 132 \tX = [  68.088 1068.088] \tf(X) = 1187170.35648\n",
      "Step: 133 \tX = [  66.726 1066.726] \tf(X) = 1182427.44454\n"
     ]
    },
    {
     "name": "stderr",
     "output_type": "stream",
     "text": [
      "\n",
      "\n",
      "  0%|                                                                             | 134/100000 [00:02<26:38, 62.48it/s]"
     ]
    },
    {
     "name": "stdout",
     "output_type": "stream",
     "text": [
      "Step: 134 \tX = [  65.391 1065.391] \tf(X) = 1177818.97122\n",
      "Step: 135 \tX = [  64.084 1064.084] \tf(X) = 1173340.68038\n",
      "Step: 136 \tX = [  62.802 1062.802] \tf(X) = 1168988.46305\n",
      "Step: 137 \tX = [  61.546 1061.546] \tf(X) = 1164758.35205\n",
      "Step: 138 \tX = [  60.315 1060.315] \tf(X) = 1160646.5168\n",
      "Step: 139 \tX = [  59.109 1059.109] \tf(X) = 1156649.25832\n",
      "Step: 140 \tX = [  57.926 1057.926] \tf(X) = 1152763.00441\n",
      "Step: 141 \tX = [  56.768 1056.768] \tf(X) = 1148984.30501\n"
     ]
    },
    {
     "name": "stderr",
     "output_type": "stream",
     "text": [
      "\n",
      "\n",
      "  0%|                                                                             | 142/100000 [00:02<25:08, 66.21it/s]"
     ]
    },
    {
     "name": "stdout",
     "output_type": "stream",
     "text": [
      "Step: 142 \tX = [  55.633 1055.633] \tf(X) = 1145309.8278\n",
      "Step: 143 \tX = [  54.52 1054.52] \tf(X) = 1141736.35386\n",
      "Step: 144 \tX = [  53.429 1053.429] \tf(X) = 1138260.77359\n",
      "Step: 145 \tX = [  52.361 1052.361] \tf(X) = 1134880.0827\n",
      "Step: 146 \tX = [  51.314 1051.314] \tf(X) = 1131591.37846\n",
      "Step: 147 \tX = [  50.287 1050.287] \tf(X) = 1128391.85597\n",
      "Step: 148 \tX = [  49.282 1049.282] \tf(X) = 1125278.80465\n",
      "Step: 149 \tX = [  48.296 1048.296] \tf(X) = 1122249.60483\n"
     ]
    },
    {
     "name": "stderr",
     "output_type": "stream",
     "text": [
      "\n",
      "\n",
      "  0%|                                                                             | 150/100000 [00:02<24:12, 68.74it/s]"
     ]
    },
    {
     "name": "stdout",
     "output_type": "stream",
     "text": [
      "Step: 150 \tX = [  47.33 1047.33] \tf(X) = 1119301.72452\n",
      "Step: 151 \tX = [  46.383 1046.383] \tf(X) = 1116432.71618\n",
      "Step: 152 \tX = [  45.456 1045.456] \tf(X) = 1113640.21377\n",
      "Step: 153 \tX = [  44.547 1044.547] \tf(X) = 1110921.92979\n",
      "Step: 154 \tX = [  43.656 1043.656] \tf(X) = 1108275.65249\n",
      "Step: 155 \tX = [  42.783 1042.783] \tf(X) = 1105699.24315\n",
      "Step: 156 \tX = [  41.927 1041.927] \tf(X) = 1103190.63349\n",
      "Step: 157 \tX = [  41.088 1041.088] \tf(X) = 1100747.82317\n"
     ]
    },
    {
     "name": "stderr",
     "output_type": "stream",
     "text": [
      "\n",
      "\n",
      "  0%|                                                                             | 158/100000 [00:02<23:14, 71.58it/s]"
     ]
    },
    {
     "name": "stdout",
     "output_type": "stream",
     "text": [
      "Step: 158 \tX = [  40.267 1040.267] \tf(X) = 1098368.87735\n",
      "Step: 159 \tX = [  39.461 1039.461] \tf(X) = 1096051.92444\n",
      "Step: 160 \tX = [  38.672 1038.672] \tf(X) = 1093795.15376\n",
      "Step: 161 \tX = [  37.899 1037.899] \tf(X) = 1091596.8135\n",
      "Step: 162 \tX = [  37.141 1037.141] \tf(X) = 1089455.20855\n",
      "Step: 163 \tX = [  36.398 1036.398] \tf(X) = 1087368.69858\n",
      "Step: 164 \tX = [  35.67 1035.67] \tf(X) = 1085335.69608\n",
      "Step: 165 \tX = [  34.957 1034.957] \tf(X) = 1083354.66452\n",
      "Step: 166 \tX = [  34.257 1034.257] \tf(X) = 1081424.11656\n"
     ]
    },
    {
     "name": "stderr",
     "output_type": "stream",
     "text": [
      "\n",
      "\n",
      "  0%|▏                                                                            | 167/100000 [00:02<22:09, 75.11it/s]"
     ]
    },
    {
     "name": "stdout",
     "output_type": "stream",
     "text": [
      "Step: 167 \tX = [  33.572 1033.572] \tf(X) = 1079542.61238\n",
      "Step: 168 \tX = [  32.901 1032.901] \tf(X) = 1077708.75794\n",
      "Step: 169 \tX = [  32.243 1032.243] \tf(X) = 1075921.20348\n",
      "Step: 170 \tX = [  31.598 1031.598] \tf(X) = 1074178.64192\n",
      "Step: 171 \tX = [  30.966 1030.966] \tf(X) = 1072479.80744\n",
      "Step: 172 \tX = [  30.347 1030.347] \tf(X) = 1070823.47402\n",
      "Step: 173 \tX = [  29.74 1029.74] \tf(X) = 1069208.45405\n",
      "Step: 174 \tX = [  29.145 1029.145] \tf(X) = 1067633.59709\n",
      "Step: 175 \tX = [  28.562 1028.562] \tf(X) = 1066097.78851\n",
      "Step: 176 \tX = [  27.991 1027.991] \tf(X) = 1064599.9483\n",
      "Step: 177 \tX = [  27.431 1027.431] \tf(X) = 1063139.02993\n"
     ]
    },
    {
     "name": "stderr",
     "output_type": "stream",
     "text": [
      "\n",
      "\n",
      "  0%|▏                                                                            | 178/100000 [00:02<20:35, 80.82it/s]"
     ]
    },
    {
     "name": "stdout",
     "output_type": "stream",
     "text": [
      "Step: 178 \tX = [  26.882 1026.882] \tf(X) = 1061714.01913\n",
      "Step: 179 \tX = [  26.345 1026.345] \tf(X) = 1060323.93286\n",
      "Step: 180 \tX = [  25.818 1025.818] \tf(X) = 1058967.81824\n",
      "Step: 181 \tX = [  25.301 1025.301] \tf(X) = 1057644.75148\n",
      "Step: 182 \tX = [  24.795 1024.795] \tf(X) = 1056353.837\n",
      "Step: 183 \tX = [  24.3 1024.3] \tf(X) = 1055094.20638\n",
      "Step: 184 \tX = [  23.814 1023.814] \tf(X) = 1053865.0175\n",
      "Step: 185 \tX = [  23.337 1023.337] \tf(X) = 1052665.45366\n",
      "Step: 186 \tX = [  22.871 1022.871] \tf(X) = 1051494.72274\n",
      "Step: 187 \tX = [  22.413 1022.413] \tf(X) = 1050352.05634\n",
      "Step: 188 \tX = [  21.965 1021.965] \tf(X) = 1049236.70904\n"
     ]
    },
    {
     "name": "stderr",
     "output_type": "stream",
     "text": [
      "\n",
      "\n",
      "  0%|▏                                                                            | 189/100000 [00:02<19:07, 86.97it/s]"
     ]
    },
    {
     "name": "stdout",
     "output_type": "stream",
     "text": [
      "Step: 189 \tX = [  21.526 1021.526] \tf(X) = 1048147.95761\n",
      "Step: 190 \tX = [  21.095 1021.095] \tf(X) = 1047085.10029\n",
      "Step: 191 \tX = [  20.673 1020.673] \tf(X) = 1046047.45609\n",
      "Step: 192 \tX = [  20.26 1020.26] \tf(X) = 1045034.36408\n",
      "Step: 193 \tX = [  19.854 1019.854] \tf(X) = 1044045.18276\n",
      "Step: 194 \tX = [  19.457 1019.457] \tf(X) = 1043079.28944\n",
      "Step: 195 \tX = [  19.068 1019.068] \tf(X) = 1042136.07958\n",
      "Step: 196 \tX = [  18.687 1018.687] \tf(X) = 1041214.96622\n",
      "Step: 197 \tX = [  18.313 1018.313] \tf(X) = 1040315.37945\n"
     ]
    },
    {
     "name": "stderr",
     "output_type": "stream",
     "text": [
      "\n",
      "\n",
      "  0%|▏                                                                            | 198/100000 [00:02<20:12, 82.32it/s]"
     ]
    },
    {
     "name": "stdout",
     "output_type": "stream",
     "text": [
      "Step: 198 \tX = [  17.947 1017.947] \tf(X) = 1039436.7658\n",
      "Step: 199 \tX = [  17.588 1017.588] \tf(X) = 1038578.58774\n",
      "Step: 200 \tX = [  17.236 1017.236] \tf(X) = 1037740.32317\n",
      "Step: 201 \tX = [  16.891 1016.891] \tf(X) = 1036921.46493\n",
      "Step: 202 \tX = [  16.554 1016.554] \tf(X) = 1036121.5203\n",
      "Step: 203 \tX = [  16.223 1016.223] \tf(X) = 1035340.01058\n",
      "Step: 204 \tX = [  15.898 1015.898] \tf(X) = 1034576.47059\n",
      "Step: 205 \tX = [  15.58 1015.58] \tf(X) = 1033830.44829\n",
      "Step: 206 \tX = [  15.269 1015.269] \tf(X) = 1033101.50436\n"
     ]
    },
    {
     "name": "stderr",
     "output_type": "stream",
     "text": [
      "\n",
      "\n",
      "  0%|▏                                                                            | 207/100000 [00:03<20:01, 83.08it/s]"
     ]
    },
    {
     "name": "stdout",
     "output_type": "stream",
     "text": [
      "Step: 207 \tX = [  14.963 1014.963] \tf(X) = 1032389.21177\n",
      "Step: 208 \tX = [  14.664 1014.664] \tf(X) = 1031693.15543\n",
      "Step: 209 \tX = [  14.371 1014.371] \tf(X) = 1031012.93179\n",
      "Step: 210 \tX = [  14.083 1014.083] \tf(X) = 1030348.1485\n",
      "Step: 211 \tX = [  13.802 1013.802] \tf(X) = 1029698.42405\n",
      "Step: 212 \tX = [  13.526 1013.526] \tf(X) = 1029063.38745\n",
      "Step: 213 \tX = [  13.255 1013.255] \tf(X) = 1028442.67788\n",
      "Step: 214 \tX = [  12.99 1012.99] \tf(X) = 1027835.94439\n",
      "Step: 215 \tX = [  12.73 1012.73] \tf(X) = 1027242.84562\n"
     ]
    },
    {
     "name": "stderr",
     "output_type": "stream",
     "text": [
      "\n",
      "\n",
      "  0%|▏                                                                            | 216/100000 [00:03<21:16, 78.17it/s]"
     ]
    },
    {
     "name": "stdout",
     "output_type": "stream",
     "text": [
      "Step: 216 \tX = [  12.476 1012.476] \tf(X) = 1026663.04947\n",
      "Step: 217 \tX = [  12.226 1012.226] \tf(X) = 1026096.23283\n",
      "Step: 218 \tX = [  11.981 1011.981] \tf(X) = 1025542.08133\n",
      "Step: 219 \tX = [  11.742 1011.742] \tf(X) = 1025000.28905\n",
      "Step: 220 \tX = [  11.507 1011.507] \tf(X) = 1024470.55825\n",
      "Step: 221 \tX = [  11.277 1011.277] \tf(X) = 1023952.59918\n",
      "Step: 222 \tX = [  11.051 1011.051] \tf(X) = 1023446.12979\n",
      "Step: 223 \tX = [  10.83 1010.83] \tf(X) = 1022950.87552\n",
      "Step: 224 \tX = [  10.614 1010.614] \tf(X) = 1022466.56907\n",
      "Step: 225 \tX = [  10.401 1010.401] \tf(X) = 1021992.95019\n",
      "Step: 226 \tX = [  10.193 1010.193] \tf(X) = 1021529.76547\n"
     ]
    },
    {
     "name": "stderr",
     "output_type": "stream",
     "text": [
      "\n",
      "\n",
      "  0%|▏                                                                            | 227/100000 [00:03<19:41, 84.42it/s]"
     ]
    },
    {
     "name": "stdout",
     "output_type": "stream",
     "text": [
      "Step: 227 \tX = [   9.99 1009.99] \tf(X) = 1021076.76814\n",
      "Step: 228 \tX = [   9.79 1009.79] \tf(X) = 1020633.71788\n",
      "Step: 229 \tX = [   9.594 1009.594] \tf(X) = 1020200.38062\n",
      "Step: 230 \tX = [   9.402 1009.402] \tf(X) = 1019776.52835\n",
      "Step: 231 \tX = [   9.214 1009.214] \tf(X) = 1019361.93897\n",
      "Step: 232 \tX = [   9.03 1009.03] \tf(X) = 1018956.39612\n",
      "Step: 233 \tX = [   8.849 1008.849] \tf(X) = 1018559.68896\n",
      "Step: 234 \tX = [   8.672 1008.672] \tf(X) = 1018171.61208\n",
      "Step: 235 \tX = [   8.499 1008.499] \tf(X) = 1017791.96531\n"
     ]
    },
    {
     "name": "stderr",
     "output_type": "stream",
     "text": [
      "\n",
      "\n",
      "  0%|▏                                                                            | 236/100000 [00:03<20:39, 80.48it/s]"
     ]
    },
    {
     "name": "stdout",
     "output_type": "stream",
     "text": [
      "Step: 236 \tX = [   8.329 1008.329] \tf(X) = 1017420.55357\n",
      "Step: 237 \tX = [   8.162 1008.162] \tf(X) = 1017057.18673\n",
      "Step: 238 \tX = [   7.999 1007.999] \tf(X) = 1016701.67948\n",
      "Step: 239 \tX = [   7.839 1007.839] \tf(X) = 1016353.85117\n",
      "Step: 240 \tX = [   7.682 1007.682] \tf(X) = 1016013.52569\n",
      "Step: 241 \tX = [   7.529 1007.529] \tf(X) = 1015680.53137\n",
      "Step: 242 \tX = [   7.378 1007.378] \tf(X) = 1015354.70079\n",
      "Step: 243 \tX = [   7.23 1007.23] \tf(X) = 1015035.87074\n",
      "Step: 244 \tX = [   7.086 1007.086] \tf(X) = 1014723.88203\n",
      "Step: 245 \tX = [   6.944 1006.944] \tf(X) = 1014418.57944\n",
      "Step: 246 \tX = [   6.805 1006.805] \tf(X) = 1014119.81157\n"
     ]
    },
    {
     "name": "stderr",
     "output_type": "stream",
     "text": [
      "\n",
      "\n",
      "  0%|▏                                                                            | 247/100000 [00:03<19:18, 86.09it/s]"
     ]
    },
    {
     "name": "stdout",
     "output_type": "stream",
     "text": [
      "Step: 247 \tX = [   6.669 1006.669] \tf(X) = 1013827.43075\n",
      "Step: 248 \tX = [   6.536 1006.536] \tf(X) = 1013541.29294\n",
      "Step: 249 \tX = [   6.405 1006.405] \tf(X) = 1013261.25761\n",
      "Step: 250 \tX = [   6.277 1006.277] \tf(X) = 1012987.18769\n",
      "Step: 251 \tX = [   6.151 1006.151] \tf(X) = 1012718.94942\n",
      "Step: 252 \tX = [   6.028 1006.028] \tf(X) = 1012456.41229\n",
      "Step: 253 \tX = [   5.908 1005.908] \tf(X) = 1012199.44898\n",
      "Step: 254 \tX = [   5.79 1005.79] \tf(X) = 1011947.93519\n",
      "Step: 255 \tX = [   5.674 1005.674] \tf(X) = 1011701.74967\n"
     ]
    },
    {
     "name": "stderr",
     "output_type": "stream",
     "text": [
      "\n",
      "\n",
      "  0%|▏                                                                            | 256/100000 [00:03<19:23, 85.73it/s]"
     ]
    },
    {
     "name": "stdout",
     "output_type": "stream",
     "text": [
      "Step: 256 \tX = [   5.56 1005.56] \tf(X) = 1011460.77403\n",
      "Step: 257 \tX = [   5.449 1005.449] \tf(X) = 1011224.89276\n",
      "Step: 258 \tX = [   5.34 1005.34] \tf(X) = 1010993.99308\n",
      "Step: 259 \tX = [   5.233 1005.233] \tf(X) = 1010767.96491\n",
      "Step: 260 \tX = [   5.129 1005.129] \tf(X) = 1010546.70077\n",
      "Step: 261 \tX = [   5.026 1005.026] \tf(X) = 1010330.09575\n",
      "Step: 262 \tX = [   4.926 1004.926] \tf(X) = 1010118.04739\n",
      "Step: 263 \tX = [   4.827 1004.827] \tf(X) = 1009910.45569\n",
      "Step: 264 \tX = [   4.731 1004.731] \tf(X) = 1009707.22296\n"
     ]
    },
    {
     "name": "stderr",
     "output_type": "stream",
     "text": [
      "\n",
      "\n",
      "  0%|▏                                                                            | 265/100000 [00:03<21:09, 78.54it/s]"
     ]
    },
    {
     "name": "stdout",
     "output_type": "stream",
     "text": [
      "Step: 265 \tX = [   4.636 1004.636] \tf(X) = 1009508.25381\n",
      "Step: 266 \tX = [   4.543 1004.543] \tf(X) = 1009313.45511\n",
      "Step: 267 \tX = [   4.452 1004.452] \tf(X) = 1009122.73587\n",
      "Step: 268 \tX = [   4.363 1004.363] \tf(X) = 1008936.00725\n",
      "Step: 269 \tX = [   4.276 1004.276] \tf(X) = 1008753.18244\n",
      "Step: 270 \tX = [   4.191 1004.191] \tf(X) = 1008574.17667\n",
      "Step: 271 \tX = [   4.107 1004.107] \tf(X) = 1008398.90713\n",
      "Step: 272 \tX = [   4.025 1004.025] \tf(X) = 1008227.2929\n",
      "Step: 273 \tX = [   3.944 1003.944] \tf(X) = 1008059.25495\n"
     ]
    },
    {
     "name": "stderr",
     "output_type": "stream",
     "text": [
      "\n",
      "\n",
      "  0%|▏                                                                            | 274/100000 [00:03<21:17, 78.05it/s]"
     ]
    },
    {
     "name": "stdout",
     "output_type": "stream",
     "text": [
      "Step: 274 \tX = [   3.865 1003.865] \tf(X) = 1007894.71604\n",
      "Step: 275 \tX = [   3.788 1003.788] \tf(X) = 1007733.60072\n",
      "Step: 276 \tX = [   3.712 1003.712] \tf(X) = 1007575.83526\n",
      "Step: 277 \tX = [   3.638 1003.638] \tf(X) = 1007421.34761\n",
      "Step: 278 \tX = [   3.565 1003.565] \tf(X) = 1007270.06736\n",
      "Step: 279 \tX = [   3.494 1003.494] \tf(X) = 1007121.92571\n",
      "Step: 280 \tX = [   3.424 1003.424] \tf(X) = 1006976.85541\n",
      "Step: 281 \tX = [   3.355 1003.355] \tf(X) = 1006834.79073\n",
      "Step: 282 \tX = [   3.288 1003.288] \tf(X) = 1006695.66743\n",
      "Step: 283 \tX = [   3.223 1003.223] \tf(X) = 1006559.42273\n",
      "Step: 284 \tX = [   3.158 1003.158] \tf(X) = 1006425.99525\n"
     ]
    },
    {
     "name": "stderr",
     "output_type": "stream",
     "text": [
      "\n",
      "\n",
      "  0%|▏                                                                            | 285/100000 [00:03<19:45, 84.13it/s]"
     ]
    },
    {
     "name": "stdout",
     "output_type": "stream",
     "text": [
      "Step: 285 \tX = [   3.095 1003.095] \tf(X) = 1006295.32498\n",
      "Step: 286 \tX = [   3.033 1003.033] \tf(X) = 1006167.35327\n",
      "Step: 287 \tX = [   2.972 1002.972] \tf(X) = 1006042.02278\n",
      "Step: 288 \tX = [   2.913 1002.913] \tf(X) = 1005919.27744\n",
      "Step: 289 \tX = [   2.855 1002.855] \tf(X) = 1005799.06244\n",
      "Step: 290 \tX = [   2.798 1002.798] \tf(X) = 1005681.32419\n",
      "Step: 291 \tX = [   2.742 1002.742] \tf(X) = 1005566.01028\n",
      "Step: 292 \tX = [   2.687 1002.687] \tf(X) = 1005453.06947\n",
      "Step: 293 \tX = [   2.633 1002.633] \tf(X) = 1005342.45165\n",
      "Step: 294 \tX = [   2.58 1002.58] \tf(X) = 1005234.10783\n",
      "Step: 295 \tX = [   2.529 1002.529] \tf(X) = 1005127.99007\n"
     ]
    },
    {
     "name": "stderr",
     "output_type": "stream",
     "text": [
      "\n",
      "\n",
      "  0%|▏                                                                            | 296/100000 [00:04<18:27, 90.07it/s]"
     ]
    },
    {
     "name": "stdout",
     "output_type": "stream",
     "text": [
      "Step: 296 \tX = [   2.478 1002.478] \tf(X) = 1005024.05152\n",
      "Step: 297 \tX = [   2.429 1002.429] \tf(X) = 1004922.24634\n",
      "Step: 298 \tX = [   2.38 1002.38] \tf(X) = 1004822.52969\n",
      "Step: 299 \tX = [   2.333 1002.333] \tf(X) = 1004724.85775\n",
      "Step: 300 \tX = [   2.286 1002.286] \tf(X) = 1004629.1876\n",
      "Step: 301 \tX = [   2.24 1002.24] \tf(X) = 1004535.47731\n",
      "Step: 302 \tX = [   2.195 1002.195] \tf(X) = 1004443.68584\n",
      "Step: 303 \tX = [   2.151 1002.151] \tf(X) = 1004353.77303\n",
      "Step: 304 \tX = [   2.108 1002.108] \tf(X) = 1004265.69964\n",
      "Step: 305 \tX = [   2.066 1002.066] \tf(X) = 1004179.42723\n",
      "Step: 306 \tX = [   2.025 1002.025] \tf(X) = 1004094.91822\n",
      "Step: 307 \tX = [   1.984 1001.984] \tf(X) = 1004012.13584\n"
     ]
    },
    {
     "name": "stderr",
     "output_type": "stream",
     "text": [
      "\n",
      "\n",
      "  0%|▏                                                                            | 308/100000 [00:04<17:11, 96.65it/s]"
     ]
    },
    {
     "name": "stdout",
     "output_type": "stream",
     "text": [
      "Step: 308 \tX = [   1.945 1001.945] \tf(X) = 1003931.04412\n",
      "Step: 309 \tX = [   1.906 1001.906] \tf(X) = 1003851.60785\n",
      "Step: 310 \tX = [   1.868 1001.868] \tf(X) = 1003773.79259\n",
      "Step: 311 \tX = [   1.83 1001.83] \tf(X) = 1003697.56465\n",
      "Step: 312 \tX = [   1.794 1001.794] \tf(X) = 1003622.89106\n",
      "Step: 313 \tX = [   1.758 1001.758] \tf(X) = 1003549.73954\n",
      "Step: 314 \tX = [   1.723 1001.723] \tf(X) = 1003478.07851\n",
      "Step: 315 \tX = [   1.688 1001.688] \tf(X) = 1003407.8771\n",
      "Step: 316 \tX = [   1.654 1001.654] \tf(X) = 1003339.10505\n",
      "Step: 317 \tX = [   1.621 1001.621] \tf(X) = 1003271.73277\n",
      "Step: 318 \tX = [   1.589 1001.589] \tf(X) = 1003205.73131\n"
     ]
    },
    {
     "name": "stderr",
     "output_type": "stream",
     "text": [
      "\n",
      "\n",
      "  0%|▏                                                                            | 319/100000 [00:04<21:13, 78.25it/s]"
     ]
    },
    {
     "name": "stdout",
     "output_type": "stream",
     "text": [
      "Step: 319 \tX = [   1.557 1001.557] \tf(X) = 1003141.07233\n",
      "Step: 320 \tX = [   1.526 1001.526] \tf(X) = 1003077.72808\n",
      "Step: 321 \tX = [   1.496 1001.496] \tf(X) = 1003015.67142\n",
      "Step: 322 \tX = [   1.466 1001.466] \tf(X) = 1002954.87577\n",
      "Step: 323 \tX = [   1.436 1001.436] \tf(X) = 1002895.31514\n",
      "Step: 324 \tX = [   1.408 1001.408] \tf(X) = 1002836.96405\n",
      "Step: 325 \tX = [   1.379 1001.379] \tf(X) = 1002779.7976\n",
      "Step: 326 \tX = [   1.352 1001.352] \tf(X) = 1002723.7914\n",
      "Step: 327 \tX = [   1.325 1001.325] \tf(X) = 1002668.92157\n",
      "Step: 328 \tX = [   1.298 1001.298] \tf(X) = 1002615.16473\n"
     ]
    },
    {
     "name": "stderr",
     "output_type": "stream",
     "text": [
      "\n",
      "\n",
      "  0%|▎                                                                            | 329/100000 [00:04<20:05, 82.68it/s]"
     ]
    },
    {
     "name": "stdout",
     "output_type": "stream",
     "text": [
      "Step: 329 \tX = [   1.272 1001.272] \tf(X) = 1002562.49802\n",
      "Step: 330 \tX = [   1.247 1001.247] \tf(X) = 1002510.89903\n",
      "Step: 331 \tX = [   1.222 1001.222] \tf(X) = 1002460.34585\n",
      "Step: 332 \tX = [   1.198 1001.198] \tf(X) = 1002410.817\n",
      "Step: 333 \tX = [   1.174 1001.174] \tf(X) = 1002362.29148\n",
      "Step: 334 \tX = [   1.15 1001.15] \tf(X) = 1002314.74871\n",
      "Step: 335 \tX = [   1.127 1001.127] \tf(X) = 1002268.16855\n",
      "Step: 336 \tX = [   1.105 1001.105] \tf(X) = 1002222.5313\n",
      "Step: 337 \tX = [   1.082 1001.082] \tf(X) = 1002177.81763\n"
     ]
    },
    {
     "name": "stderr",
     "output_type": "stream",
     "text": [
      "\n",
      "\n",
      "  0%|▎                                                                            | 338/100000 [00:04<22:28, 73.89it/s]"
     ]
    },
    {
     "name": "stdout",
     "output_type": "stream",
     "text": [
      "Step: 338 \tX = [   1.061 1001.061] \tf(X) = 1002134.00865\n",
      "Step: 339 \tX = [   1.04 1001.04] \tf(X) = 1002091.08586\n",
      "Step: 340 \tX = [   1.019 1001.019] \tf(X) = 1002049.03113\n",
      "Step: 341 \tX = [9.980000e-01 1.000998e+03] \tf(X) = 1002007.82672\n",
      "Step: 342 \tX = [9.780000e-01 1.000978e+03] \tf(X) = 1001967.45526\n",
      "Step: 343 \tX = [9.590000e-01 1.000959e+03] \tf(X) = 1001927.89974\n",
      "Step: 344 \tX = [9.40000e-01 1.00094e+03] \tf(X) = 1001889.14351\n",
      "Step: 345 \tX = [9.210000e-01 1.000921e+03] \tf(X) = 1001851.17025\n",
      "Step: 346 \tX = [9.030000e-01 1.000903e+03] \tf(X) = 1001813.964\n",
      "Step: 347 \tX = [8.840000e-01 1.000884e+03] \tf(X) = 1001777.50911\n",
      "Step: 348 \tX = [8.670000e-01 1.000867e+03] \tf(X) = 1001741.79027\n",
      "Step: 349 \tX = [8.490000e-01 1.000849e+03] \tf(X) = 1001706.79249\n"
     ]
    },
    {
     "name": "stderr",
     "output_type": "stream",
     "text": [
      "\n",
      "\n",
      "  0%|▎                                                                            | 350/100000 [00:04<20:15, 81.98it/s]"
     ]
    },
    {
     "name": "stdout",
     "output_type": "stream",
     "text": [
      "Step: 350 \tX = [8.320000e-01 1.000832e+03] \tf(X) = 1001672.50108\n",
      "Step: 351 \tX = [8.160000e-01 1.000816e+03] \tf(X) = 1001638.90166\n",
      "Step: 352 \tX = [7.990000e-01 1.000799e+03] \tf(X) = 1001605.98014\n",
      "Step: 353 \tX = [7.830000e-01 1.000783e+03] \tf(X) = 1001573.72273\n",
      "Step: 354 \tX = [7.680000e-01 1.000768e+03] \tf(X) = 1001542.11593\n",
      "Step: 355 \tX = [7.520000e-01 1.000752e+03] \tf(X) = 1001511.14651\n",
      "Step: 356 \tX = [7.370000e-01 1.000737e+03] \tf(X) = 1001480.80151\n",
      "Step: 357 \tX = [7.230000e-01 1.000723e+03] \tf(X) = 1001451.06824\n",
      "Step: 358 \tX = [7.080000e-01 1.000708e+03] \tf(X) = 1001421.93428\n"
     ]
    },
    {
     "name": "stderr",
     "output_type": "stream",
     "text": [
      "\n",
      "\n",
      "  0%|▎                                                                            | 359/100000 [00:04<22:19, 74.41it/s]"
     ]
    },
    {
     "name": "stdout",
     "output_type": "stream",
     "text": [
      "Step: 359 \tX = [6.940000e-01 1.000694e+03] \tf(X) = 1001393.38746\n",
      "Step: 360 \tX = [6.80000e-01 1.00068e+03] \tf(X) = 1001365.41585\n",
      "Step: 361 \tX = [6.670000e-01 1.000667e+03] \tf(X) = 1001338.0078\n",
      "Step: 362 \tX = [6.530000e-01 1.000653e+03] \tf(X) = 1001311.15185\n",
      "Step: 363 \tX = [6.40000e-01 1.00064e+03] \tf(X) = 1001284.83681\n",
      "Step: 364 \tX = [6.270000e-01 1.000627e+03] \tf(X) = 1001259.05172\n",
      "Step: 365 \tX = [6.150000e-01 1.000615e+03] \tf(X) = 1001233.78583\n",
      "Step: 366 \tX = [6.030000e-01 1.000603e+03] \tf(X) = 1001209.02862\n",
      "Step: 367 \tX = [5.90000e-01 1.00059e+03] \tf(X) = 1001184.76978\n",
      "Step: 368 \tX = [5.790000e-01 1.000579e+03] \tf(X) = 1001160.99921\n",
      "Step: 369 \tX = [5.670000e-01 1.000567e+03] \tf(X) = 1001137.70704\n"
     ]
    },
    {
     "name": "stderr",
     "output_type": "stream",
     "text": [
      "\n",
      "\n",
      "  0%|▎                                                                            | 370/100000 [00:04<20:25, 81.31it/s]"
     ]
    },
    {
     "name": "stdout",
     "output_type": "stream",
     "text": [
      "Step: 370 \tX = [5.560000e-01 1.000556e+03] \tf(X) = 1001114.88356\n",
      "Step: 371 \tX = [5.450000e-01 1.000545e+03] \tf(X) = 1001092.5193\n",
      "Step: 372 \tX = [5.340000e-01 1.000534e+03] \tf(X) = 1001070.60496\n",
      "Step: 373 \tX = [5.230000e-01 1.000523e+03] \tf(X) = 1001049.13145\n",
      "Step: 374 \tX = [5.130000e-01 1.000513e+03] \tf(X) = 1001028.08983\n",
      "Step: 375 \tX = [5.020000e-01 1.000502e+03] \tf(X) = 1001007.47138\n",
      "Step: 376 \tX = [4.920000e-01 1.000492e+03] \tf(X) = 1000987.26755\n",
      "Step: 377 \tX = [4.820000e-01 1.000482e+03] \tf(X) = 1000967.46994\n",
      "Step: 378 \tX = [4.730000e-01 1.000473e+03] \tf(X) = 1000948.07036\n"
     ]
    },
    {
     "name": "stderr",
     "output_type": "stream",
     "text": [
      "\n",
      "\n",
      "  0%|▎                                                                            | 379/100000 [00:05<22:19, 74.39it/s]"
     ]
    },
    {
     "name": "stdout",
     "output_type": "stream",
     "text": [
      "Step: 379 \tX = [4.630000e-01 1.000463e+03] \tf(X) = 1000929.06076\n",
      "Step: 380 \tX = [4.540000e-01 1.000454e+03] \tf(X) = 1000910.43326\n",
      "Step: 381 \tX = [4.450000e-01 1.000445e+03] \tf(X) = 1000892.18014\n",
      "Step: 382 \tX = [4.360000e-01 1.000436e+03] \tf(X) = 1000874.29384\n",
      "Step: 383 \tX = [4.270000e-01 1.000427e+03] \tf(X) = 1000856.76696\n",
      "Step: 384 \tX = [4.190000e-01 1.000419e+03] \tf(X) = 1000839.59224\n",
      "Step: 385 \tX = [4.10000e-01 1.00041e+03] \tf(X) = 1000822.76257\n",
      "Step: 386 \tX = [4.020000e-01 1.000402e+03] \tf(X) = 1000806.271\n",
      "Step: 387 \tX = [3.940000e-01 1.000394e+03] \tf(X) = 1000790.1107\n",
      "Step: 388 \tX = [3.860000e-01 1.000386e+03] \tf(X) = 1000774.27498\n",
      "Step: 389 \tX = [3.790000e-01 1.000379e+03] \tf(X) = 1000758.7573\n"
     ]
    },
    {
     "name": "stderr",
     "output_type": "stream",
     "text": [
      "\n",
      "\n",
      "  0%|▎                                                                            | 390/100000 [00:05<21:19, 77.85it/s]"
     ]
    },
    {
     "name": "stdout",
     "output_type": "stream",
     "text": [
      "Step: 390 \tX = [3.710000e-01 1.000371e+03] \tf(X) = 1000743.55125\n",
      "Step: 391 \tX = [3.640000e-01 1.000364e+03] \tf(X) = 1000728.65055\n",
      "Step: 392 \tX = [3.560000e-01 1.000356e+03] \tf(X) = 1000714.04904\n",
      "Step: 393 \tX = [3.490000e-01 1.000349e+03] \tf(X) = 1000699.74068\n",
      "Step: 394 \tX = [3.420000e-01 1.000342e+03] \tf(X) = 1000685.71958\n",
      "Step: 395 \tX = [3.350000e-01 1.000335e+03] \tf(X) = 1000671.97994\n",
      "Step: 396 \tX = [3.290000e-01 1.000329e+03] \tf(X) = 1000658.51609\n",
      "Step: 397 \tX = [3.220000e-01 1.000322e+03] \tf(X) = 1000645.32248\n",
      "Step: 398 \tX = [3.160000e-01 1.000316e+03] \tf(X) = 1000632.39366\n"
     ]
    },
    {
     "name": "stderr",
     "output_type": "stream",
     "text": [
      "\n",
      "\n",
      "  0%|▎                                                                            | 399/100000 [00:05<21:30, 77.17it/s]"
     ]
    },
    {
     "name": "stdout",
     "output_type": "stream",
     "text": [
      "Step: 399 \tX = [3.090000e-01 1.000309e+03] \tf(X) = 1000619.72431\n",
      "Step: 400 \tX = [3.030000e-01 1.000303e+03] \tf(X) = 1000607.30919\n",
      "Step: 401 \tX = [2.970000e-01 1.000297e+03] \tf(X) = 1000595.14319\n",
      "Step: 402 \tX = [2.910000e-01 1.000291e+03] \tf(X) = 1000583.2213\n",
      "Step: 403 \tX = [2.850000e-01 1.000285e+03] \tf(X) = 1000571.5386\n",
      "Step: 404 \tX = [2.80000e-01 1.00028e+03] \tf(X) = 1000560.09028\n",
      "Step: 405 \tX = [2.740000e-01 1.000274e+03] \tf(X) = 1000548.87161\n",
      "Step: 406 \tX = [2.690000e-01 1.000269e+03] \tf(X) = 1000537.87799\n",
      "Step: 407 \tX = [2.630000e-01 1.000263e+03] \tf(X) = 1000527.10488\n",
      "Step: 408 \tX = [2.580000e-01 1.000258e+03] \tf(X) = 1000516.54785\n",
      "Step: 409 \tX = [2.530000e-01 1.000253e+03] \tf(X) = 1000506.20256\n"
     ]
    },
    {
     "name": "stderr",
     "output_type": "stream",
     "text": [
      "\n",
      "\n",
      "  0%|▎                                                                            | 410/100000 [00:05<20:04, 82.65it/s]"
     ]
    },
    {
     "name": "stdout",
     "output_type": "stream",
     "text": [
      "Step: 410 \tX = [2.480000e-01 1.000248e+03] \tf(X) = 1000496.06473\n",
      "Step: 411 \tX = [2.430000e-01 1.000243e+03] \tf(X) = 1000486.13021\n",
      "Step: 412 \tX = [2.380000e-01 1.000238e+03] \tf(X) = 1000476.3949\n",
      "Step: 413 \tX = [2.330000e-01 1.000233e+03] \tf(X) = 1000466.8548\n",
      "Step: 414 \tX = [2.280000e-01 1.000228e+03] \tf(X) = 1000457.50599\n",
      "Step: 415 \tX = [2.240000e-01 1.000224e+03] \tf(X) = 1000448.34462\n",
      "Step: 416 \tX = [2.190000e-01 1.000219e+03] \tf(X) = 1000439.36692\n",
      "Step: 417 \tX = [2.150000e-01 1.000215e+03] \tf(X) = 1000430.5692\n",
      "Step: 418 \tX = [2.110000e-01 1.000211e+03] \tf(X) = 1000421.94784\n"
     ]
    },
    {
     "name": "stderr",
     "output_type": "stream",
     "text": [
      "\n",
      "\n",
      "  0%|▎                                                                            | 419/100000 [00:05<21:14, 78.11it/s]"
     ]
    },
    {
     "name": "stdout",
     "output_type": "stream",
     "text": [
      "Step: 419 \tX = [2.070000e-01 1.000207e+03] \tf(X) = 1000413.49931\n",
      "Step: 420 \tX = [2.020000e-01 1.000202e+03] \tf(X) = 1000405.22013\n",
      "Step: 421 \tX = [1.980000e-01 1.000198e+03] \tf(X) = 1000397.1069\n",
      "Step: 422 \tX = [1.940000e-01 1.000194e+03] \tf(X) = 1000389.15628\n",
      "Step: 423 \tX = [1.90000e-01 1.00019e+03] \tf(X) = 1000381.36501\n",
      "Step: 424 \tX = [1.870000e-01 1.000187e+03] \tf(X) = 1000373.72989\n",
      "Step: 425 \tX = [1.830000e-01 1.000183e+03] \tf(X) = 1000366.24777\n",
      "Step: 426 \tX = [1.790000e-01 1.000179e+03] \tf(X) = 1000358.9156\n",
      "Step: 427 \tX = [1.760000e-01 1.000176e+03] \tf(X) = 1000351.73036\n",
      "Step: 428 \tX = [1.720000e-01 1.000172e+03] \tf(X) = 1000344.6891\n",
      "Step: 429 \tX = [1.690000e-01 1.000169e+03] \tf(X) = 1000337.78893\n"
     ]
    },
    {
     "name": "stderr",
     "output_type": "stream",
     "text": [
      "\n",
      "\n",
      "  0%|▎                                                                            | 430/100000 [00:05<19:42, 84.18it/s]"
     ]
    },
    {
     "name": "stdout",
     "output_type": "stream",
     "text": [
      "Step: 430 \tX = [1.650000e-01 1.000165e+03] \tf(X) = 1000331.02701\n",
      "Step: 431 \tX = [1.620000e-01 1.000162e+03] \tf(X) = 1000324.40057\n",
      "Step: 432 \tX = [1.590000e-01 1.000159e+03] \tf(X) = 1000317.9069\n",
      "Step: 433 \tX = [1.560000e-01 1.000156e+03] \tf(X) = 1000311.54332\n",
      "Step: 434 \tX = [1.530000e-01 1.000153e+03] \tf(X) = 1000305.30723\n",
      "Step: 435 \tX = [1.490000e-01 1.000149e+03] \tf(X) = 1000299.19607\n",
      "Step: 436 \tX = [1.460000e-01 1.000146e+03] \tf(X) = 1000293.20734\n",
      "Step: 437 \tX = [1.440000e-01 1.000144e+03] \tf(X) = 1000287.33856\n",
      "Step: 438 \tX = [1.410000e-01 1.000141e+03] \tf(X) = 1000281.58735\n"
     ]
    },
    {
     "name": "stderr",
     "output_type": "stream",
     "text": [
      "\n",
      "\n",
      "  0%|▎                                                                            | 439/100000 [00:05<21:05, 78.64it/s]"
     ]
    },
    {
     "name": "stdout",
     "output_type": "stream",
     "text": [
      "Step: 439 \tX = [1.380000e-01 1.000138e+03] \tf(X) = 1000275.95133\n",
      "Step: 440 \tX = [1.350000e-01 1.000135e+03] \tf(X) = 1000270.42821\n",
      "Step: 441 \tX = [1.320000e-01 1.000132e+03] \tf(X) = 1000265.01571\n",
      "Step: 442 \tX = [1.30000e-01 1.00013e+03] \tf(X) = 1000259.71161\n",
      "Step: 443 \tX = [1.270000e-01 1.000127e+03] \tf(X) = 1000254.51375\n",
      "Step: 444 \tX = [1.250000e-01 1.000125e+03] \tf(X) = 1000249.41999\n",
      "Step: 445 \tX = [1.220000e-01 1.000122e+03] \tf(X) = 1000244.42824\n",
      "Step: 446 \tX = [1.20000e-01 1.00012e+03] \tf(X) = 1000239.53646\n",
      "Step: 447 \tX = [1.170000e-01 1.000117e+03] \tf(X) = 1000234.74264\n"
     ]
    },
    {
     "name": "stderr",
     "output_type": "stream",
     "text": [
      "\n",
      "\n",
      "  0%|▎                                                                            | 448/100000 [00:06<25:33, 64.93it/s]"
     ]
    },
    {
     "name": "stdout",
     "output_type": "stream",
     "text": [
      "Step: 448 \tX = [1.150000e-01 1.000115e+03] \tf(X) = 1000230.04482\n",
      "Step: 449 \tX = [1.130000e-01 1.000113e+03] \tf(X) = 1000225.44108\n",
      "Step: 450 \tX = [1.10000e-01 1.00011e+03] \tf(X) = 1000220.92952\n",
      "Step: 451 \tX = [1.080000e-01 1.000108e+03] \tf(X) = 1000216.5083\n",
      "Step: 452 \tX = [1.060000e-01 1.000106e+03] \tf(X) = 1000212.17561\n",
      "Step: 453 \tX = [1.040000e-01 1.000104e+03] \tf(X) = 1000207.92968\n",
      "Step: 454 \tX = [1.020000e-01 1.000102e+03] \tf(X) = 1000203.76876\n",
      "Step: 455 \tX = [1.0000e-01 1.0001e+03] \tf(X) = 1000199.69115\n"
     ]
    },
    {
     "name": "stderr",
     "output_type": "stream",
     "text": [
      "\n",
      "\n",
      "  0%|▎                                                                            | 456/100000 [00:06<24:10, 68.64it/s]"
     ]
    },
    {
     "name": "stdout",
     "output_type": "stream",
     "text": [
      "Step: 456 \tX = [9.800000e-02 1.000098e+03] \tf(X) = 1000195.69518\n",
      "Step: 457 \tX = [9.600000e-02 1.000096e+03] \tf(X) = 1000191.77921\n",
      "Step: 458 \tX = [9.400000e-02 1.000094e+03] \tf(X) = 1000187.94165\n",
      "Step: 459 \tX = [9.200000e-02 1.000092e+03] \tf(X) = 1000184.18091\n",
      "Step: 460 \tX = [9.00000e-02 1.00009e+03] \tf(X) = 1000180.49547\n",
      "Step: 461 \tX = [8.800000e-02 1.000088e+03] \tf(X) = 1000176.8838\n",
      "Step: 462 \tX = [8.700000e-02 1.000087e+03] \tf(X) = 1000173.34444\n",
      "Step: 463 \tX = [8.500000e-02 1.000085e+03] \tf(X) = 1000169.87593\n",
      "Step: 464 \tX = [8.300000e-02 1.000083e+03] \tf(X) = 1000166.47686\n",
      "Step: 465 \tX = [8.200000e-02 1.000082e+03] \tf(X) = 1000163.14583\n",
      "Step: 466 \tX = [8.00000e-02 1.00008e+03] \tf(X) = 1000159.88148\n"
     ]
    },
    {
     "name": "stderr",
     "output_type": "stream",
     "text": [
      "\n",
      "\n",
      "  0%|▎                                                                            | 467/100000 [00:06<21:42, 76.40it/s]"
     ]
    },
    {
     "name": "stdout",
     "output_type": "stream",
     "text": [
      "Step: 467 \tX = [7.800000e-02 1.000078e+03] \tf(X) = 1000156.68248\n",
      "Step: 468 \tX = [7.700000e-02 1.000077e+03] \tf(X) = 1000153.5475\n",
      "Step: 469 \tX = [7.500000e-02 1.000075e+03] \tf(X) = 1000150.47528\n",
      "Step: 470 \tX = [7.400000e-02 1.000074e+03] \tf(X) = 1000147.46456\n",
      "Step: 471 \tX = [7.200000e-02 1.000072e+03] \tf(X) = 1000144.5141\n",
      "Step: 472 \tX = [7.100000e-02 1.000071e+03] \tf(X) = 1000141.62269\n",
      "Step: 473 \tX = [6.900000e-02 1.000069e+03] \tf(X) = 1000138.78916\n",
      "Step: 474 \tX = [6.800000e-02 1.000068e+03] \tf(X) = 1000136.01234\n",
      "Step: 475 \tX = [6.700000e-02 1.000067e+03] \tf(X) = 1000133.29109\n",
      "Step: 476 \tX = [6.500000e-02 1.000065e+03] \tf(X) = 1000130.62431\n"
     ]
    },
    {
     "name": "stderr",
     "output_type": "stream",
     "text": [
      "\n",
      "\n",
      "  0%|▎                                                                            | 477/100000 [00:06<20:13, 82.02it/s]"
     ]
    },
    {
     "name": "stdout",
     "output_type": "stream",
     "text": [
      "Step: 477 \tX = [6.400000e-02 1.000064e+03] \tf(X) = 1000128.01091\n",
      "Step: 478 \tX = [6.300000e-02 1.000063e+03] \tf(X) = 1000125.44981\n",
      "Step: 479 \tX = [6.100000e-02 1.000061e+03] \tf(X) = 1000122.93996\n",
      "Step: 480 \tX = [6.00000e-02 1.00006e+03] \tf(X) = 1000120.48035\n",
      "Step: 481 \tX = [5.900000e-02 1.000059e+03] \tf(X) = 1000118.06996\n",
      "Step: 482 \tX = [5.800000e-02 1.000058e+03] \tf(X) = 1000115.70781\n",
      "Step: 483 \tX = [5.700000e-02 1.000057e+03] \tf(X) = 1000113.39293\n",
      "Step: 484 \tX = [5.600000e-02 1.000056e+03] \tf(X) = 1000111.12438\n",
      "Step: 485 \tX = [5.400000e-02 1.000054e+03] \tf(X) = 1000108.90123\n",
      "Step: 486 \tX = [5.300000e-02 1.000053e+03] \tf(X) = 1000106.72257\n",
      "Step: 487 \tX = [5.200000e-02 1.000052e+03] \tf(X) = 1000104.5875\n"
     ]
    },
    {
     "name": "stderr",
     "output_type": "stream",
     "text": [
      "\n",
      "\n",
      "  0%|▍                                                                            | 488/100000 [00:06<18:54, 87.73it/s]"
     ]
    },
    {
     "name": "stdout",
     "output_type": "stream",
     "text": [
      "Step: 488 \tX = [5.100000e-02 1.000051e+03] \tf(X) = 1000102.49516\n",
      "Step: 489 \tX = [5.00000e-02 1.00005e+03] \tf(X) = 1000100.44469\n",
      "Step: 490 \tX = [4.900000e-02 1.000049e+03] \tf(X) = 1000098.43526\n",
      "Step: 491 \tX = [4.800000e-02 1.000048e+03] \tf(X) = 1000096.46603\n",
      "Step: 492 \tX = [4.700000e-02 1.000047e+03] \tf(X) = 1000094.53621\n",
      "Step: 493 \tX = [4.600000e-02 1.000046e+03] \tf(X) = 1000092.645\n",
      "Step: 494 \tX = [4.500000e-02 1.000045e+03] \tf(X) = 1000090.79164\n",
      "Step: 495 \tX = [4.400000e-02 1.000044e+03] \tf(X) = 1000088.97536\n",
      "Step: 496 \tX = [4.400000e-02 1.000044e+03] \tf(X) = 1000087.19543\n",
      "Step: 497 \tX = [4.300000e-02 1.000043e+03] \tf(X) = 1000085.45111\n"
     ]
    },
    {
     "name": "stderr",
     "output_type": "stream",
     "text": [
      "\n",
      "\n",
      "  0%|▍                                                                            | 498/100000 [00:06<20:44, 79.94it/s]"
     ]
    },
    {
     "name": "stdout",
     "output_type": "stream",
     "text": [
      "Step: 498 \tX = [4.200000e-02 1.000042e+03] \tf(X) = 1000083.74169\n",
      "Step: 499 \tX = [4.100000e-02 1.000041e+03] \tf(X) = 1000082.06648\n",
      "Step: 500 \tX = [4.00000e-02 1.00004e+03] \tf(X) = 1000080.42479\n",
      "Step: 501 \tX = [3.900000e-02 1.000039e+03] \tf(X) = 1000078.81595\n",
      "Step: 502 \tX = [3.900000e-02 1.000039e+03] \tf(X) = 1000077.23929\n",
      "Step: 503 \tX = [3.800000e-02 1.000038e+03] \tf(X) = 1000075.69419\n",
      "Step: 504 \tX = [3.700000e-02 1.000037e+03] \tf(X) = 1000074.17999\n",
      "Step: 505 \tX = [3.600000e-02 1.000036e+03] \tf(X) = 1000072.6961\n",
      "Step: 506 \tX = [3.600000e-02 1.000036e+03] \tf(X) = 1000071.24189\n",
      "Step: 507 \tX = [3.500000e-02 1.000035e+03] \tf(X) = 1000069.81678\n",
      "Step: 508 \tX = [3.400000e-02 1.000034e+03] \tf(X) = 1000068.42018\n"
     ]
    },
    {
     "name": "stderr",
     "output_type": "stream",
     "text": [
      "  0%|▍                                                                            | 498/100000 [00:06<22:22, 74.12it/s]\n"
     ]
    }
   ],
   "source": [
    "x_min = gradient_descent()"
   ]
  },
  {
   "cell_type": "code",
   "execution_count": 65,
   "metadata": {},
   "outputs": [
    {
     "data": {
      "text/plain": [
       "array([3.42036558e-02, 1.00003420e+03])"
      ]
     },
     "execution_count": 65,
     "metadata": {},
     "output_type": "execute_result"
    }
   ],
   "source": [
    "x_min"
   ]
  },
  {
   "cell_type": "code",
   "execution_count": 66,
   "metadata": {},
   "outputs": [
    {
     "data": {
      "text/plain": [
       "1000068.4201804076"
      ]
     },
     "execution_count": 66,
     "metadata": {},
     "output_type": "execute_result"
    }
   ],
   "source": [
    "f(x_min)"
   ]
  },
  {
   "cell_type": "code",
   "execution_count": null,
   "metadata": {},
   "outputs": [],
   "source": []
  }
 ],
 "metadata": {
  "kernelspec": {
   "display_name": "Python 3",
   "language": "python",
   "name": "python3"
  },
  "language_info": {
   "codemirror_mode": {
    "name": "ipython",
    "version": 3
   },
   "file_extension": ".py",
   "mimetype": "text/x-python",
   "name": "python",
   "nbconvert_exporter": "python",
   "pygments_lexer": "ipython3",
   "version": "3.7.4"
  }
 },
 "nbformat": 4,
 "nbformat_minor": 2
}
