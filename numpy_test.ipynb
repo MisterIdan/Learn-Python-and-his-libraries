{
 "cells": [
  {
   "cell_type": "code",
   "execution_count": 1,
   "metadata": {},
   "outputs": [],
   "source": [
    "import numpy as np"
   ]
  },
  {
   "cell_type": "code",
   "execution_count": 124,
   "metadata": {},
   "outputs": [],
   "source": [
    "import pandas as pd"
   ]
  },
  {
   "cell_type": "code",
   "execution_count": 13,
   "metadata": {},
   "outputs": [
    {
     "name": "stdout",
     "output_type": "stream",
     "text": [
      "[0.19811298 0.10358458 0.59958467]\n"
     ]
    }
   ],
   "source": [
    "i = np.random.random(3)\n",
    "print(i)"
   ]
  },
  {
   "cell_type": "code",
   "execution_count": 14,
   "metadata": {},
   "outputs": [
    {
     "data": {
      "text/plain": [
       "0.5995846730891268"
      ]
     },
     "execution_count": 14,
     "metadata": {},
     "output_type": "execute_result"
    }
   ],
   "source": [
    "i.max()"
   ]
  },
  {
   "cell_type": "code",
   "execution_count": 24,
   "metadata": {},
   "outputs": [
    {
     "name": "stdout",
     "output_type": "stream",
     "text": [
      "[1 2] [1. 1.]\n"
     ]
    }
   ],
   "source": [
    "data = np.array([1,2])\n",
    "data_2 = np.ones(2)\n",
    "print(data, data_2)"
   ]
  },
  {
   "cell_type": "code",
   "execution_count": 30,
   "metadata": {},
   "outputs": [
    {
     "name": "stdout",
     "output_type": "stream",
     "text": [
      "[1.6 3.2]\n"
     ]
    }
   ],
   "source": [
    "print (data * 1.6)"
   ]
  },
  {
   "cell_type": "code",
   "execution_count": 32,
   "metadata": {},
   "outputs": [
    {
     "data": {
      "text/plain": [
       "array([1, 2, 3, 4])"
      ]
     },
     "execution_count": 32,
     "metadata": {},
     "output_type": "execute_result"
    }
   ],
   "source": [
    "data = np.array([1,2,3,4])\n",
    "data"
   ]
  },
  {
   "cell_type": "code",
   "execution_count": 35,
   "metadata": {},
   "outputs": [
    {
     "data": {
      "text/plain": [
       "1"
      ]
     },
     "execution_count": 35,
     "metadata": {},
     "output_type": "execute_result"
    }
   ],
   "source": [
    "data[0]"
   ]
  },
  {
   "cell_type": "code",
   "execution_count": 36,
   "metadata": {},
   "outputs": [
    {
     "data": {
      "text/plain": [
       "10"
      ]
     },
     "execution_count": 36,
     "metadata": {},
     "output_type": "execute_result"
    }
   ],
   "source": [
    "data.sum()"
   ]
  },
  {
   "cell_type": "code",
   "execution_count": 37,
   "metadata": {},
   "outputs": [
    {
     "data": {
      "text/plain": [
       "2.5"
      ]
     },
     "execution_count": 37,
     "metadata": {},
     "output_type": "execute_result"
    }
   ],
   "source": [
    "data.mean()"
   ]
  },
  {
   "cell_type": "code",
   "execution_count": 38,
   "metadata": {},
   "outputs": [
    {
     "data": {
      "text/plain": [
       "24"
      ]
     },
     "execution_count": 38,
     "metadata": {},
     "output_type": "execute_result"
    }
   ],
   "source": [
    "data.prod()"
   ]
  },
  {
   "cell_type": "code",
   "execution_count": 40,
   "metadata": {},
   "outputs": [
    {
     "data": {
      "text/plain": [
       "1.118033988749895"
      ]
     },
     "execution_count": 40,
     "metadata": {},
     "output_type": "execute_result"
    }
   ],
   "source": [
    "data.std()"
   ]
  },
  {
   "cell_type": "code",
   "execution_count": 43,
   "metadata": {},
   "outputs": [
    {
     "data": {
      "text/plain": [
       "array([[0.0878739 , 0.10261653, 0.15094933, 0.09974748, 0.83015653,\n",
       "        0.45083269, 0.02801717, 0.14388816, 0.49956954, 0.61616853],\n",
       "       [0.10601814, 0.51808803, 0.66610665, 0.12286755, 0.65597473,\n",
       "        0.26939938, 0.84260725, 0.19256042, 0.63640879, 0.28079566],\n",
       "       [0.05097292, 0.32871964, 0.55884022, 0.07663021, 0.6249195 ,\n",
       "        0.73450212, 0.93736978, 0.87130302, 0.98254673, 0.97490793],\n",
       "       [0.60003082, 0.56484488, 0.62554958, 0.08700037, 0.06405718,\n",
       "        0.42389049, 0.01073803, 0.65586793, 0.10927115, 0.82793322],\n",
       "       [0.23061439, 0.18660264, 0.63446842, 0.900539  , 0.91729922,\n",
       "        0.56202531, 0.11265336, 0.79327937, 0.25293307, 0.18198854],\n",
       "       [0.22466145, 0.82198632, 0.55257703, 0.19486352, 0.87686092,\n",
       "        0.90229751, 0.16558969, 0.05984197, 0.25867115, 0.67138334],\n",
       "       [0.47723707, 0.67484553, 0.76511775, 0.5481725 , 0.46428624,\n",
       "        0.57730896, 0.99058956, 0.85017947, 0.70608643, 0.39447503],\n",
       "       [0.27620784, 0.07140322, 0.68025418, 0.94250081, 0.64156724,\n",
       "        0.32837823, 0.85271833, 0.45060951, 0.89692028, 0.81126614],\n",
       "       [0.75130612, 0.97063128, 0.78420018, 0.24237574, 0.7677878 ,\n",
       "        0.22404601, 0.12343618, 0.78099224, 0.41169037, 0.12810257],\n",
       "       [0.3866621 , 0.55806381, 0.97405724, 0.25171791, 0.86667796,\n",
       "        0.59003903, 0.38083899, 0.18620364, 0.37191597, 0.78447307]])"
      ]
     },
     "execution_count": 43,
     "metadata": {},
     "output_type": "execute_result"
    }
   ],
   "source": [
    "np.random.random((10,10))"
   ]
  },
  {
   "cell_type": "code",
   "execution_count": 73,
   "metadata": {},
   "outputs": [
    {
     "name": "stdout",
     "output_type": "stream",
     "text": [
      "<class 'numpy.ndarray'>\n"
     ]
    },
    {
     "data": {
      "text/plain": [
       "array([[[52., 97., 97., 65., 10.],\n",
       "        [ 2., 40., 85., 72., 17.],\n",
       "        [52., 56., 50., 32., 50.],\n",
       "        [32., 14., 53., 61., 26.],\n",
       "        [21., 79., 97., 67., 56.]],\n",
       "\n",
       "       [[23., 43., 56., 61., 48.],\n",
       "        [73.,  1., 81., 24.,  5.],\n",
       "        [33., 62., 35., 53., 28.],\n",
       "        [20., 93.,  5., 79., 47.],\n",
       "        [98.,  2., 83., 70., 97.]],\n",
       "\n",
       "       [[78., 10., 41., 21., 61.],\n",
       "        [14., 46., 95., 88., 80.],\n",
       "        [20., 21., 55., 40.,  5.],\n",
       "        [56., 39., 64., 91., 23.],\n",
       "        [65., 77., 28., 33., 20.]],\n",
       "\n",
       "       [[ 7., 93., 87., 35., 10.],\n",
       "        [40., 56., 17., 81., 72.],\n",
       "        [62., 26., 81., 24., 33.],\n",
       "        [32.,  8., 33., 20., 36.],\n",
       "        [ 1., 65., 98., 28., 17.]]])"
      ]
     },
     "execution_count": 73,
     "metadata": {},
     "output_type": "execute_result"
    }
   ],
   "source": [
    "ts = np.random.random((4,5,5)).round(2)//0.01\n",
    "print(type(ts))\n",
    "ts"
   ]
  },
  {
   "cell_type": "code",
   "execution_count": 167,
   "metadata": {},
   "outputs": [
    {
     "name": "stdout",
     "output_type": "stream",
     "text": [
      "<class 'numpy.ndarray'>\n"
     ]
    },
    {
     "data": {
      "text/plain": [
       "array([[[43,  6, 84, 73, 96],\n",
       "        [72, 83, 65, 22, 80],\n",
       "        [41, 29, 18, 35, 63],\n",
       "        [85, 35, 45, 34, 62],\n",
       "        [16,  6, 58, 74, 76]],\n",
       "\n",
       "       [[21, 27, 54, 35, 19],\n",
       "        [25, 55, 38, 81, 17],\n",
       "        [84, 74, 55,  7, 45],\n",
       "        [51, 49, 14, 86, 53],\n",
       "        [59, 52, 30, 76, 66]],\n",
       "\n",
       "       [[93, 96, 89, 98, 39],\n",
       "        [ 9, 22, 97, 38, 25],\n",
       "        [ 4, 15, 55, 54, 29],\n",
       "        [58, 95, 13, 20, 86],\n",
       "        [70, 69, 53, 99, 11]],\n",
       "\n",
       "       [[23, 71, 98, 88, 31],\n",
       "        [61, 25, 99, 74, 16],\n",
       "        [89, 48, 14, 21, 55],\n",
       "        [88, 54, 17,  2, 34],\n",
       "        [90, 65, 50, 14, 79]]])"
      ]
     },
     "execution_count": 167,
     "metadata": {},
     "output_type": "execute_result"
    }
   ],
   "source": [
    "tss = np.random.randint(1, 100, size=(4,5,5))\n",
    "print(type(tss))\n",
    "tss"
   ]
  },
  {
   "cell_type": "code",
   "execution_count": 68,
   "metadata": {},
   "outputs": [
    {
     "data": {
      "text/plain": [
       "9.73967887571127"
      ]
     },
     "execution_count": 68,
     "metadata": {},
     "output_type": "execute_result"
    }
   ],
   "source": [
    "ts.sum()"
   ]
  },
  {
   "cell_type": "code",
   "execution_count": 69,
   "metadata": {},
   "outputs": [
    {
     "data": {
      "text/plain": [
       "2.63230719338754e-10"
      ]
     },
     "execution_count": 69,
     "metadata": {},
     "output_type": "execute_result"
    }
   ],
   "source": [
    "ts.prod()"
   ]
  },
  {
   "cell_type": "code",
   "execution_count": 74,
   "metadata": {},
   "outputs": [
    {
     "data": {
      "text/plain": [
       "array([[1, 2],\n",
       "       [3, 4],\n",
       "       [5, 6]])"
      ]
     },
     "execution_count": 74,
     "metadata": {},
     "output_type": "execute_result"
    }
   ],
   "source": [
    "ty = np.array([[1,2],[3,4],[5,6]])\n",
    "ty"
   ]
  },
  {
   "cell_type": "code",
   "execution_count": 195,
   "metadata": {},
   "outputs": [
    {
     "data": {
      "text/plain": [
       "array([[1, 3, 5],\n",
       "       [2, 4, 6]])"
      ]
     },
     "execution_count": 195,
     "metadata": {},
     "output_type": "execute_result"
    }
   ],
   "source": [
    "ty.T"
   ]
  },
  {
   "cell_type": "code",
   "execution_count": 168,
   "metadata": {},
   "outputs": [],
   "source": [
    "df = pd.read_csv('123.csv', sep=',')"
   ]
  }
 ],
 "metadata": {
  "kernelspec": {
   "display_name": "Python 3",
   "language": "python",
   "name": "python3"
  },
  "language_info": {
   "codemirror_mode": {
    "name": "ipython",
    "version": 3
   },
   "file_extension": ".py",
   "mimetype": "text/x-python",
   "name": "python",
   "nbconvert_exporter": "python",
   "pygments_lexer": "ipython3",
   "version": "3.7.4"
  }
 },
 "nbformat": 4,
 "nbformat_minor": 2
}
